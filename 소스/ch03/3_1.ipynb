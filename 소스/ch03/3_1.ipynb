{
 "cells": [
  {
   "cell_type": "markdown",
   "metadata": {},
   "source": [
    "### 단일층 신경망 구현"
   ]
  },
  {
   "cell_type": "markdown",
   "metadata": {},
   "source": [
    "#### 안전한 로그 연산을 위한 클리핑 "
   ]
  },
  {
   "cell_type": "code",
   "execution_count": null,
   "metadata": {},
   "outputs": [],
   "source": [
    "a = [-2,-1,0,1,2,3]\n",
    "# a = np.clip(a, 1e-10, None)\n",
    "a = np.clip(a, 1e-10, 1-1e-10)\n",
    "print(a)\n",
    "np.log(a)"
   ]
  },
  {
   "cell_type": "code",
   "execution_count": null,
   "metadata": {},
   "outputs": [],
   "source": [
    "losses = []\n",
    "\n",
    "for i in range(7):\n",
    "    losses.append(i+1)\n",
    "\n",
    "print(losses)"
   ]
  },
  {
   "cell_type": "code",
   "execution_count": null,
   "metadata": {},
   "outputs": [],
   "source": [
    "import numpy as np\n",
    "np.arange(10)"
   ]
  },
  {
   "cell_type": "code",
   "execution_count": null,
   "metadata": {},
   "outputs": [],
   "source": [
    "np.random.permutation(10)"
   ]
  },
  {
   "cell_type": "code",
   "execution_count": null,
   "metadata": {},
   "outputs": [],
   "source": [
    "a = np.array([1,2,3,4,5])\n",
    "print(a[0])        # 정수 인덱싱\n",
    "print(a[0:1])      # 슬라이싱\n",
    "print(a[[0,2,4]])  # 정수 리스트 인덱싱"
   ]
  },
  {
   "cell_type": "code",
   "execution_count": null,
   "metadata": {},
   "outputs": [],
   "source": [
    "x = np.array([3,4,2,5,1,6,23,7])\n",
    "print(x)\n",
    "indexes = np.random.permutation(len(x))\n",
    "print(indexes)\n",
    "print(x[indexes])\n",
    "print(x)"
   ]
  },
  {
   "cell_type": "code",
   "execution_count": null,
   "metadata": {},
   "outputs": [],
   "source": [
    "x = np.arange(20*10).reshape(20,10)\n",
    "# print(x)\n",
    "indexes = np.random.permutation(len(x))  # len(x) => x.shape[0]\n",
    "# print(indexes)\n",
    "print(x[indexes])"
   ]
  },
  {
   "cell_type": "code",
   "execution_count": null,
   "metadata": {},
   "outputs": [],
   "source": [
    "import numpy as np\n",
    "import matplotlib.pyplot as plt\n",
    "from sklearn.datasets import load_breast_cancer\n",
    "from sklearn.model_selection import train_test_split\n",
    "\n",
    "cancer = load_breast_cancer()\n",
    "x = cancer.data\n",
    "y = cancer.target\n",
    "x_train, x_test, y_train, y_test = train_test_split(x, y, stratify=y, \n",
    "                                                    test_size=0.2, random_state=42)\n",
    "\n",
    "class SingleLayer:\n",
    "    \n",
    "    def __init__(self, rand_flag=0):\n",
    "        self.w = None\n",
    "        self.b = None\n",
    "        self.losses = []\n",
    "        self.rand_flag = rand_flag\n",
    "\n",
    "    def forpass(self, x):\n",
    "        z = np.sum(x * self.w) + self.b  # 직선 방정식을 계산합니다\n",
    "        return z\n",
    "\n",
    "    def backprop(self, x, err):\n",
    "        w_grad = x * err    # 가중치에 대한 그래디언트를 계산합니다\n",
    "        b_grad = 1 * err    # 절편에 대한 그래디언트를 계산합니다\n",
    "        return w_grad, b_grad\n",
    "\n",
    "    def activation(self, z):\n",
    "        z = np.clip(z, -100, None) # 안전한 np.exp() 계산을 위해\n",
    "        a = 1 / (1 + np.exp(-z))  # 시그모이드 계산\n",
    "        return a\n",
    "        \n",
    "    def fit(self, x, y, epochs=100, rate=0.01):\n",
    "        self.w = np.ones(x.shape[1])               # 가중치를 초기화합니다.\n",
    "        self.b = 0                                 # 절편을 초기화합니다.\n",
    "        for i in range(epochs):                    # epochs만큼 반복합니다\n",
    "            loss = 0\n",
    "            # 인덱스를 섞습니다\n",
    "            \n",
    "            if( self.rand_flag == 1 ):\n",
    "                indexes = np.random.permutation(len(x))\n",
    "            else:\n",
    "                indexes = np.arange(len(x))\n",
    "                \n",
    "            for i in indexes:                      # 모든 샘플에 대해 반복합니다\n",
    "                z = self.forpass(x[i])             # 정방향 계산\n",
    "                a = self.activation(z)             # 활성화 함수 적용\n",
    "                err = a - y[i]                     # 오차 계산\n",
    "                w_grad, b_grad = self.backprop(x[i], err) # 역방향 계산\n",
    "                self.w -= rate*w_grad                   # 가중치 업데이트\n",
    "                self.b -= rate*b_grad                   # 절편 업데이트\n",
    "                # 안전한 로그 계산을 위해 클리핑한 후 손실을 누적합니다\n",
    "                a = np.clip(a, 1e-10, 1-1e-10)\n",
    "                loss += -(y[i]*np.log(a)+(1-y[i])*np.log(1-a))\n",
    "            # 에포크마다 평균 손실을 저장합니다\n",
    "            self.losses.append(loss/len(y))\n",
    "    \n",
    "    def predict(self, x):\n",
    "        z = [self.forpass(x_i) for x_i in x]     # 정방향 계산\n",
    "        return np.array(z) > 0                   # 스텝 함수 적용\n",
    "    \n",
    "    def score(self, x, y):\n",
    "        return np.mean(self.predict(x) == y)"
   ]
  },
  {
   "cell_type": "markdown",
   "metadata": {},
   "source": [
    "#### 데이터 랜덤 섞기 테스트"
   ]
  },
  {
   "cell_type": "code",
   "execution_count": null,
   "metadata": {
    "scrolled": true
   },
   "outputs": [],
   "source": [
    "layer1 = SingleLayer(rand_flag=0)\n",
    "layer1.fit(x_train, y_train,50)\n",
    "print(layer1.score(x_test, y_test))"
   ]
  },
  {
   "cell_type": "markdown",
   "metadata": {},
   "source": [
    "#### 손실그래프 출력"
   ]
  },
  {
   "cell_type": "code",
   "execution_count": null,
   "metadata": {
    "scrolled": true
   },
   "outputs": [],
   "source": [
    "plt.plot(layer1.losses)\n",
    "plt.xlabel('epoch')\n",
    "plt.ylabel('loss')\n",
    "plt.show()"
   ]
  },
  {
   "cell_type": "code",
   "execution_count": null,
   "metadata": {},
   "outputs": [],
   "source": [
    "layer2 = SingleLayer(rand_flag=1)\n",
    "layer2.fit(x_train, y_train,50)\n",
    "print(layer2.score(x_test, y_test))\n",
    "plt.plot(layer2.losses)\n",
    "plt.xlabel('epoch')\n",
    "plt.ylabel('loss')\n",
    "plt.show()"
   ]
  },
  {
   "cell_type": "markdown",
   "metadata": {},
   "source": [
    "#### 케라스를 이용한 구현"
   ]
  },
  {
   "cell_type": "code",
   "execution_count": null,
   "metadata": {},
   "outputs": [],
   "source": [
    "from tensorflow.keras.models import Sequential # 케라스의 Sequential()을 임포트\n",
    "from tensorflow.keras.layers import Dense      # 케라스의 Dense()를 임포트\n",
    "from tensorflow.keras import optimizers        # 케라스의 옵티마이저를 임포트\n",
    "import numpy as np # Numpy를 임포트\n",
    "import matplotlib.pyplot as plt\n",
    "\n",
    "from sklearn.datasets import load_breast_cancer\n",
    "from sklearn.model_selection import train_test_split\n",
    "\n",
    "cancer = load_breast_cancer()\n",
    "\n",
    "x = cancer.data\n",
    "y = cancer.target\n",
    "\n",
    "x_train, x_test, y_train, y_test = train_test_split(x, y, stratify=y, \n",
    "test_size=0.2, random_state=42)\n",
    "\n",
    "model=Sequential()\n",
    "model.add(Dense(1, input_dim=30, activation='sigmoid'))\n",
    "SGD=optimizers.SGD(learning_rate=0.01)\n",
    "model.compile(optimizer=SGD ,loss='binary_crossentropy',metrics=['accuracy'])\n",
    "# history = model.fit(x_train,y_train, batch_size=1, epochs=100, shuffle=False)\n",
    "history = model.fit(x_train,y_train, batch_size=1, epochs=100, shuffle=True)\n",
    "\n",
    "results = model.evaluate(x_test,  y_test, verbose=2)\n",
    "print(results[1])"
   ]
  },
  {
   "cell_type": "code",
   "execution_count": null,
   "metadata": {},
   "outputs": [],
   "source": [
    "plt.plot(history.history['loss'])\n",
    "plt.xlabel('epoch')\n",
    "plt.ylabel('loss')\n",
    "plt.show()"
   ]
  },
  {
   "cell_type": "markdown",
   "metadata": {},
   "source": [
    "### 스케일 테스트"
   ]
  },
  {
   "cell_type": "code",
   "execution_count": 76,
   "metadata": {},
   "outputs": [
    {
     "name": "stdout",
     "output_type": "stream",
     "text": [
      "['mean perimeter' 'mean area']\n"
     ]
    },
    {
     "data": {
      "image/png": "[encoded data removed]",
      "text/plain": [
       "<Figure size 432x288 with 1 Axes>"
      ]
     },
     "metadata": {
      "needs_background": "light"
     },
     "output_type": "display_data"
    }
   ],
   "source": [
    "print(cancer.feature_names[[2,3]])\n",
    "plt.boxplot(x_train[:, 2:4])\n",
    "plt.xlabel('feature')\n",
    "plt.ylabel('value')\n",
    "plt.show()"
   ]
  },
  {
   "cell_type": "code",
   "execution_count": 80,
   "metadata": {},
   "outputs": [
    {
     "name": "stdout",
     "output_type": "stream",
     "text": [
      "[100 102 104 106 108 110 112 114 116 118 120 122 124 126 128 130 132 134\n",
      " 136 138 140 142 144 146 148 150 152 154 156 158 160 162 164 166 168 170\n",
      " 172 174 176 178 180 182 184 186 188 190 192 194 196 198]\n",
      "149.0\n",
      "28.861739379323623\n",
      "[-1.69774938 -1.62845348 -1.55915759 -1.4898617  -1.4205658  -1.35126991\n",
      " -1.28197402 -1.21267813 -1.14338223 -1.07408634 -1.00479045 -0.93549455\n",
      " -0.86619866 -0.79690277 -0.72760688 -0.65831098 -0.58901509 -0.5197192\n",
      " -0.4504233  -0.38112741 -0.31183152 -0.24253563 -0.17323973 -0.10394384\n",
      " -0.03464795  0.03464795  0.10394384  0.17323973  0.24253563  0.31183152\n",
      "  0.38112741  0.4504233   0.5197192   0.58901509  0.65831098  0.72760688\n",
      "  0.79690277  0.86619866  0.93549455  1.00479045  1.07408634  1.14338223\n",
      "  1.21267813  1.28197402  1.35126991  1.4205658   1.4898617   1.55915759\n",
      "  1.62845348  1.69774938]\n",
      "0.0\n",
      "1.0\n"
     ]
    }
   ],
   "source": [
    "import numpy as np\n",
    "x_train = np.arange(100,200,2)\n",
    "print(x_train)\n",
    "\n",
    "train_mean = np.mean(x_train)\n",
    "print(train_mean)\n",
    "train_std = np.std(x_train)\n",
    "print(train_std)\n",
    "x_train_scaled = (x_train - train_mean) / train_std\n",
    "print(x_train_scaled)\n",
    "print(np.mean(x_train_scaled))\n",
    "print(np.std(x_train_scaled))"
   ]
  },
  {
   "cell_type": "code",
   "execution_count": 83,
   "metadata": {},
   "outputs": [
    {
     "name": "stdout",
     "output_type": "stream",
     "text": [
      "21\n",
      "[ 6 15]\n",
      "[5 7 9]\n"
     ]
    }
   ],
   "source": [
    "a = np.array([[1,2,3],\n",
    "              [4,5,6]])   # (2,2)\n",
    "\n",
    "print(np.sum(a))        # 21\n",
    "print(np.sum(a,axis=1)) # [6 15]\n",
    "print(np.sum(a,axis=0)) # [5 7 9]"
   ]
  },
  {
   "cell_type": "code",
   "execution_count": 90,
   "metadata": {},
   "outputs": [
    {
     "name": "stdout",
     "output_type": "stream",
     "text": [
      "[[   0  100]\n",
      " [   2  300]\n",
      " [   4  500]\n",
      " [   6  700]\n",
      " [   8  900]\n",
      " [  10 1100]\n",
      " [  12 1300]\n",
      " [  14 1500]\n",
      " [  16 1700]\n",
      " [  18 1900]]\n",
      "[   9. 1000.]\n",
      "[  5.74456265 574.45626465]\n",
      "[[-1.5666989  -1.5666989 ]\n",
      " [-1.21854359 -1.21854359]\n",
      " [-0.87038828 -0.87038828]\n",
      " [-0.52223297 -0.52223297]\n",
      " [-0.17407766 -0.17407766]\n",
      " [ 0.17407766  0.17407766]\n",
      " [ 0.52223297  0.52223297]\n",
      " [ 0.87038828  0.87038828]\n",
      " [ 1.21854359  1.21854359]\n",
      " [ 1.5666989   1.5666989 ]]\n",
      "[-1.11022302e-16 -4.44089210e-17]\n",
      "[1. 1.]\n"
     ]
    }
   ],
   "source": [
    "import numpy as np\n",
    "x_train = np.arange(10*2).reshape(10,2)\n",
    "# print(x_train)\n",
    "x_train[:,1] *= 100\n",
    "print(x_train)\n",
    "train_mean = np.mean(x_train, axis=0)\n",
    "print(train_mean)\n",
    "train_std = np.std(x_train, axis=0)\n",
    "print(train_std)\n",
    "x_train_scaled = (x_train - train_mean) / train_std\n",
    "print(x_train_scaled)\n",
    "print(np.mean(x_train_scaled, axis=0))\n",
    "print(np.std(x_train_scaled, axis=0))"
   ]
  },
  {
   "cell_type": "code",
   "execution_count": 91,
   "metadata": {
    "scrolled": true
   },
   "outputs": [
    {
     "name": "stdout",
     "output_type": "stream",
     "text": [
      "['mean perimeter' 'mean area']\n"
     ]
    },
    {
     "data": {
      "image/png": "[encoded data removed]",
      "text/plain": [
       "<Figure size 432x288 with 1 Axes>"
      ]
     },
     "metadata": {
      "needs_background": "light"
     },
     "output_type": "display_data"
    }
   ],
   "source": [
    "import numpy as np\n",
    "import matplotlib.pyplot as plt\n",
    "\n",
    "from sklearn.datasets import load_breast_cancer\n",
    "from sklearn.model_selection import train_test_split\n",
    "cancer = load_breast_cancer()\n",
    "\n",
    "x = cancer.data\n",
    "y = cancer.target\n",
    "x_train, x_test, y_train, y_test = train_test_split(x, y, stratify=y, \n",
    "                                                            test_size=0.2, random_state=42)\n",
    "print(cancer.feature_names[[2,3]])\n",
    "plt.boxplot(x_train[:, 2:4])\n",
    "plt.xlabel('feature')\n",
    "plt.ylabel('value')\n",
    "plt.show()"
   ]
  },
  {
   "cell_type": "code",
   "execution_count": 92,
   "metadata": {},
   "outputs": [
    {
     "name": "stdout",
     "output_type": "stream",
     "text": [
      "455 114\n"
     ]
    }
   ],
   "source": [
    "import numpy as np\n",
    "import matplotlib.pyplot as plt\n",
    "\n",
    "from sklearn.datasets import load_breast_cancer\n",
    "from sklearn.model_selection import train_test_split\n",
    "cancer = load_breast_cancer()\n",
    "x = cancer.data\n",
    "y = cancer.target\n",
    "x_train, x_test, y_train, y_test = train_test_split(x, y, stratify=y, \n",
    "                                                            test_size=0.2, random_state=42)\n",
    "\n",
    "print(len(x_train), len(x_test))"
   ]
  },
  {
   "cell_type": "code",
   "execution_count": 93,
   "metadata": {},
   "outputs": [],
   "source": [
    "class SingleLayer:\n",
    "    \n",
    "    def __init__(self, learning_rate=0.1):\n",
    "        self.w = None\n",
    "        self.b = None\n",
    "        self.losses = []\n",
    "        self.w_history = []\n",
    "        self.lr = learning_rate\n",
    "\n",
    "    def forpass(self, x):\n",
    "        z = np.sum(x * self.w) + self.b    # 직선 방정식을 계산합니다\n",
    "        return z\n",
    "\n",
    "    def backprop(self, x, err):\n",
    "        w_grad = x * err          # 가중치에 대한 그래디언트를 계산합니다\n",
    "        b_grad = 1 * err    # 절편에 대한 그래디언트를 계산합니다\n",
    "        return w_grad, b_grad\n",
    "\n",
    "    def activation(self, z):\n",
    "        z = np.clip(z, -100, None) # 안전한 np.exp() 계산을 위해\n",
    "        a = 1 / (1 + np.exp(-z))  # 시그모이드 계산\n",
    "        return a\n",
    "        \n",
    "    def fit(self, x, y, epochs=100, x_val=None, y_val=None):\n",
    "        self.w = np.ones(x.shape[1])               # 가중치를 초기화합니다.\n",
    "        self.b = 0                                 # 절편을 초기화합니다.\n",
    "        self.w_history.append(self.w.copy())       # 가중치를 기록합니다.\n",
    "        np.random.seed(42)                         # 랜덤 시드를 지정합니다.\n",
    "        for i in range(epochs):                    # epochs만큼 반복합니다.\n",
    "            loss = 0\n",
    "            # 인덱스를 섞습니다\n",
    "            indexes = np.random.permutation(np.arange(len(x)))\n",
    "            for i in indexes:                      # 모든 샘플에 대해 반복합니다\n",
    "                z = self.forpass(x[i])             # 정방향 계산\n",
    "                a = self.activation(z)             # 활성화 함수 적용\n",
    "                err = (a - y[i])                  # 오차 계산\n",
    "                w_grad, b_grad = self.backprop(x[i], err) # 역방향 계산\n",
    "                self.w -= self.lr * w_grad         # 가중치 업데이트\n",
    "                self.b -= b_grad                   # 절편 업데이트\n",
    "                # 가중치를 기록합니다.\n",
    "                self.w_history.append(self.w.copy())\n",
    "                # 안전한 로그 계산을 위해 클리핑한 후 손실을 누적합니다\n",
    "                a = np.clip(a, 1e-10, 1-1e-10)\n",
    "                loss += -(y[i]*np.log(a)+(1-y[i])*np.log(1-a))\n",
    "            # 에포크마다 평균 손실을 저장합니다\n",
    "            self.losses.append(loss/len(y))\n",
    "    \n",
    "    def predict(self, x):\n",
    "        z = [self.forpass(x_i) for x_i in x]     # 정방향 계산\n",
    "        return np.array(z) >= 0                   # 스텝 함수 적용\n",
    "    \n",
    "    def score(self, x, y):\n",
    "        return np.mean(self.predict(x) == y)\n",
    "    "
   ]
  },
  {
   "cell_type": "code",
   "execution_count": 94,
   "metadata": {},
   "outputs": [
    {
     "data": {
      "text/plain": [
       "0.9210526315789473"
      ]
     },
     "execution_count": 94,
     "metadata": {},
     "output_type": "execute_result"
    }
   ],
   "source": [
    "layer1 = SingleLayer()\n",
    "layer1.fit(x_train, y_train)\n",
    "layer1.score(x_test, y_test)"
   ]
  },
  {
   "cell_type": "code",
   "execution_count": 95,
   "metadata": {},
   "outputs": [
    {
     "data": {
      "image/png": "[encoded data removed]",
      "text/plain": [
       "<Figure size 432x288 with 1 Axes>"
      ]
     },
     "metadata": {
      "needs_background": "light"
     },
     "output_type": "display_data"
    }
   ],
   "source": [
    "w2 = []\n",
    "w3 = []\n",
    "for w in layer1.w_history:\n",
    "    w2.append(w[2])\n",
    "    w3.append(w[3])\n",
    "plt.plot(w2, w3)\n",
    "plt.plot(w2[-1], w3[-1], 'ro')\n",
    "plt.xlabel('w[2]')\n",
    "plt.ylabel('w[3]')\n",
    "plt.show()"
   ]
  },
  {
   "cell_type": "code",
   "execution_count": 96,
   "metadata": {},
   "outputs": [],
   "source": [
    "train_mean = np.mean(x_train, axis=0)\n",
    "train_std = np.std(x_train, axis=0)\n",
    "x_train_scaled = (x_train - train_mean) / train_std"
   ]
  },
  {
   "cell_type": "code",
   "execution_count": 97,
   "metadata": {},
   "outputs": [],
   "source": [
    "layer2 = SingleLayer()\n",
    "layer2.fit(x_train_scaled, y_train)"
   ]
  },
  {
   "cell_type": "code",
   "execution_count": 98,
   "metadata": {},
   "outputs": [
    {
     "data": {
      "image/png": "[encoded data removed]",
      "text/plain": [
       "<Figure size 432x288 with 1 Axes>"
      ]
     },
     "metadata": {
      "needs_background": "light"
     },
     "output_type": "display_data"
    }
   ],
   "source": [
    "w2 = []\n",
    "w3 = []\n",
    "for w in layer2.w_history:\n",
    "    w2.append(w[2])\n",
    "    w3.append(w[3])\n",
    "plt.plot(w2, w3)\n",
    "plt.plot(w2[-1], w3[-1], 'ro')\n",
    "plt.xlabel('w[2]')\n",
    "plt.ylabel('w[3]')\n",
    "plt.show()"
   ]
  },
  {
   "cell_type": "code",
   "execution_count": 99,
   "metadata": {},
   "outputs": [],
   "source": [
    "x_test_scaled = (x_test - train_mean) / train_std"
   ]
  },
  {
   "cell_type": "code",
   "execution_count": 100,
   "metadata": {
    "scrolled": true
   },
   "outputs": [
    {
     "data": {
      "text/plain": [
       "0.9649122807017544"
      ]
     },
     "execution_count": 100,
     "metadata": {},
     "output_type": "execute_result"
    }
   ],
   "source": [
    "layer2.score(x_test_scaled, y_test)"
   ]
  },
  {
   "cell_type": "markdown",
   "metadata": {},
   "source": [
    "#### 케라스를 이용한 스케일링 테스트"
   ]
  },
  {
   "cell_type": "code",
   "execution_count": 103,
   "metadata": {},
   "outputs": [
    {
     "name": "stdout",
     "output_type": "stream",
     "text": [
      "Epoch 1/100\n",
      "455/455 [==============================] - 0s 507us/step - loss: 0.2094 - accuracy: 0.9319\n",
      "Epoch 2/100\n",
      "455/455 [==============================] - 0s 509us/step - loss: 0.1121 - accuracy: 0.9758\n",
      "Epoch 3/100\n",
      "455/455 [==============================] - 0s 485us/step - loss: 0.0949 - accuracy: 0.9758\n",
      "Epoch 4/100\n",
      "455/455 [==============================] - 0s 495us/step - loss: 0.0865 - accuracy: 0.9758\n",
      "Epoch 5/100\n",
      "455/455 [==============================] - 0s 492us/step - loss: 0.0809 - accuracy: 0.9824\n",
      "Epoch 6/100\n",
      "455/455 [==============================] - 0s 511us/step - loss: 0.0768 - accuracy: 0.9802\n",
      "Epoch 7/100\n",
      "455/455 [==============================] - 0s 482us/step - loss: 0.0739 - accuracy: 0.9846\n",
      "Epoch 8/100\n",
      "455/455 [==============================] - 0s 482us/step - loss: 0.0715 - accuracy: 0.9868\n",
      "Epoch 9/100\n",
      "455/455 [==============================] - 0s 478us/step - loss: 0.0694 - accuracy: 0.9868\n",
      "Epoch 10/100\n",
      "455/455 [==============================] - 0s 512us/step - loss: 0.0680 - accuracy: 0.9868\n",
      "Epoch 11/100\n",
      "455/455 [==============================] - 0s 499us/step - loss: 0.0666 - accuracy: 0.9868\n",
      "Epoch 12/100\n",
      "455/455 [==============================] - 0s 487us/step - loss: 0.0653 - accuracy: 0.9868\n",
      "Epoch 13/100\n",
      "455/455 [==============================] - 0s 484us/step - loss: 0.0643 - accuracy: 0.9868\n",
      "Epoch 14/100\n",
      "455/455 [==============================] - 0s 509us/step - loss: 0.0633 - accuracy: 0.9868\n",
      "Epoch 15/100\n",
      "455/455 [==============================] - 0s 500us/step - loss: 0.0624 - accuracy: 0.9868\n",
      "Epoch 16/100\n",
      "455/455 [==============================] - 0s 482us/step - loss: 0.0617 - accuracy: 0.9868\n",
      "Epoch 17/100\n",
      "455/455 [==============================] - 0s 499us/step - loss: 0.0610 - accuracy: 0.9890\n",
      "Epoch 18/100\n",
      "455/455 [==============================] - 0s 490us/step - loss: 0.0604 - accuracy: 0.9868\n",
      "Epoch 19/100\n",
      "455/455 [==============================] - 0s 490us/step - loss: 0.0597 - accuracy: 0.9868\n",
      "Epoch 20/100\n",
      "455/455 [==============================] - 0s 473us/step - loss: 0.0592 - accuracy: 0.9890\n",
      "Epoch 21/100\n",
      "455/455 [==============================] - 0s 509us/step - loss: 0.0587 - accuracy: 0.9868\n",
      "Epoch 22/100\n",
      "455/455 [==============================] - 0s 502us/step - loss: 0.0581 - accuracy: 0.9890\n",
      "Epoch 23/100\n",
      "455/455 [==============================] - 0s 494us/step - loss: 0.0578 - accuracy: 0.9890\n",
      "Epoch 24/100\n",
      "455/455 [==============================] - 0s 514us/step - loss: 0.0573 - accuracy: 0.9868\n",
      "Epoch 25/100\n",
      "455/455 [==============================] - 0s 498us/step - loss: 0.0569 - accuracy: 0.9890\n",
      "Epoch 26/100\n",
      "455/455 [==============================] - 0s 493us/step - loss: 0.0566 - accuracy: 0.9890\n",
      "Epoch 27/100\n",
      "455/455 [==============================] - 0s 508us/step - loss: 0.0562 - accuracy: 0.9890\n",
      "Epoch 28/100\n",
      "455/455 [==============================] - 0s 490us/step - loss: 0.0559 - accuracy: 0.9890\n",
      "Epoch 29/100\n",
      "455/455 [==============================] - 0s 497us/step - loss: 0.0556 - accuracy: 0.9890\n",
      "Epoch 30/100\n",
      "455/455 [==============================] - 0s 520us/step - loss: 0.0553 - accuracy: 0.9890\n",
      "Epoch 31/100\n",
      "455/455 [==============================] - 0s 520us/step - loss: 0.0549 - accuracy: 0.9890\n",
      "Epoch 32/100\n",
      "455/455 [==============================] - 0s 488us/step - loss: 0.0547 - accuracy: 0.9890\n",
      "Epoch 33/100\n",
      "455/455 [==============================] - 0s 498us/step - loss: 0.0545 - accuracy: 0.9890\n",
      "Epoch 34/100\n",
      "455/455 [==============================] - 0s 486us/step - loss: 0.0542 - accuracy: 0.9890\n",
      "Epoch 35/100\n",
      "455/455 [==============================] - 0s 495us/step - loss: 0.0540 - accuracy: 0.9890\n",
      "Epoch 36/100\n",
      "455/455 [==============================] - 0s 507us/step - loss: 0.0538 - accuracy: 0.9890\n",
      "Epoch 37/100\n",
      "455/455 [==============================] - 0s 499us/step - loss: 0.0535 - accuracy: 0.9890\n",
      "Epoch 38/100\n",
      "455/455 [==============================] - 0s 495us/step - loss: 0.0533 - accuracy: 0.9890\n",
      "Epoch 39/100\n",
      "455/455 [==============================] - 0s 484us/step - loss: 0.0531 - accuracy: 0.9890\n",
      "Epoch 40/100\n",
      "455/455 [==============================] - 0s 518us/step - loss: 0.0529 - accuracy: 0.9890\n",
      "Epoch 41/100\n",
      "455/455 [==============================] - 0s 488us/step - loss: 0.0527 - accuracy: 0.9890\n",
      "Epoch 42/100\n",
      "455/455 [==============================] - 0s 534us/step - loss: 0.0525 - accuracy: 0.9890\n",
      "Epoch 43/100\n",
      "455/455 [==============================] - 0s 513us/step - loss: 0.0523 - accuracy: 0.9868\n",
      "Epoch 44/100\n",
      "455/455 [==============================] - 0s 496us/step - loss: 0.0522 - accuracy: 0.9890\n",
      "Epoch 45/100\n",
      "455/455 [==============================] - 0s 504us/step - loss: 0.0520 - accuracy: 0.9890\n",
      "Epoch 46/100\n",
      "455/455 [==============================] - 0s 521us/step - loss: 0.0518 - accuracy: 0.9890\n",
      "Epoch 47/100\n",
      "455/455 [==============================] - 0s 519us/step - loss: 0.0516 - accuracy: 0.9890\n",
      "Epoch 48/100\n",
      "455/455 [==============================] - 0s 511us/step - loss: 0.0515 - accuracy: 0.9890\n",
      "Epoch 49/100\n",
      "455/455 [==============================] - 0s 525us/step - loss: 0.0513 - accuracy: 0.9890\n",
      "Epoch 50/100\n",
      "455/455 [==============================] - 0s 512us/step - loss: 0.0512 - accuracy: 0.9890\n",
      "Epoch 51/100\n",
      "455/455 [==============================] - 0s 498us/step - loss: 0.0510 - accuracy: 0.9890\n",
      "Epoch 52/100\n",
      "455/455 [==============================] - 0s 513us/step - loss: 0.0508 - accuracy: 0.9890\n",
      "Epoch 53/100\n",
      "455/455 [==============================] - 0s 490us/step - loss: 0.0509 - accuracy: 0.9890\n",
      "Epoch 54/100\n",
      "455/455 [==============================] - 0s 503us/step - loss: 0.0506 - accuracy: 0.9890\n",
      "Epoch 55/100\n",
      "455/455 [==============================] - 0s 523us/step - loss: 0.0506 - accuracy: 0.9890\n",
      "Epoch 56/100\n",
      "455/455 [==============================] - 0s 521us/step - loss: 0.0504 - accuracy: 0.9890\n",
      "Epoch 57/100\n",
      "455/455 [==============================] - 0s 506us/step - loss: 0.0503 - accuracy: 0.9890\n",
      "Epoch 58/100\n",
      "455/455 [==============================] - 0s 503us/step - loss: 0.0502 - accuracy: 0.9890\n",
      "Epoch 59/100\n",
      "455/455 [==============================] - 0s 520us/step - loss: 0.0501 - accuracy: 0.9890\n",
      "Epoch 60/100\n",
      "455/455 [==============================] - 0s 498us/step - loss: 0.0500 - accuracy: 0.9890\n",
      "Epoch 61/100\n",
      "455/455 [==============================] - 0s 493us/step - loss: 0.0499 - accuracy: 0.9890\n",
      "Epoch 62/100\n",
      "455/455 [==============================] - 0s 501us/step - loss: 0.0497 - accuracy: 0.9890\n",
      "Epoch 63/100\n",
      "455/455 [==============================] - 0s 508us/step - loss: 0.0496 - accuracy: 0.9890\n",
      "Epoch 64/100\n",
      "455/455 [==============================] - 0s 525us/step - loss: 0.0495 - accuracy: 0.9890\n",
      "Epoch 65/100\n",
      "455/455 [==============================] - 0s 527us/step - loss: 0.0494 - accuracy: 0.9890\n",
      "Epoch 66/100\n",
      "455/455 [==============================] - 0s 528us/step - loss: 0.0493 - accuracy: 0.9890\n",
      "Epoch 67/100\n",
      "455/455 [==============================] - 0s 520us/step - loss: 0.0492 - accuracy: 0.9890\n",
      "Epoch 68/100\n",
      "455/455 [==============================] - 0s 517us/step - loss: 0.0491 - accuracy: 0.9890\n",
      "Epoch 69/100\n",
      "455/455 [==============================] - 0s 521us/step - loss: 0.0490 - accuracy: 0.9890\n",
      "Epoch 70/100\n",
      "455/455 [==============================] - 0s 517us/step - loss: 0.0489 - accuracy: 0.9890\n",
      "Epoch 71/100\n",
      "455/455 [==============================] - 0s 505us/step - loss: 0.0489 - accuracy: 0.9890\n",
      "Epoch 72/100\n",
      "455/455 [==============================] - 0s 487us/step - loss: 0.0488 - accuracy: 0.9890\n",
      "Epoch 73/100\n",
      "455/455 [==============================] - 0s 488us/step - loss: 0.0487 - accuracy: 0.9890\n",
      "Epoch 74/100\n",
      "455/455 [==============================] - 0s 483us/step - loss: 0.0486 - accuracy: 0.9890\n",
      "Epoch 75/100\n",
      "455/455 [==============================] - 0s 498us/step - loss: 0.0485 - accuracy: 0.9890\n",
      "Epoch 76/100\n",
      "455/455 [==============================] - 0s 490us/step - loss: 0.0484 - accuracy: 0.9890\n",
      "Epoch 77/100\n",
      "455/455 [==============================] - 0s 492us/step - loss: 0.0484 - accuracy: 0.9890\n",
      "Epoch 78/100\n",
      "455/455 [==============================] - 0s 482us/step - loss: 0.0482 - accuracy: 0.9890\n",
      "Epoch 79/100\n"
     ]
    },
    {
     "name": "stdout",
     "output_type": "stream",
     "text": [
      "455/455 [==============================] - 0s 482us/step - loss: 0.0482 - accuracy: 0.9890\n",
      "Epoch 80/100\n",
      "455/455 [==============================] - 0s 495us/step - loss: 0.0481 - accuracy: 0.9890\n",
      "Epoch 81/100\n",
      "455/455 [==============================] - 0s 490us/step - loss: 0.0480 - accuracy: 0.9890\n",
      "Epoch 82/100\n",
      "455/455 [==============================] - 0s 486us/step - loss: 0.0480 - accuracy: 0.9890\n",
      "Epoch 83/100\n",
      "455/455 [==============================] - 0s 497us/step - loss: 0.0478 - accuracy: 0.9890\n",
      "Epoch 84/100\n",
      "455/455 [==============================] - 0s 491us/step - loss: 0.0478 - accuracy: 0.9890\n",
      "Epoch 85/100\n",
      "455/455 [==============================] - 0s 501us/step - loss: 0.0477 - accuracy: 0.9890\n",
      "Epoch 86/100\n",
      "455/455 [==============================] - 0s 479us/step - loss: 0.0477 - accuracy: 0.9890\n",
      "Epoch 87/100\n",
      "455/455 [==============================] - 0s 473us/step - loss: 0.0476 - accuracy: 0.9890\n",
      "Epoch 88/100\n",
      "455/455 [==============================] - 0s 484us/step - loss: 0.0475 - accuracy: 0.9890\n",
      "Epoch 89/100\n",
      "455/455 [==============================] - 0s 495us/step - loss: 0.0475 - accuracy: 0.9890\n",
      "Epoch 90/100\n",
      "455/455 [==============================] - 0s 474us/step - loss: 0.0474 - accuracy: 0.9890\n",
      "Epoch 91/100\n",
      "455/455 [==============================] - 0s 480us/step - loss: 0.0473 - accuracy: 0.9890\n",
      "Epoch 92/100\n",
      "455/455 [==============================] - 0s 491us/step - loss: 0.0472 - accuracy: 0.9890\n",
      "Epoch 93/100\n",
      "455/455 [==============================] - 0s 483us/step - loss: 0.0472 - accuracy: 0.9890\n",
      "Epoch 94/100\n",
      "455/455 [==============================] - 0s 492us/step - loss: 0.0472 - accuracy: 0.9890\n",
      "Epoch 95/100\n",
      "455/455 [==============================] - 0s 483us/step - loss: 0.0471 - accuracy: 0.9890\n",
      "Epoch 96/100\n",
      "455/455 [==============================] - 0s 487us/step - loss: 0.0470 - accuracy: 0.9890\n",
      "Epoch 97/100\n",
      "455/455 [==============================] - 0s 489us/step - loss: 0.0470 - accuracy: 0.9890\n",
      "Epoch 98/100\n",
      "455/455 [==============================] - 0s 499us/step - loss: 0.0469 - accuracy: 0.9890\n",
      "Epoch 99/100\n",
      "455/455 [==============================] - 0s 486us/step - loss: 0.0468 - accuracy: 0.9890\n",
      "Epoch 100/100\n",
      "455/455 [==============================] - 0s 490us/step - loss: 0.0468 - accuracy: 0.9890\n",
      "4/4 - 0s - loss: 0.0741 - accuracy: 0.9649 - 225ms/epoch - 56ms/step\n",
      "0.9649122953414917\n"
     ]
    }
   ],
   "source": [
    "from tensorflow.keras.models import Sequential # 케라스의 Sequential()을 임포트\n",
    "from tensorflow.keras.layers import Dense      # 케라스의 Dense()를 임포트\n",
    "from tensorflow.keras import optimizers        # 케라스의 옵티마이저를 임포트\n",
    "import numpy as np # Numpy를 임포트\n",
    "import matplotlib.pyplot as plt\n",
    "\n",
    "from sklearn.datasets import load_breast_cancer\n",
    "from sklearn.model_selection import train_test_split\n",
    "\n",
    "from tensorflow.keras.layers.experimental import preprocessing\n",
    "\n",
    "cancer = load_breast_cancer()\n",
    "\n",
    "x = cancer.data\n",
    "y = cancer.target\n",
    "\n",
    "x_train, x_test, y_train, y_test = train_test_split(x, y, stratify=y, \n",
    "test_size=0.2, random_state=42)\n",
    "\n",
    "layer = preprocessing.Normalization()\n",
    "layer.adapt(x_train) # 메서드를 통해 전처리 레이어의 상태를 훈련 데이터에 노출함으로써 상태를 설정할 수 있습니다.\n",
    "# normalized_data = layer(x_train)\n",
    "\n",
    "# print(\"Features mean: %.2f\" % (normalized_data.numpy().mean()))\n",
    "# print(\"Features std: %.2f\" % (normalized_data.numpy().std()))\n",
    "\n",
    "model=Sequential()\n",
    "model.add(layer)\n",
    "model.add(Dense(1, input_dim=30, activation='sigmoid'))\n",
    "SGD=optimizers.SGD(learning_rate=0.01)\n",
    "model.compile(optimizer=SGD ,loss='binary_crossentropy',metrics=['accuracy'])\n",
    "history = model.fit(x_train,y_train, batch_size=1, epochs=100, shuffle=True)\n",
    "\n",
    "results = model.evaluate(x_test,  y_test, verbose=2)\n",
    "print(results[1])"
   ]
  },
  {
   "cell_type": "code",
   "execution_count": null,
   "metadata": {},
   "outputs": [],
   "source": []
  }
 ],
 "metadata": {
  "kernelspec": {
   "display_name": "Python 3 (ipykernel)",
   "language": "python",
   "name": "python3"
  },
  "language_info": {
   "codemirror_mode": {
    "name": "ipython",
    "version": 3
   },
   "file_extension": ".py",
   "mimetype": "text/x-python",
   "name": "python",
   "nbconvert_exporter": "python",
   "pygments_lexer": "ipython3",
   "version": "3.9.7"
  }
 },
 "nbformat": 4,
 "nbformat_minor": 4
}
