{
 "cells": [
  {
   "cell_type": "markdown",
   "metadata": {},
   "source": [
    "### 합성곱 신경망(CNN)"
   ]
  },
  {
   "cell_type": "code",
   "execution_count": 49,
   "metadata": {},
   "outputs": [],
   "source": [
    "import numpy as np\n",
    "x = np.array([2, 8, 3, 7, 1, 2, 0, 4, 5])\n",
    "w = np.array([2, 1, 5, 3])"
   ]
  },
  {
   "cell_type": "code",
   "execution_count": 50,
   "metadata": {},
   "outputs": [
    {
     "name": "stdout",
     "output_type": "stream",
     "text": [
      "[3 5 1 2]\n"
     ]
    }
   ],
   "source": [
    "w_r = w[::-1]\n",
    "print(w_r)"
   ]
  },
  {
   "cell_type": "code",
   "execution_count": 51,
   "metadata": {},
   "outputs": [
    {
     "name": "stdout",
     "output_type": "stream",
     "text": [
      "[3 5 1 2]\n"
     ]
    }
   ],
   "source": [
    "w_r = np.flip(w)\n",
    "print(w_r)"
   ]
  },
  {
   "cell_type": "code",
   "execution_count": 57,
   "metadata": {},
   "outputs": [
    {
     "name": "stdout",
     "output_type": "stream",
     "text": [
      "9\n",
      "4\n",
      "6\n",
      "[63] [48] [49] [28] [21] [20] "
     ]
    }
   ],
   "source": [
    "N = len(x)\n",
    "print(N)\n",
    "F = len(w_r)\n",
    "print(F)\n",
    "O = N - F + 1\n",
    "print(O)\n",
    "for i in range(O):\n",
    "    print(np.dot(x[i:i+4], w_r.reshape(-1,1)), end=' ')  # (4,)(4,1) => (1,)\n",
    "#     print(np.dot(x[i:i+4], w_r), end=' ')  # (4,)(4,) => () 스칼라\n",
    "#    print(np.sum(x[i:i+4]*w_r), end=' ')  # (4,)(4,) => () 스칼라"
   ]
  },
  {
   "cell_type": "code",
   "execution_count": 58,
   "metadata": {},
   "outputs": [
    {
     "data": {
      "text/plain": [
       "array([63, 48, 49, 28, 21, 20])"
      ]
     },
     "execution_count": 58,
     "metadata": {},
     "output_type": "execute_result"
    }
   ],
   "source": [
    "from scipy.signal import convolve\n",
    "convolve(x, w, mode='valid')"
   ]
  },
  {
   "cell_type": "code",
   "execution_count": 59,
   "metadata": {},
   "outputs": [
    {
     "data": {
      "text/plain": [
       "array([48, 57, 24, 25, 16, 39])"
      ]
     },
     "execution_count": 59,
     "metadata": {},
     "output_type": "execute_result"
    }
   ],
   "source": [
    "from scipy.signal import correlate\n",
    "correlate(x, w, mode='valid')"
   ]
  },
  {
   "cell_type": "code",
   "execution_count": 60,
   "metadata": {},
   "outputs": [
    {
     "data": {
      "text/plain": [
       "array([ 6, 34, 51, 48, 57, 24, 25, 16, 39, 29, 13, 10])"
      ]
     },
     "execution_count": 60,
     "metadata": {},
     "output_type": "execute_result"
    }
   ],
   "source": [
    "from scipy.signal import correlate\n",
    "correlate(x, w, mode='full')"
   ]
  },
  {
   "cell_type": "code",
   "execution_count": 61,
   "metadata": {},
   "outputs": [
    {
     "data": {
      "text/plain": [
       "array([34, 51, 48, 57, 24, 25, 16, 39, 29])"
      ]
     },
     "execution_count": 61,
     "metadata": {},
     "output_type": "execute_result"
    }
   ],
   "source": [
    "from scipy.signal import correlate\n",
    "correlate(x, w, mode='same')"
   ]
  },
  {
   "cell_type": "code",
   "execution_count": 62,
   "metadata": {},
   "outputs": [
    {
     "data": {
      "text/plain": [
       "array([[ 2,  4],\n",
       "       [ 8, 10]])"
      ]
     },
     "execution_count": 62,
     "metadata": {},
     "output_type": "execute_result"
    }
   ],
   "source": [
    "import numpy as np\n",
    "x = np.array([[1, 2, 3],\n",
    "              [4, 5, 6],\n",
    "              [7, 8, 9]])\n",
    "w = np.array([[2, 0], \n",
    "              [0, 0]])\n",
    "from scipy.signal import correlate2d\n",
    "correlate2d(x, w, mode='valid')"
   ]
  },
  {
   "cell_type": "code",
   "execution_count": 63,
   "metadata": {},
   "outputs": [
    {
     "data": {
      "text/plain": [
       "array([[ 2,  4,  6],\n",
       "       [ 8, 10, 12],\n",
       "       [14, 16, 18]])"
      ]
     },
     "execution_count": 63,
     "metadata": {},
     "output_type": "execute_result"
    }
   ],
   "source": [
    "x = np.array([[1, 2, 3],\n",
    "              [4, 5, 6],\n",
    "              [7, 8, 9]])\n",
    "w = np.array([[2, 0], \n",
    "              [0, 0]])\n",
    "from scipy.signal import correlate2d\n",
    "correlate2d(x, w, mode='same')"
   ]
  },
  {
   "cell_type": "code",
   "execution_count": 64,
   "metadata": {},
   "outputs": [
    {
     "name": "stdout",
     "output_type": "stream",
     "text": [
      "[[ 0  1  2  3  4  5  6]\n",
      " [ 7  8  9 10 11 12 13]\n",
      " [14 15 16 17 18 19 20]\n",
      " [21 22 23 24 25 26 27]\n",
      " [28 29 30 31 32 33 34]\n",
      " [35 36 37 38 39 40 41]\n",
      " [42 43 44 45 46 47 48]]\n",
      "[[1. 1. 1.]\n",
      " [1. 1. 1.]\n",
      " [1. 1. 1.]]\n"
     ]
    },
    {
     "data": {
      "text/plain": [
       "array([[ 72.,  81.,  90.,  99., 108.],\n",
       "       [135., 144., 153., 162., 171.],\n",
       "       [198., 207., 216., 225., 234.],\n",
       "       [261., 270., 279., 288., 297.],\n",
       "       [324., 333., 342., 351., 360.]])"
      ]
     },
     "execution_count": 64,
     "metadata": {},
     "output_type": "execute_result"
    }
   ],
   "source": [
    "x = np.arange(7*7).reshape(7,7)\n",
    "print(x)\n",
    "w = np.ones((3,3))\n",
    "print(w)\n",
    "from scipy.signal import correlate2d\n",
    "correlate2d(x, w, mode='valid')"
   ]
  },
  {
   "cell_type": "markdown",
   "metadata": {},
   "source": [
    "### 렐루 함수"
   ]
  },
  {
   "cell_type": "code",
   "execution_count": null,
   "metadata": {},
   "outputs": [],
   "source": [
    "import numpy as np\n",
    "import matplotlib.pyplot as plt\n",
    "\n",
    "def relu(x):\n",
    "    return np.maximum(0,x)\n",
    "\n",
    "# x = np.array([-1,3,4,5,-2,3,4,5])\n",
    "# y = relu(x)\n",
    "# print(y)\n",
    "\n",
    "x = np.arange(-5, 5, 0.01)\n",
    "y = relu(x)\n",
    "plt.plot(x,y)\n",
    "plt.show()"
   ]
  },
  {
   "cell_type": "markdown",
   "metadata": {},
   "source": [
    "### 합성곱 연산"
   ]
  },
  {
   "cell_type": "code",
   "execution_count": 65,
   "metadata": {},
   "outputs": [
    {
     "name": "stdout",
     "output_type": "stream",
     "text": [
      "[1 2 3 4]\n",
      "(4,)\n"
     ]
    }
   ],
   "source": [
    "a = np.array([1,2,3,4])\n",
    "print(a)\n",
    "print(a.shape)"
   ]
  },
  {
   "cell_type": "code",
   "execution_count": 66,
   "metadata": {},
   "outputs": [
    {
     "name": "stdout",
     "output_type": "stream",
     "text": [
      "tf.Tensor([1 2 3 4], shape=(4,), dtype=int32)\n",
      "(4,)\n"
     ]
    }
   ],
   "source": [
    "import tensorflow as tf\n",
    "a = tf.constant([1,2,3,4])\n",
    "print(a)\n",
    "print(a.shape)"
   ]
  },
  {
   "cell_type": "code",
   "execution_count": 67,
   "metadata": {},
   "outputs": [
    {
     "name": "stdout",
     "output_type": "stream",
     "text": [
      "tf.Tensor([1 2 3 4], shape=(4,), dtype=int32)\n",
      "(4,)\n",
      "[1 2 3 4]\n"
     ]
    }
   ],
   "source": [
    "a = np.array([1,2,3,4])\n",
    "b = tf.constant(a)\n",
    "print(b)\n",
    "print(b.shape)\n",
    "print(b.numpy())"
   ]
  },
  {
   "cell_type": "code",
   "execution_count": 73,
   "metadata": {},
   "outputs": [
    {
     "name": "stdout",
     "output_type": "stream",
     "text": [
      "(1, 3, 3, 1)\n",
      "(3, 3)\n",
      "[[1. 2. 3.]\n",
      " [4. 5. 6.]\n",
      " [7. 8. 9.]]\n"
     ]
    },
    {
     "data": {
      "image/png": "[encoded data removed]",
      "text/plain": [
       "<Figure size 432x288 with 1 Axes>"
      ]
     },
     "metadata": {
      "needs_background": "light"
     },
     "output_type": "display_data"
    }
   ],
   "source": [
    "import tensorflow as tf\n",
    "import numpy as np\n",
    "from tensorflow.keras.layers import *\n",
    "import matplotlib.pyplot as plt\n",
    "image = tf.constant([[[[1],[2],[3]],\n",
    "                      [[4],[5],[6]],\n",
    "                      [[7],[8],[9]]]], dtype=np.float32)\n",
    "print(image.shape)\n",
    "# print(image)\n",
    "# print(image.numpy())\n",
    "print(image.numpy().reshape(3,3).shape)\n",
    "print(image.numpy().reshape(3,3))\n",
    "plt.imshow(image.numpy().reshape(3,3), cmap='gray')\n",
    "plt.show()"
   ]
  },
  {
   "cell_type": "code",
   "execution_count": 77,
   "metadata": {},
   "outputs": [
    {
     "name": "stdout",
     "output_type": "stream",
     "text": [
      "weight.shape= (2, 2, 1, 1)\n",
      "[[1. 1.]\n",
      " [1. 1.]]\n"
     ]
    }
   ],
   "source": [
    "weight = np.array([[[[1.]], [[1.]]],[[[1.]],[[1.]]]])\n",
    "print(\"weight.shape=\", weight.shape) # (height, width, channel, FN)\n",
    "print(weight.reshape(2,2))"
   ]
  },
  {
   "cell_type": "code",
   "execution_count": 82,
   "metadata": {
    "scrolled": true
   },
   "outputs": [
    {
     "name": "stdout",
     "output_type": "stream",
     "text": [
      "conv2d.shape (1, 2, 2, 1)\n",
      "[[12. 16.]\n",
      " [24. 28.]]\n"
     ]
    },
    {
     "data": {
      "image/png": "[encoded data removed]",
      "text/plain": [
       "<Figure size 432x288 with 1 Axes>"
      ]
     },
     "metadata": {
      "needs_background": "light"
     },
     "output_type": "display_data"
    }
   ],
   "source": [
    "weight_init = tf.constant_initializer(weight)\n",
    "# print(type(weight_init))\n",
    "conv2d = tf.keras.layers.Conv2D(filters=1, kernel_size=2, padding='valid', kernel_initializer=weight_init)(image)\n",
    "print(\"conv2d.shape\", conv2d.shape) # N-F+1=O  (1,2,2,1)\n",
    "# print(conv2d.numpy())\n",
    "print(conv2d.numpy().reshape(2,2))\n",
    "plt.imshow(conv2d.numpy().reshape(2,2), cmap='gray')\n",
    "plt.show()"
   ]
  },
  {
   "cell_type": "code",
   "execution_count": 84,
   "metadata": {},
   "outputs": [
    {
     "name": "stdout",
     "output_type": "stream",
     "text": [
      "conv2d.shape (1, 3, 3, 1)\n",
      "[[12. 16.  9.]\n",
      " [24. 28. 15.]\n",
      " [15. 17.  9.]]\n"
     ]
    },
    {
     "data": {
      "image/png": "[encoded data removed]",
      "text/plain": [
       "<Figure size 432x288 with 1 Axes>"
      ]
     },
     "metadata": {
      "needs_background": "light"
     },
     "output_type": "display_data"
    }
   ],
   "source": [
    "weight_init = tf.constant_initializer(weight)\n",
    "# print(type(weight_init))\n",
    "conv2d = tf.keras.layers.Conv2D(filters=1, kernel_size=2, padding='same', kernel_initializer=weight_init)(image)\n",
    "print(\"conv2d.shape\", conv2d.shape) # N-F+1=O  (1,2,2,1)\n",
    "# print(conv2d.numpy())\n",
    "print(conv2d.numpy().reshape(3,3))\n",
    "plt.imshow(conv2d.numpy().reshape(3,3), cmap='gray')\n",
    "plt.show()"
   ]
  },
  {
   "cell_type": "code",
   "execution_count": 85,
   "metadata": {},
   "outputs": [
    {
     "name": "stdout",
     "output_type": "stream",
     "text": [
      "(1, 3, 3, 1)\n"
     ]
    }
   ],
   "source": [
    "image = tf.constant([[[[1],[2],[3]],\n",
    "                      [[4],[5],[6]],\n",
    "                      [[7],[8],[9]]]], dtype=np.float32)\n",
    "print(image.shape)"
   ]
  },
  {
   "cell_type": "code",
   "execution_count": 88,
   "metadata": {},
   "outputs": [
    {
     "name": "stdout",
     "output_type": "stream",
     "text": [
      "(2, 2, 1, 3)\n",
      "[[1. 1.]\n",
      " [1. 1.]]\n",
      "[[10. 10.]\n",
      " [10. 10.]]\n",
      "[[-1. -1.]\n",
      " [-1. -1.]]\n"
     ]
    }
   ],
   "source": [
    "weight = np.array([[[[1.,10.,-1.]],[[1.,10.,-1.]]],[[[1.,10.,-1.]],[[1.,10.,-1.]]]])\n",
    "print(weight.shape)  # (height, width, channel, FN)\n",
    "# print(weight)\n",
    "temp=np.transpose(weight,(3,0,1,2))\n",
    "# print(temp)\n",
    "for t in temp:\n",
    "    print(t.reshape(2,2))"
   ]
  },
  {
   "cell_type": "code",
   "execution_count": 91,
   "metadata": {},
   "outputs": [
    {
     "name": "stdout",
     "output_type": "stream",
     "text": [
      "conv2d.shape (1, 2, 2, 3)\n",
      "[[12. 16.]\n",
      " [24. 28.]]\n",
      "[[120. 160.]\n",
      " [240. 280.]]\n",
      "[[-12. -16.]\n",
      " [-24. -28.]]\n"
     ]
    },
    {
     "data": {
      "image/png": "[encoded data removed]",
      "text/plain": [
       "<Figure size 432x288 with 3 Axes>"
      ]
     },
     "metadata": {
      "needs_background": "light"
     },
     "output_type": "display_data"
    }
   ],
   "source": [
    "weight_init = tf.constant_initializer(weight)\n",
    "conv2d = tf.keras.layers.Conv2D(filters=3, kernel_size=2, padding='valid', kernel_initializer=weight_init)(image)\n",
    "print(\"conv2d.shape\", conv2d.shape)  # (1,2,2,3)\n",
    "# print(conv2d)\n",
    "\n",
    "feature_maps = np.swapaxes(conv2d, 0, 3)\n",
    "# print(feature_maps.shape)\n",
    "\n",
    "for i, feature_map in enumerate(feature_maps):\n",
    "    print(feature_map.reshape(2,2))\n",
    "    plt.subplot(1,3,i+1), plt.imshow(feature_map.reshape(2,2), cmap='gray')\n",
    "plt.show()"
   ]
  },
  {
   "cell_type": "markdown",
   "metadata": {},
   "source": [
    "### 고차원 텐서 연습"
   ]
  },
  {
   "cell_type": "code",
   "execution_count": 92,
   "metadata": {},
   "outputs": [
    {
     "name": "stdout",
     "output_type": "stream",
     "text": [
      "[[[ 0  1]\n",
      "  [ 2  3]]\n",
      "\n",
      " [[ 4  5]\n",
      "  [ 6  7]]\n",
      "\n",
      " [[ 8  9]\n",
      "  [10 11]]]\n",
      "[[[ 0  1]\n",
      "  [ 4  5]\n",
      "  [ 8  9]]\n",
      "\n",
      " [[ 2  3]\n",
      "  [ 6  7]\n",
      "  [10 11]]]\n"
     ]
    }
   ],
   "source": [
    "a = np.arange(12).reshape(3,2,2)\n",
    "print(a)\n",
    "b = np.swapaxes(a, 0, 1)\n",
    "print(b)"
   ]
  },
  {
   "cell_type": "code",
   "execution_count": 93,
   "metadata": {},
   "outputs": [
    {
     "name": "stdout",
     "output_type": "stream",
     "text": [
      "[[[ 0  2]\n",
      "  [ 1  3]]\n",
      "\n",
      " [[ 4  6]\n",
      "  [ 5  7]]\n",
      "\n",
      " [[ 8 10]\n",
      "  [ 9 11]]]\n"
     ]
    }
   ],
   "source": [
    "a = np.arange(12).reshape(3,2,2)\n",
    "b = np.swapaxes(a, 1, 2)\n",
    "print(b)"
   ]
  },
  {
   "cell_type": "code",
   "execution_count": 94,
   "metadata": {},
   "outputs": [
    {
     "name": "stdout",
     "output_type": "stream",
     "text": [
      "[[[ 0  4  8]\n",
      "  [ 2  6 10]]\n",
      "\n",
      " [[ 1  5  9]\n",
      "  [ 3  7 11]]]\n"
     ]
    }
   ],
   "source": [
    "a = np.arange(12).reshape(3,2,2)\n",
    "b = np.swapaxes(a, 0, 2)\n",
    "print(b)"
   ]
  },
  {
   "cell_type": "code",
   "execution_count": 95,
   "metadata": {},
   "outputs": [
    {
     "name": "stdout",
     "output_type": "stream",
     "text": [
      "[[[ 0  2]\n",
      "  [ 4  6]\n",
      "  [ 8 10]]\n",
      "\n",
      " [[ 1  3]\n",
      "  [ 5  7]\n",
      "  [ 9 11]]]\n"
     ]
    }
   ],
   "source": [
    "a = np.arange(12).reshape(3,2,2)  \n",
    "b = np.transpose(a, (2,0,1)) \n",
    "print(b)"
   ]
  },
  {
   "cell_type": "code",
   "execution_count": 96,
   "metadata": {
    "scrolled": true
   },
   "outputs": [
    {
     "name": "stdout",
     "output_type": "stream",
     "text": [
      "[[[[ 0  1]\n",
      "   [12 13]]\n",
      "\n",
      "  [[ 4  5]\n",
      "   [16 17]]\n",
      "\n",
      "  [[ 8  9]\n",
      "   [20 21]]]\n",
      "\n",
      "\n",
      " [[[ 2  3]\n",
      "   [14 15]]\n",
      "\n",
      "  [[ 6  7]\n",
      "   [18 19]]\n",
      "\n",
      "  [[10 11]\n",
      "   [22 23]]]]\n"
     ]
    }
   ],
   "source": [
    "a = np.arange(24).reshape(2,3,2,2)\n",
    "b = np.swapaxes(a, 0, 2) \n",
    "print(b)"
   ]
  },
  {
   "cell_type": "code",
   "execution_count": 98,
   "metadata": {},
   "outputs": [
    {
     "name": "stdout",
     "output_type": "stream",
     "text": [
      "[[[[ 0  4  8]\n",
      "   [12 16 20]]\n",
      "\n",
      "  [[ 1  5  9]\n",
      "   [13 17 21]]]\n",
      "\n",
      "\n",
      " [[[ 2  6 10]\n",
      "   [14 18 22]]\n",
      "\n",
      "  [[ 3  7 11]\n",
      "   [15 19 23]]]]\n"
     ]
    }
   ],
   "source": [
    "a = np.arange(24).reshape(2,3,2,2)  \n",
    "b = np.transpose(a, (2,3,0,1)) \n",
    "print(b)"
   ]
  },
  {
   "cell_type": "code",
   "execution_count": 99,
   "metadata": {},
   "outputs": [
    {
     "name": "stdout",
     "output_type": "stream",
     "text": [
      "[[[[ 0  2]\n",
      "   [ 4  6]\n",
      "   [ 8 10]]\n",
      "\n",
      "  [[12 14]\n",
      "   [16 18]\n",
      "   [20 22]]]\n",
      "\n",
      "\n",
      " [[[ 1  3]\n",
      "   [ 5  7]\n",
      "   [ 9 11]]\n",
      "\n",
      "  [[13 15]\n",
      "   [17 19]\n",
      "   [21 23]]]]\n"
     ]
    }
   ],
   "source": [
    "a = np.arange(24).reshape(2,3,2,2)  \n",
    "b = np.transpose(a, (3,0,1,2)) \n",
    "print(b)"
   ]
  },
  {
   "cell_type": "code",
   "execution_count": 100,
   "metadata": {
    "scrolled": true
   },
   "outputs": [
    {
     "name": "stdout",
     "output_type": "stream",
     "text": [
      "conv2d.shape (1, 3, 3, 3)\n",
      "[[12. 16.  9.]\n",
      " [24. 28. 15.]\n",
      " [15. 17.  9.]]\n",
      "[[120. 160.  90.]\n",
      " [240. 280. 150.]\n",
      " [150. 170.  90.]]\n",
      "[[-12. -16.  -9.]\n",
      " [-24. -28. -15.]\n",
      " [-15. -17.  -9.]]\n"
     ]
    },
    {
     "data": {
      "image/png": "[encoded data removed]",
      "text/plain": [
       "<Figure size 432x288 with 3 Axes>"
      ]
     },
     "metadata": {
      "needs_background": "light"
     },
     "output_type": "display_data"
    }
   ],
   "source": [
    "weight_init = tf.constant_initializer(weight)\n",
    "conv2d = tf.keras.layers.Conv2D(filters=3, kernel_size=2, padding='same', kernel_initializer=weight_init)(image)\n",
    "print(\"conv2d.shape\", conv2d.shape)\n",
    "# print(conv2d)\n",
    "\n",
    "feature_maps = np.swapaxes(conv2d, 0, 3)\n",
    "for i, feature_map in enumerate(feature_maps):\n",
    "    print(feature_map.reshape(3,3))\n",
    "    plt.subplot(1,3,i+1), plt.imshow(feature_map.reshape(3,3), cmap='gray')\n",
    "plt.show()"
   ]
  },
  {
   "cell_type": "code",
   "execution_count": 101,
   "metadata": {},
   "outputs": [
    {
     "name": "stdout",
     "output_type": "stream",
     "text": [
      "(1, 5, 5, 3)\n",
      "tf.Tensor(\n",
      "[[[[1. 0. 1.]\n",
      "   [1. 1. 1.]\n",
      "   [1. 1. 1.]\n",
      "   [0. 0. 1.]\n",
      "   [0. 1. 0.]]\n",
      "\n",
      "  [[0. 0. 1.]\n",
      "   [1. 1. 1.]\n",
      "   [1. 1. 1.]\n",
      "   [1. 1. 1.]\n",
      "   [0. 0. 0.]]\n",
      "\n",
      "  [[0. 0. 0.]\n",
      "   [0. 0. 0.]\n",
      "   [1. 1. 0.]\n",
      "   [1. 1. 1.]\n",
      "   [1. 0. 1.]]\n",
      "\n",
      "  [[0. 0. 0.]\n",
      "   [0. 0. 1.]\n",
      "   [1. 1. 1.]\n",
      "   [1. 1. 1.]\n",
      "   [0. 1. 0.]]\n",
      "\n",
      "  [[0. 1. 0.]\n",
      "   [1. 1. 1.]\n",
      "   [1. 1. 1.]\n",
      "   [0. 0. 0.]\n",
      "   [0. 0. 0.]]]], shape=(1, 5, 5, 3), dtype=float32)\n"
     ]
    }
   ],
   "source": [
    "image = tf.constant(  [[ \n",
    "                         [[1,0,1],[1,1,1],[1,1,1],[0,0,1],[0,1,0]], \n",
    "                         [[0,0,1],[1,1,1],[1,1,1],[1,1,1],[0,0,0]], \n",
    "                         [[0,0,0],[0,0,0],[1,1,0],[1,1,1],[1,0,1]], \n",
    "                         [[0,0,0],[0,0,1],[1,1,1],[1,1,1],[0,1,0]], \n",
    "                         [[0,1,0],[1,1,1],[1,1,1],[0,0,0],[0,0,0]] \n",
    "                      ]],     dtype=np.float32)\n",
    "print(image.shape)\n",
    "print(image)"
   ]
  },
  {
   "cell_type": "code",
   "execution_count": 102,
   "metadata": {},
   "outputs": [
    {
     "name": "stdout",
     "output_type": "stream",
     "text": [
      "(3, 5, 5, 1)\n",
      "[[1. 1. 1. 0. 0.]\n",
      " [0. 1. 1. 1. 0.]\n",
      " [0. 0. 1. 1. 1.]\n",
      " [0. 0. 1. 1. 0.]\n",
      " [0. 1. 1. 0. 0.]]\n",
      "[[0. 1. 1. 0. 1.]\n",
      " [0. 1. 1. 1. 0.]\n",
      " [0. 0. 1. 1. 0.]\n",
      " [0. 0. 1. 1. 1.]\n",
      " [1. 1. 1. 0. 0.]]\n",
      "[[1. 1. 1. 1. 0.]\n",
      " [1. 1. 1. 1. 0.]\n",
      " [0. 0. 0. 1. 1.]\n",
      " [0. 1. 1. 1. 0.]\n",
      " [0. 1. 1. 0. 0.]]\n"
     ]
    }
   ],
   "source": [
    "maps = np.swapaxes(image, 0, 3)\n",
    "print(maps.shape)\n",
    "for i, map in enumerate(maps):\n",
    "    print(map.reshape(5,5))"
   ]
  },
  {
   "cell_type": "code",
   "execution_count": 103,
   "metadata": {},
   "outputs": [
    {
     "name": "stdout",
     "output_type": "stream",
     "text": [
      "(3, 3, 3, 1)\n",
      "[[1 0 1]\n",
      " [0 1 0]\n",
      " [1 0 1]]\n",
      "[[ 0 -1  0]\n",
      " [-1  1 -1]\n",
      " [ 1 -1  0]]\n",
      "[[-1  0  0]\n",
      " [ 0  1  0]\n",
      " [ 0  0 -1]]\n"
     ]
    }
   ],
   "source": [
    "weight = np.array( [ \n",
    "                     [[[1],[0],[-1]], [[0],[-1],[0]], [[1],[0],[0]]],\n",
    "                     [[[0],[-1],[0]], [[1],[1],[1]], [[0],[-1],[0]]],\n",
    "                     [[[1],[1],[0]], [[0],[-1],[0]], [[1],[0],[-1]]]\n",
    "                   ] )\n",
    "\n",
    "print(weight.shape)\n",
    "# maps = np.swapaxes(weight, 1, 2)\n",
    "# maps = np.swapaxes(maps, 0, 1)\n",
    "\n",
    "maps = np.transpose(weight,(2,0,1,3))\n",
    "\n",
    "for i, map in enumerate(maps):\n",
    "    print(map.reshape(3,3))"
   ]
  },
  {
   "cell_type": "code",
   "execution_count": 104,
   "metadata": {},
   "outputs": [
    {
     "name": "stdout",
     "output_type": "stream",
     "text": [
      "conv2d.shape (1, 3, 3, 1)\n",
      "[[ 3. -1.  3.]\n",
      " [-2.  0.  2.]\n",
      " [ 1.  3.  4.]]\n"
     ]
    }
   ],
   "source": [
    "weight_init = tf.constant_initializer(weight)\n",
    "conv2d = tf.keras.layers.Conv2D(filters=1, kernel_size=3, padding='valid', kernel_initializer=weight_init)(image)\n",
    "print(\"conv2d.shape\", conv2d.shape)\n",
    "feature_maps = np.swapaxes(conv2d, 0, 3)\n",
    "for i, feature_map in enumerate(feature_maps):\n",
    "    print(feature_map.reshape(3,3))"
   ]
  },
  {
   "cell_type": "code",
   "execution_count": 105,
   "metadata": {},
   "outputs": [
    {
     "name": "stdout",
     "output_type": "stream",
     "text": [
      "(3, 3, 3, 2)\n",
      "[[1 0 1]\n",
      " [0 1 0]\n",
      " [1 0 1]]\n",
      "[[1 0 1]\n",
      " [0 1 0]\n",
      " [1 0 1]]\n",
      "[[ 0 -1  0]\n",
      " [-1  1 -1]\n",
      " [ 1 -1  0]]\n",
      "[[1 0 1]\n",
      " [0 1 0]\n",
      " [1 0 1]]\n",
      "[[-1  0  0]\n",
      " [ 0  1  0]\n",
      " [ 0  0 -1]]\n",
      "[[-1  0  0]\n",
      " [ 0  1  0]\n",
      " [ 0  0 -1]]\n"
     ]
    }
   ],
   "source": [
    "weight = np.array( [ \n",
    "                     [[[1,1],[0,1],[-1,-1]], [[0,0],[-1,0],[0,0]], [[1,1],[0,1],[0,0]]],\n",
    "                     [[[0,0],[-1,0],[0,0]], [[1,1],[1,1],[1,1]], [[0,0],[-1,0],[0,0]]],\n",
    "                     [[[1,1],[1,1],[0,0]], [[0,0],[-1,0],[0,0]], [[1,1],[0,1],[-1,-1]]]\n",
    "                   ] )\n",
    "\n",
    "print(weight.shape)  # (3,3,3,2)\n",
    "maps = np.swapaxes(weight, 1, 2)\n",
    "maps = np.swapaxes(maps, 0, 1)\n",
    "\n",
    "for map in maps:\n",
    "    map = np.swapaxes(map, 1, 2)\n",
    "    map = np.swapaxes(map, 0, 1)\n",
    "    for filter in map:\n",
    "        print(filter)"
   ]
  },
  {
   "cell_type": "code",
   "execution_count": 106,
   "metadata": {},
   "outputs": [
    {
     "name": "stdout",
     "output_type": "stream",
     "text": [
      "[[1 0 1]\n",
      " [0 1 0]\n",
      " [1 0 1]]\n",
      "[[1 0 1]\n",
      " [0 1 0]\n",
      " [1 0 1]]\n",
      "[[ 0 -1  0]\n",
      " [-1  1 -1]\n",
      " [ 1 -1  0]]\n",
      "[[1 0 1]\n",
      " [0 1 0]\n",
      " [1 0 1]]\n",
      "[[-1  0  0]\n",
      " [ 0  1  0]\n",
      " [ 0  0 -1]]\n",
      "[[-1  0  0]\n",
      " [ 0  1  0]\n",
      " [ 0  0 -1]]\n"
     ]
    }
   ],
   "source": [
    "# (3,3,3,2) => (3,2,3,3)\n",
    "weight = np.array( [ \n",
    "                     [[[1,1],[0,1],[-1,-1]], [[0,0],[-1,0],[0,0]], [[1,1],[0,1],[0,0]]],\n",
    "                     [[[0,0],[-1,0],[0,0]], [[1,1],[1,1],[1,1]], [[0,0],[-1,0],[0,0]]],\n",
    "                     [[[1,1],[1,1],[0,0]], [[0,0],[-1,0],[0,0]], [[1,1],[0,1],[-1,-1]]]\n",
    "                   ] )\n",
    "\n",
    "maps = np.transpose(weight, (2,3,0,1) )\n",
    "\n",
    "for map in maps:\n",
    "    for filter in map:\n",
    "        print(filter)"
   ]
  },
  {
   "cell_type": "code",
   "execution_count": 107,
   "metadata": {
    "scrolled": true
   },
   "outputs": [
    {
     "name": "stdout",
     "output_type": "stream",
     "text": [
      "conv2d.shape (1, 3, 3, 2)\n",
      "[[ 3. -1.  3.]\n",
      " [-2.  0.  2.]\n",
      " [ 1.  3.  4.]]\n",
      "[[7. 5. 7.]\n",
      " [2. 6. 7.]\n",
      " [5. 7. 8.]]\n"
     ]
    }
   ],
   "source": [
    "weight_init = tf.constant_initializer(weight)\n",
    "conv2d = tf.keras.layers.Conv2D(filters=2, kernel_size=3, padding='valid', kernel_initializer=weight_init)(image)\n",
    "print(\"conv2d.shape\", conv2d.shape)  # (1,3,3,2)\n",
    "feature_maps = np.swapaxes(conv2d, 0, 3)\n",
    "for feature_map in feature_maps:\n",
    "    print(feature_map.reshape(3,3))"
   ]
  },
  {
   "cell_type": "markdown",
   "metadata": {},
   "source": [
    "### 맥스 풀링 테스트"
   ]
  },
  {
   "cell_type": "code",
   "execution_count": 108,
   "metadata": {},
   "outputs": [
    {
     "name": "stdout",
     "output_type": "stream",
     "text": [
      "(1, 1, 1, 1)\n",
      "[[[[4.]]]]\n"
     ]
    }
   ],
   "source": [
    "image = tf.constant([[[[4],[3]],[[2],[1]]]], dtype=np.float32)\n",
    "pool = tf.keras.layers.MaxPool2D(pool_size=(2,2), strides=1, padding='valid')(image)\n",
    "print(pool.shape)\n",
    "print(pool.numpy())"
   ]
  },
  {
   "cell_type": "code",
   "execution_count": 109,
   "metadata": {},
   "outputs": [
    {
     "name": "stdout",
     "output_type": "stream",
     "text": [
      "(1, 2, 2, 1)\n",
      "[[[[4.]\n",
      "   [3.]]\n",
      "\n",
      "  [[2.]\n",
      "   [1.]]]]\n"
     ]
    }
   ],
   "source": [
    "image = tf.constant([[[[4],[3]],[[2],[1]]]], dtype=np.float32)\n",
    "pool = tf.keras.layers.MaxPool2D(pool_size=(2,2), strides=1, padding='same')(image)\n",
    "print(pool.shape)\n",
    "print(pool.numpy())"
   ]
  },
  {
   "cell_type": "code",
   "execution_count": 110,
   "metadata": {},
   "outputs": [
    {
     "name": "stdout",
     "output_type": "stream",
     "text": [
      "(1, 4, 4, 1)\n",
      "(1, 2, 2, 1)\n",
      "[[[[ 5.]\n",
      "   [ 7.]]\n",
      "\n",
      "  [[13.]\n",
      "   [15.]]]]\n"
     ]
    }
   ],
   "source": [
    "image = tf.constant([[[[0],[1],[2],[3]],\n",
    "                      [[4],[5],[6],[7]],\n",
    "                      [[8],[9],[10],[11]],\n",
    "                      [[12],[13],[14],[15]]]], dtype=np.float32)\n",
    "print(image.shape)\n",
    "pool = tf.keras.layers.MaxPool2D(pool_size=(2,2), strides=2, padding='valid')(image)\n",
    "print(pool.shape)\n",
    "print(pool.numpy())"
   ]
  },
  {
   "cell_type": "code",
   "execution_count": 111,
   "metadata": {},
   "outputs": [
    {
     "name": "stdout",
     "output_type": "stream",
     "text": [
      "[[ 2 12 11  4]\n",
      " [ 7  3 15  1]\n",
      " [ 8  0 13  9]\n",
      " [10  5  6 14]]\n"
     ]
    }
   ],
   "source": [
    "a = np.arange(16)\n",
    "a = np.random.permutation(a)\n",
    "a = a.reshape(1,4,4,1)\n",
    "print(a.reshape(4,4))"
   ]
  },
  {
   "cell_type": "code",
   "execution_count": 112,
   "metadata": {},
   "outputs": [
    {
     "name": "stdout",
     "output_type": "stream",
     "text": [
      "(1, 4, 4, 1)\n",
      "(1, 2, 2, 1)\n",
      "[[[[12.]\n",
      "   [15.]]\n",
      "\n",
      "  [[10.]\n",
      "   [14.]]]]\n"
     ]
    }
   ],
   "source": [
    "image = tf.constant(a, dtype=np.float32)\n",
    "print(image.shape)\n",
    "pool = tf.keras.layers.MaxPool2D(pool_size=(2,2), strides=2, padding='valid')(image)\n",
    "print(pool.shape)\n",
    "print(pool.numpy())"
   ]
  },
  {
   "cell_type": "code",
   "execution_count": 113,
   "metadata": {},
   "outputs": [
    {
     "name": "stdout",
     "output_type": "stream",
     "text": [
      "(60000, 28, 28)\n",
      "(28, 28)\n"
     ]
    },
    {
     "data": {
      "image/png": "[encoded data removed]",
      "text/plain": [
       "<Figure size 432x288 with 1 Axes>"
      ]
     },
     "metadata": {
      "needs_background": "light"
     },
     "output_type": "display_data"
    }
   ],
   "source": [
    "mnist = tf.keras.datasets.mnist\n",
    "class_names = ['0','1','2','3','4','5','6','7','8','9']\n",
    "\n",
    "(train_images, train_labels), (test_images, test_labels) = mnist.load_data()\n",
    "\n",
    "train_images = train_images.astype(np.float32) / 255.\n",
    "test_images = test_images.astype(np.float32) / 255.\n",
    "\n",
    "print(train_images.shape)\n",
    "img = train_images[0]\n",
    "print(img.shape)\n",
    "plt.imshow( img, cmap='gray')\n",
    "plt.show()"
   ]
  },
  {
   "cell_type": "code",
   "execution_count": 114,
   "metadata": {},
   "outputs": [
    {
     "name": "stdout",
     "output_type": "stream",
     "text": [
      "(28, 28)\n",
      "(1, 28, 28, 1)\n",
      "(1, 28, 28, 1)\n",
      "conv2d.shape (1, 28, 28, 5)\n"
     ]
    },
    {
     "data": {
      "image/png": "[encoded data removed]",
      "text/plain": [
       "<Figure size 432x288 with 5 Axes>"
      ]
     },
     "metadata": {
      "needs_background": "light"
     },
     "output_type": "display_data"
    }
   ],
   "source": [
    "img = train_images[0]\n",
    "print(img.shape)\n",
    "img = img.reshape(-1,28,28,1)\n",
    "print(img.shape)\n",
    "img = tf.convert_to_tensor(img)\n",
    "print(img.shape)\n",
    "\n",
    "weight_init = tf.keras.initializers.RandomNormal(stddev=0.01)\n",
    "conv2d = tf.keras.layers.Conv2D(filters=5, kernel_size=3, padding='same' \n",
    "                                , kernel_initializer=weight_init)(img)\n",
    "print(\"conv2d.shape\", conv2d.shape)  # (1,28,28,5)\n",
    "feature_maps = np.swapaxes(conv2d, 0, 3)\n",
    "for i, feature_map in enumerate(feature_maps):\n",
    "    plt.subplot(1,5,i+1), plt.imshow(feature_map.reshape(28,28), cmap='gray')\n",
    "plt.show()"
   ]
  },
  {
   "cell_type": "code",
   "execution_count": 115,
   "metadata": {
    "scrolled": false
   },
   "outputs": [
    {
     "name": "stdout",
     "output_type": "stream",
     "text": [
      "(1, 14, 14, 5)\n"
     ]
    },
    {
     "data": {
      "image/png": "[encoded data removed]",
      "text/plain": [
       "<Figure size 432x288 with 5 Axes>"
      ]
     },
     "metadata": {
      "needs_background": "light"
     },
     "output_type": "display_data"
    }
   ],
   "source": [
    "pool = tf.keras.layers.MaxPool2D(pool_size=(2,2), strides=(2,2), padding='valid')(conv2d)\n",
    "print(pool.shape)\n",
    "feature_maps = np.swapaxes(pool, 0, 3)\n",
    "for i, feature_map in enumerate(feature_maps):\n",
    "    plt.subplot(1,5,i+1), plt.imshow(feature_map.reshape(14,14), cmap='gray')\n",
    "plt.show()"
   ]
  },
  {
   "cell_type": "markdown",
   "metadata": {},
   "source": [
    "### 시그모이드 함수"
   ]
  },
  {
   "cell_type": "code",
   "execution_count": 116,
   "metadata": {},
   "outputs": [],
   "source": [
    "import tensorflow as tf\n",
    "gpu_devices = tf.config.experimental.list_physical_devices('GPU')\n",
    "for device in gpu_devices:\n",
    "    tf.config.experimental.set_memory_growth(device, True)"
   ]
  },
  {
   "cell_type": "code",
   "execution_count": 118,
   "metadata": {},
   "outputs": [
    {
     "data": {
      "image/png": "[encoded data removed]",
      "text/plain": [
       "<Figure size 432x288 with 1 Axes>"
      ]
     },
     "metadata": {
      "needs_background": "light"
     },
     "output_type": "display_data"
    }
   ],
   "source": [
    "import numpy as np\n",
    "import matplotlib.pyplot as plt\n",
    "\n",
    "def sigmoid(x):\n",
    "    return 1 / (1+np.exp(-x))\n",
    "\n",
    "x = np.arange(-10,10,0.1)\n",
    "y = sigmoid(x)\n",
    "z = y*(1-y)\n",
    "plt.plot(x,y)\n",
    "plt.plot(x,z)\n",
    "plt.show()"
   ]
  },
  {
   "cell_type": "markdown",
   "metadata": {},
   "source": [
    "### tanh 함수"
   ]
  },
  {
   "cell_type": "code",
   "execution_count": 120,
   "metadata": {},
   "outputs": [
    {
     "data": {
      "image/png": "[encoded data removed]",
      "text/plain": [
       "<Figure size 432x288 with 1 Axes>"
      ]
     },
     "metadata": {
      "needs_background": "light"
     },
     "output_type": "display_data"
    }
   ],
   "source": [
    "import numpy as np\n",
    "import matplotlib.pyplot as plt\n",
    "\n",
    "def sigmoid(x):\n",
    "    return 1 / (1+np.exp(-x))\n",
    "\n",
    "def tanh(x):\n",
    "#     return 2*sigmoid(2*x)-1\n",
    "    return np.tanh(x)\n",
    "\n",
    "x = np.arange(-10,10,0.1)\n",
    "y = tanh(x)\n",
    "z = 1-y**2\n",
    "plt.plot(x,y)\n",
    "plt.plot(x,z)\n",
    "plt.show()"
   ]
  },
  {
   "cell_type": "markdown",
   "metadata": {},
   "source": [
    "### Relu 함수"
   ]
  },
  {
   "cell_type": "code",
   "execution_count": null,
   "metadata": {},
   "outputs": [],
   "source": [
    "import numpy as np\n",
    "import matplotlib.pyplot as plt\n",
    "\n",
    "def relu(x):\n",
    "    return np.maximum(0,x)\n",
    "\n",
    "x = np.arange(-10,10,0.1)\n",
    "y = relu(x)\n",
    "\n",
    "plt.plot(x,y)\n",
    "\n",
    "plt.show()"
   ]
  },
  {
   "cell_type": "code",
   "execution_count": null,
   "metadata": {},
   "outputs": [],
   "source": []
  }
 ],
 "metadata": {
  "kernelspec": {
   "display_name": "Python 3 (ipykernel)",
   "language": "python",
   "name": "python3"
  },
  "language_info": {
   "codemirror_mode": {
    "name": "ipython",
    "version": 3
   },
   "file_extension": ".py",
   "mimetype": "text/x-python",
   "name": "python",
   "nbconvert_exporter": "python",
   "pygments_lexer": "ipython3",
   "version": "3.9.7"
  }
 },
 "nbformat": 4,
 "nbformat_minor": 4
}
