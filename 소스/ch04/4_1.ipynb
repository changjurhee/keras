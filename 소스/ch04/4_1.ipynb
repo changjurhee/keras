{
 "cells": [
  {
   "cell_type": "markdown",
   "metadata": {},
   "source": [
    "### 행렬의 곱연산"
   ]
  },
  {
   "cell_type": "code",
   "execution_count": 6,
   "metadata": {},
   "outputs": [
    {
     "name": "stdout",
     "output_type": "stream",
     "text": [
      "(3,) (3,)\n",
      "[ 4 10 18]\n",
      "()\n",
      "32\n"
     ]
    }
   ],
   "source": [
    "import numpy as np\n",
    "a = np.array([1,2,3])\n",
    "b = np.array([4,5,6])\n",
    "print(a.shape, b.shape)\n",
    "print(a*b)\n",
    "# c = np.sum(a*b)\n",
    "c = np.dot(a,b)  # (3,)(3,)=>()\n",
    "print(c.shape)\n",
    "print(c)"
   ]
  },
  {
   "cell_type": "code",
   "execution_count": 14,
   "metadata": {
    "scrolled": true
   },
   "outputs": [
    {
     "name": "stdout",
     "output_type": "stream",
     "text": [
      "(1, 3)\n",
      "(3, 1)\n",
      "(1, 1)\n",
      "2\n",
      "[[12]]\n"
     ]
    }
   ],
   "source": [
    "import numpy as np\n",
    "\n",
    "a = np.array([[1,2,3]]) # (1,3)\n",
    "print(a.shape)\n",
    "b = np.array([[2],[2],[2]]) # (3,1)\n",
    "print(b.shape)\n",
    "c = np.dot(a,b)    # (1,3)(3,1)=>(1,1)\n",
    "print(c.shape)   \n",
    "print(c.ndim)\n",
    "print(c)"
   ]
  },
  {
   "cell_type": "code",
   "execution_count": 22,
   "metadata": {},
   "outputs": [
    {
     "name": "stdout",
     "output_type": "stream",
     "text": [
      "(2, 3)\n",
      "(3, 1)\n",
      "(2, 1)\n",
      "2\n",
      "[[12]\n",
      " [30]]\n"
     ]
    }
   ],
   "source": [
    "import numpy as np\n",
    "\n",
    "a = np.array([[1,2,3],\n",
    "              [4,5,6]]) # (2,3)\n",
    "print(a.shape)\n",
    "b = np.array([[2],[2],[2]]) # (3,1)\n",
    "print(b.shape)\n",
    "c = np.dot(a,b)    # (2,3)(3,1)\n",
    "print(c.shape)   \n",
    "print(c.ndim)\n",
    "print(c)"
   ]
  },
  {
   "cell_type": "code",
   "execution_count": 28,
   "metadata": {},
   "outputs": [
    {
     "name": "stdout",
     "output_type": "stream",
     "text": [
      "(2, 3)\n",
      "(3, 2)\n",
      "(2, 2)\n",
      "2\n",
      "[[ 6 12]\n",
      " [15 30]]\n"
     ]
    }
   ],
   "source": [
    "import numpy as np\n",
    "\n",
    "a = np.array([[1,2,3],\n",
    "              [4,5,6]]) # (2,3)\n",
    "print(a.shape)\n",
    "b = np.array([[1,2],\n",
    "              [1,2],\n",
    "              [1,2]]) # (3,2)\n",
    "print(b.shape)\n",
    "c = np.dot(a,b)    # (2,3)(3,2)\n",
    "print(c.shape)   \n",
    "print(c.ndim)\n",
    "print(c)"
   ]
  },
  {
   "cell_type": "code",
   "execution_count": 34,
   "metadata": {},
   "outputs": [
    {
     "name": "stdout",
     "output_type": "stream",
     "text": [
      "(3,)\n",
      "(3, 2)\n",
      "(2,)\n",
      "1\n",
      "[ 6 12]\n"
     ]
    }
   ],
   "source": [
    "import numpy as np\n",
    "\n",
    "a = np.array([1,2,3]) # (3,)\n",
    "print(a.shape)\n",
    "b = np.array([[1,2],\n",
    "              [1,2],\n",
    "              [1,2]]) # (3,2)\n",
    "print(b.shape)\n",
    "c = np.dot(a,b)    # (3,)(3,2)\n",
    "print(c.shape)     # (2,)\n",
    "print(c.ndim)      # 1\n",
    "print(c)           # [6 12]"
   ]
  },
  {
   "cell_type": "code",
   "execution_count": 40,
   "metadata": {},
   "outputs": [
    {
     "name": "stdout",
     "output_type": "stream",
     "text": [
      "(2, 3)\n",
      "(3,)\n",
      "(2,)\n",
      "1\n",
      "[ 6 15]\n"
     ]
    }
   ],
   "source": [
    "import numpy as np\n",
    "\n",
    "a = np.array([[1,2,3],\n",
    "              [4,5,6]]) # (2,3)\n",
    "print(a.shape)\n",
    "b = np.array([1,1,1])   # (3,)\n",
    "print(b.shape)\n",
    "c = np.dot(a,b)    # (2,3)(3,)\n",
    "print(c.shape)     # (2,)\n",
    "print(c.ndim)      # 1\n",
    "print(c)           # [6 15]"
   ]
  },
  {
   "cell_type": "markdown",
   "metadata": {},
   "source": [
    "### 행렬의 전치"
   ]
  },
  {
   "cell_type": "code",
   "execution_count": 43,
   "metadata": {},
   "outputs": [
    {
     "name": "stdout",
     "output_type": "stream",
     "text": [
      "(3,)\n",
      "[1 2 3]\n",
      "(3,)\n"
     ]
    }
   ],
   "source": [
    "a = np.array([1,2,3])  # 일차원 배열은 전치가 없다. 왜? 전치는 축교환을 의미하기 때문\n",
    "print(a.shape)         # (3,)\n",
    "print(a.T)\n",
    "print(a.T.shape)       # (3,)"
   ]
  },
  {
   "cell_type": "code",
   "execution_count": 49,
   "metadata": {},
   "outputs": [
    {
     "name": "stdout",
     "output_type": "stream",
     "text": [
      "[1 2 3 4]\n",
      "(4,)\n",
      "[[1]\n",
      " [2]\n",
      " [3]\n",
      " [4]]\n",
      "(4, 1)\n"
     ]
    }
   ],
   "source": [
    "a = np.array([1,2,3,4])\n",
    "print(a)\n",
    "print(a.shape)\n",
    "# b = np.reshape(a, (3,1))\n",
    "b = np.reshape(a, (-1,1))\n",
    "print(b)\n",
    "print(b.shape)"
   ]
  },
  {
   "cell_type": "code",
   "execution_count": 54,
   "metadata": {},
   "outputs": [
    {
     "name": "stdout",
     "output_type": "stream",
     "text": [
      "[[1 2 3]\n",
      " [1 2 3]]\n",
      "(2, 3)\n",
      "(3, 2)\n",
      "[[1 1]\n",
      " [2 2]\n",
      " [3 3]]\n",
      "[[1 1]\n",
      " [2 2]\n",
      " [3 3]]\n"
     ]
    }
   ],
   "source": [
    "a = np.array([[1,2,3],\n",
    "              [1,2,3]])\n",
    "print(a)\n",
    "print(a.shape)        # (2, 3)\n",
    "print(a.T.shape)      # (3, 2)\n",
    "print(a.T)\n",
    "b = np.transpose( a, (1,0))\n",
    "print(b)"
   ]
  },
  {
   "cell_type": "code",
   "execution_count": 55,
   "metadata": {},
   "outputs": [
    {
     "name": "stdout",
     "output_type": "stream",
     "text": [
      "[[1 2]\n",
      " [1 2]]\n",
      "(2, 2)\n",
      "(2, 2)\n",
      "[[1 1]\n",
      " [2 2]]\n",
      "[[1 1]\n",
      " [2 2]]\n"
     ]
    }
   ],
   "source": [
    "a = np.array([[1,2],\n",
    "              [1,2]])\n",
    "print(a)\n",
    "print(a.shape)        # (2, 2)\n",
    "print(a.T.shape)      # (2, 2)\n",
    "print(a.T)\n",
    "b = np.transpose( a, (1,0))\n",
    "print(b)"
   ]
  },
  {
   "cell_type": "markdown",
   "metadata": {},
   "source": [
    "### 행렬곱의 교환 법칙"
   ]
  },
  {
   "cell_type": "code",
   "execution_count": 56,
   "metadata": {},
   "outputs": [
    {
     "name": "stdout",
     "output_type": "stream",
     "text": [
      "(1, 1)\n",
      "[[12]]\n",
      "(3, 3)\n",
      "[[2 4 6]\n",
      " [2 4 6]\n",
      " [2 4 6]]\n"
     ]
    }
   ],
   "source": [
    "import numpy as np\n",
    "\n",
    "a = np.array([[1,2,3]]) # (1,3)\n",
    "b = np.array([[2],[2],[2]]) # (3,1)\n",
    "\n",
    "c = np.dot(a,b)   # (1,3)(3,1) => (1,1)\n",
    "print(c.shape)  \n",
    "print(c)\n",
    "\n",
    "c = np.dot(b,a)  # (3,1)(1,3) => (3,3)\n",
    "print(c.shape)  \n",
    "print(c)              "
   ]
  },
  {
   "cell_type": "code",
   "execution_count": 59,
   "metadata": {},
   "outputs": [
    {
     "name": "stdout",
     "output_type": "stream",
     "text": [
      "(2, 1)\n",
      "[[12]\n",
      " [30]]\n"
     ]
    }
   ],
   "source": [
    "import numpy as np\n",
    "\n",
    "a = np.array([[1,2,3],[4,5,6]]) # (2,3)\n",
    "b = np.array([[2],[2],[2]]) # (3,1)\n",
    "\n",
    "c = np.dot(a,b)   # (2,3)(3,1) => (2,1)\n",
    "print(c.shape)  \n",
    "print(c)\n",
    "\n",
    "# c = np.dot(b,a)  # (3,1)(2,3) \n",
    "# print(c.shape)  "
   ]
  }
 ],
 "metadata": {
  "kernelspec": {
   "display_name": "Python 3 (ipykernel)",
   "language": "python",
   "name": "python3"
  },
  "language_info": {
   "codemirror_mode": {
    "name": "ipython",
    "version": 3
   },
   "file_extension": ".py",
   "mimetype": "text/x-python",
   "name": "python",
   "nbconvert_exporter": "python",
   "pygments_lexer": "ipython3",
   "version": "3.9.7"
  }
 },
 "nbformat": 4,
 "nbformat_minor": 4
}
