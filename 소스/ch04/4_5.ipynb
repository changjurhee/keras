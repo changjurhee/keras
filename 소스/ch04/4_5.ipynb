{
 "cells": [
  {
   "cell_type": "code",
   "execution_count": 82,
   "metadata": {},
   "outputs": [],
   "source": [
    "import numpy as np\n",
    "import matplotlib.pyplot as plt"
   ]
  },
  {
   "cell_type": "code",
   "execution_count": 83,
   "metadata": {},
   "outputs": [],
   "source": [
    "class SingleLayer:    \n",
    "    def __init__(self, learning_rate=0.1, l1=0, l2=0):\n",
    "        self.w = None              # 가중치\n",
    "        self.b = None              # 절편\n",
    "        self.losses = []           # 훈련 손실\n",
    "        self.val_losses = []       # 검증 손실\n",
    "        self.w_history = []        # 가중치 기록\n",
    "        self.lr = learning_rate    # 학습률\n",
    "        self.l1 = l1               # L1 손실 하이퍼파라미터\n",
    "        self.l2 = l2               # L2 손실 하이퍼파라미터\n",
    "\n",
    "    def forpass(self, x):\n",
    "        z = np.dot(x, self.w) + self.b        # 선형 출력을 계산합니다.\n",
    "        return z\n",
    "\n",
    "    def backprop(self, x, err):\n",
    "        m = len(x)\n",
    "        w_grad = np.dot(x.T, err) / m         # 가중치에 대한 그래디언트를 계산합니다.\n",
    "        b_grad = np.sum(err) / m              # 절편에 대한 그래디언트를 계산합니다.\n",
    "        return w_grad, b_grad\n",
    "\n",
    "    def activation(self, z):\n",
    "        z = np.clip(z, -100, None)            # 안전한 np.exp() 계산을 위해\n",
    "        a = 1 / (1 + np.exp(-z))              # 시그모이드 계산\n",
    "        return a\n",
    "        \n",
    "    def fit(self, x, y, epochs=100, x_val=None, y_val=None):\n",
    "        y = y.reshape(-1, 1)                  # 타깃을 열 벡터로 바꿉니다.\n",
    "        y_val = y_val.reshape(-1, 1)\n",
    "        m = len(x)                            # 샘플 개수를 저장합니다.\n",
    "        self.w = np.ones((x.shape[1], 1))     # 가중치를 초기화합니다.\n",
    "        self.b = 0                            # 절편을 초기화합니다.\n",
    "        self.w_history.append(self.w.copy())  # 가중치를 기록합니다.\n",
    "        # epochs만큼 반복합니다.\n",
    "        for i in range(epochs):\n",
    "            z = self.forpass(x)               # 정방향 계산을 수행합니다.\n",
    "            a = self.activation(z)            # 활성화 함수를 적용합니다.\n",
    "            err = a - y                   # 오차를 계산합니다.\n",
    "            # 오차를 역전파하여 그래디언트를 계산합니다.\n",
    "            w_grad, b_grad = self.backprop(x, err)\n",
    "            # 그래디언트에서 페널티 항의 미분 값을 더합니다.\n",
    "            w_grad += (self.l1 * np.sign(self.w) + self.l2 * self.w) / m\n",
    "            # 가중치와 절편을 업데이트합니다.\n",
    "            self.w -= self.lr * w_grad\n",
    "            self.b -= self.lr * b_grad\n",
    "            # 가중치를 기록합니다.\n",
    "            self.w_history.append(self.w.copy())\n",
    "            # 안전한 로그 계산을 위해 클리핑합니다.\n",
    "            a = np.clip(a, 1e-10, 1-1e-10)\n",
    "            # 로그 손실과 규제 손실을 더하여 리스트에 추가합니다.\n",
    "            loss = np.sum(-(y*np.log(a) + (1-y)*np.log(1-a)))\n",
    "            self.losses.append((loss + self.reg_loss()) / m)\n",
    "            # 검증 세트에 대한 손실을 계산합니다.\n",
    "            self.update_val_loss(x_val, y_val)\n",
    "    \n",
    "    def predict(self, x):\n",
    "        z = self.forpass(x)      # 정방향 계산을 수행합니다.\n",
    "        return z > 0             # 스텝 함수를 적용합니다.\n",
    "    \n",
    "    def score(self, x, y):\n",
    "        # 예측과 타깃 열 벡터를 비교하여 True의 비율을 반환합니다.\n",
    "        return np.mean(self.predict(x) == y.reshape(-1, 1))\n",
    "    \n",
    "    def reg_loss(self):\n",
    "        # 가중치에 규제를 적용합니다.\n",
    "        return self.l1 * np.sum(np.abs(self.w)) + self.l2 / 2 * np.sum(self.w**2)\n",
    "    \n",
    "    def update_val_loss(self, x_val, y_val):\n",
    "        z = self.forpass(x_val)            # 정방향 계산을 수행합니다.\n",
    "        a = self.activation(z)             # 활성화 함수를 적용합니다.\n",
    "        a = np.clip(a, 1e-10, 1-1e-10)     # 출력 값을 클리핑합니다.\n",
    "        # 로그 손실과 규제 손실을 더하여 리스트에 추가합니다.\n",
    "        val_loss = np.sum(-(y_val*np.log(a) + (1-y_val)*np.log(1-a)))\n",
    "        self.val_losses.append((val_loss + self.reg_loss()) / len(y_val))"
   ]
  },
  {
   "cell_type": "code",
   "execution_count": 84,
   "metadata": {},
   "outputs": [],
   "source": [
    "class DualLayer(SingleLayer):\n",
    "    \n",
    "    def __init__(self, units=10, learning_rate=0.1, l1=0, l2=0):\n",
    "        self.units = units         # 은닉층의 뉴런 개수\n",
    "        self.w1 = None             # 은닉층의 가중치\n",
    "        self.b1 = None             # 은닉층의 절편\n",
    "        self.w2 = None             # 출력층의 가중치\n",
    "        self.b2 = None             # 출력층의 절편\n",
    "        self.a1 = None             # 은닉층의 활성화 출력\n",
    "        self.losses = []           # 훈련 손실\n",
    "        self.val_losses = []       # 검증 손실\n",
    "        self.lr = learning_rate    # 학습률\n",
    "        self.l1 = l1               # L1 손실 하이퍼파라미터\n",
    "        self.l2 = l2               # L2 손실 하이퍼파라미터\n",
    "\n",
    "    def forpass(self, x):\n",
    "        z1 = np.dot(x, self.w1) + self.b1        # 첫 번째 층의 선형 식을 계산합니다\n",
    "        self.a1 = self.activation(z1)            # 활성화 함수를 적용합니다\n",
    "        z2 = np.dot(self.a1, self.w2) + self.b2  # 두 번째 층의 선형 식을 계산합니다.\n",
    "        return z2\n",
    "\n",
    "    def backprop(self, x, err):\n",
    "        m = len(x)       # 샘플 개수\n",
    "        # 출력층의 가중치와 절편에 대한 그래디언트를 계산합니다.\n",
    "        w2_grad = np.dot(self.a1.T, err) / m\n",
    "        b2_grad = np.sum(err, axis=0) / m\n",
    "        # 시그모이드 함수까지 그래디언트를 계산합니다.\n",
    "        err_to_hidden = np.dot(err, self.w2.T) * self.a1 * (1 - self.a1)\n",
    "        # 은닉층의 가중치와 절편에 대한 그래디언트를 계산합니다.\n",
    "        w1_grad = np.dot(x.T, err_to_hidden) / m\n",
    "        b1_grad = np.sum(err_to_hidden, axis=0) / m\n",
    "        return w1_grad, b1_grad, w2_grad, b2_grad\n",
    "\n",
    "    def init_weights(self, n_features):\n",
    "        self.w1 = np.ones((n_features, self.units))  # (특성 개수, 은닉층의 크기)\n",
    "        self.b1 = np.zeros(self.units)               # 은닉층의 크기\n",
    "        self.w2 = np.ones((self.units, 1))           # (은닉층의 크기, 1)\n",
    "        self.b2 = 0\n",
    "        \n",
    "    def fit(self, x, y, epochs=100, x_val=None, y_val=None):\n",
    "        y = y.reshape(-1, 1)          # 타깃을 열 벡터로 바꿉니다.\n",
    "        y_val = y_val.reshape(-1, 1)\n",
    "        m = len(x)                    # 샘플 개수를 저장합니다.\n",
    "        self.init_weights(x.shape[1]) # 은닉층과 출력층의 가중치를 초기화합니다.\n",
    "        # epochs만큼 반복합니다.\n",
    "        for i in range(epochs):\n",
    "            a = self.training(x, y, m)\n",
    "            # 안전한 로그 계산을 위해 클리핑합니다.\n",
    "            a = np.clip(a, 1e-10, 1-1e-10)\n",
    "            # 로그 손실과 규제 손실을 더하여 리스트에 추가합니다.\n",
    "            loss = np.sum(-(y*np.log(a) + (1-y)*np.log(1-a)))\n",
    "            self.losses.append((loss + self.reg_loss()) / m)\n",
    "            # 검증 세트에 대한 손실을 계산합니다.\n",
    "            self.update_val_loss(x_val, y_val)\n",
    "            \n",
    "    def training(self, x, y, m):\n",
    "        z = self.forpass(x)       # 정방향 계산을 수행합니다.\n",
    "        a = self.activation(z)    # 활성화 함수를 적용합니다.\n",
    "        err = (a - y)            # 오차를 계산합니다.\n",
    "        # 오차를 역전파하여 그래디언트를 계산합니다.\n",
    "        w1_grad, b1_grad, w2_grad, b2_grad = self.backprop(x, err)\n",
    "        # 그래디언트에서 페널티 항의 미분 값을 뺍니다\n",
    "        w1_grad += (self.l1 * np.sign(self.w1) + self.l2 * self.w1) / m\n",
    "        w2_grad += (self.l1 * np.sign(self.w2) + self.l2 * self.w2) / m\n",
    "        # 은닉층의 가중치와 절편을 업데이트합니다.\n",
    "        self.w1 -= self.lr * w1_grad\n",
    "        self.b1 -= self.lr * b1_grad\n",
    "        # 출력층의 가중치와 절편을 업데이트합니다.\n",
    "        self.w2 -= self.lr * w2_grad\n",
    "        self.b2 -= self.lr * b2_grad\n",
    "        return a\n",
    "    \n",
    "    def reg_loss(self):\n",
    "        # 은닉층과 출력층의 가중치에 규제를 적용합니다.\n",
    "        return self.l1 * (np.sum(np.abs(self.w1)) + np.sum(np.abs(self.w2))) + \\\n",
    "               self.l2 / 2 * (np.sum(self.w1**2) + np.sum(self.w2**2))"
   ]
  },
  {
   "cell_type": "code",
   "execution_count": 85,
   "metadata": {},
   "outputs": [],
   "source": [
    "class RandomInitNetwork(DualLayer):\n",
    "    \n",
    "    def init_weights(self, n_features):\n",
    "        np.random.seed(42)\n",
    "        self.w1 = np.random.normal(0, 1, \n",
    "                                   (n_features, self.units))  # (특성 개수, 은닉층의 크기)\n",
    "        self.b1 = np.zeros(self.units)                        # 은닉층의 크기\n",
    "        self.w2 = np.random.normal(0, 1, \n",
    "                                   (self.units, 1))           # (은닉층의 크기, 1)\n",
    "        self.b2 = 0"
   ]
  },
  {
   "cell_type": "code",
   "execution_count": 86,
   "metadata": {},
   "outputs": [],
   "source": [
    "class MinibatchNetwork(RandomInitNetwork):\n",
    "    \n",
    "    def __init__(self, units=10, batch_size=32, learning_rate=0.1, l1=0, l2=0):\n",
    "        super().__init__(units, learning_rate, l1, l2)\n",
    "        self.batch_size = batch_size     # 배치 크기\n",
    "        \n",
    "    def fit(self, x, y, epochs=100, x_val=None, y_val=None):\n",
    "        y_val = y_val.reshape(-1, 1)     # 타깃을 열 벡터로 바꿉니다.\n",
    "        self.init_weights(x.shape[1])    # 은닉층과 출력층의 가중치를 초기화합니다.\n",
    "        np.random.seed(42)\n",
    "        # epochs만큼 반복합니다.\n",
    "        for i in range(epochs):\n",
    "            loss = 0\n",
    "            # 제너레이터 함수에서 반환한 미니배치를 순환합니다.\n",
    "            for x_batch, y_batch in self.gen_batch(x, y):\n",
    "                y_batch = y_batch.reshape(-1, 1) # 타깃을 열 벡터로 바꿉니다.\n",
    "                m = len(x_batch)                 # 샘플 개수를 저장합니다.\n",
    "                a = self.training(x_batch, y_batch, m)\n",
    "                # 안전한 로그 계산을 위해 클리핑합니다.\n",
    "                a = np.clip(a, 1e-10, 1-1e-10)\n",
    "                # 로그 손실과 규제 손실을 더하여 리스트에 추가합니다.\n",
    "                loss += np.sum(-(y_batch*np.log(a) + (1-y_batch)*np.log(1-a)))\n",
    "            self.losses.append((loss + self.reg_loss()) / len(x))\n",
    "            # 검증 세트에 대한 손실을 계산합니다.\n",
    "            self.update_val_loss(x_val, y_val)\n",
    "\n",
    "    # 미니배치 제너레이터 함수\n",
    "    def gen_batch(self, x, y):\n",
    "        length = len(x)\n",
    "        bins = length // self.batch_size # 미니배치 횟수\n",
    "        if length % self.batch_size:\n",
    "            bins += 1                    # 나누어 떨어지지 않을 때\n",
    "        indexes = np.random.permutation(np.arange(len(x))) # 인덱스를 섞습니다.\n",
    "        x = x[indexes]\n",
    "        y = y[indexes]\n",
    "        for i in range(bins):\n",
    "            start = self.batch_size * i\n",
    "            end = self.batch_size * (i + 1)\n",
    "            yield x[start:end], y[start:end]   # batch_size만큼 슬라이싱하여 반환합니다."
   ]
  },
  {
   "cell_type": "markdown",
   "metadata": {},
   "source": [
    "### softmax 계산 예제"
   ]
  },
  {
   "cell_type": "code",
   "execution_count": 91,
   "metadata": {},
   "outputs": [
    {
     "name": "stdout",
     "output_type": "stream",
     "text": [
      "[2.2  1.39 0.85]\n",
      "[9.0250135  4.01485005 2.33964685]\n",
      "15.379510404354313\n",
      "[0.5868206  0.26105188 0.15212752]\n",
      "[0.4954955  0.31306306 0.19144144]\n"
     ]
    }
   ],
   "source": [
    "import numpy as np\n",
    "temp = np.array([2.20,1.39,0.85])\n",
    "\n",
    "print(temp)\n",
    "exp_temp = np.exp(temp)\n",
    "print(exp_temp)\n",
    "print(np.sum(exp_temp))\n",
    "ret = exp_temp / np.sum(exp_temp)\n",
    "print( ret )\n",
    "ret = temp / np.sum(temp)\n",
    "print( ret )"
   ]
  },
  {
   "cell_type": "code",
   "execution_count": 96,
   "metadata": {},
   "outputs": [
    {
     "name": "stdout",
     "output_type": "stream",
     "text": [
      "[[ 2.2   1.39  0.85]\n",
      " [ 0.   -1.39 -2.2 ]]\n",
      "[[9.0250135  4.01485005 2.33964685]\n",
      " [1.         0.2490753  0.11080316]]\n",
      "[15.3795104   1.35987846]\n",
      "[[15.3795104 ]\n",
      " [ 1.35987846]]\n",
      "[[0.5868206  0.26105188 0.15212752]\n",
      " [0.73535983 0.18315997 0.08148019]]\n"
     ]
    }
   ],
   "source": [
    "import numpy as np\n",
    "temp = np.array([[2.20,1.39,0.85],\n",
    "                 [0.00,-1.39,-2.20]])\n",
    "print(temp)\n",
    "exp_temp = np.exp(temp)\n",
    "print(exp_temp)\n",
    "print(np.sum(exp_temp, axis=1))\n",
    "print(np.sum(exp_temp, axis=1).reshape(-1, 1))\n",
    "ret = exp_temp / np.sum(exp_temp, axis=1).reshape(-1, 1)\n",
    "print( ret )"
   ]
  },
  {
   "cell_type": "code",
   "execution_count": 98,
   "metadata": {},
   "outputs": [],
   "source": [
    "def softmax(z):\n",
    "    # 소프트맥스 함수\n",
    "    z = np.clip(z, -100, None)            # 안전한 np.exp() 계산을 위해\n",
    "    exp_z = np.exp(z)\n",
    "    return exp_z / np.sum(exp_z, axis=1).reshape(-1, 1)"
   ]
  },
  {
   "cell_type": "code",
   "execution_count": 100,
   "metadata": {
    "scrolled": true
   },
   "outputs": [
    {
     "name": "stdout",
     "output_type": "stream",
     "text": [
      "[[0.5868206  0.26105188 0.15212752]\n",
      " [0.73535983 0.18315997 0.08148019]]\n",
      "[1. 1.]\n"
     ]
    }
   ],
   "source": [
    "temp = np.array([[2.20,1.39,0.85],\n",
    "                 [0.00,-1.39,-2.20]])\n",
    "a = softmax(temp)\n",
    "print(a)\n",
    "print(np.sum(a, axis=1))"
   ]
  },
  {
   "cell_type": "code",
   "execution_count": null,
   "metadata": {},
   "outputs": [],
   "source": [
    "a = np.array([4,3,5,6,2,7,1])\n",
    "y = np.array([0,0,0,0,0,0,1])\n",
    "print(np.max(a))\n",
    "print(np.argmax(a))\n",
    "print(np.argmax(a) == np.argmax(y))"
   ]
  },
  {
   "cell_type": "code",
   "execution_count": null,
   "metadata": {},
   "outputs": [],
   "source": [
    "a = np.array([[4,3,5,6,2,7,1],\n",
    "              [3,4,7,5,6,2,1]])\n",
    "y = np.array([[0,0,0,0,0,1,0],\n",
    "              [0,0,0,1,0,0,0]])\n",
    "print(np.argmax(a, axis=1))\n",
    "print( np.mean(np.argmax(a, axis=1) == np.argmax(y, axis=1)))"
   ]
  },
  {
   "cell_type": "code",
   "execution_count": 101,
   "metadata": {},
   "outputs": [],
   "source": [
    "class MultiClassNetwork(MinibatchNetwork):\n",
    "    def __init__(self, units=10, batch_size=32, learning_rate=0.1, l1=0, l2=0):\n",
    "        self.units = units         # 은닉층의 뉴런 개수\n",
    "        self.batch_size = batch_size     # 배치 크기\n",
    "        self.w1 = None             # 은닉층의 가중치\n",
    "        self.b1 = None             # 은닉층의 절편\n",
    "        self.w2 = None             # 출력층의 가중치\n",
    "        self.b2 = None             # 출력층의 절편\n",
    "        self.a1 = None             # 은닉층의 활성화 출력\n",
    "        self.losses = []           # 훈련 손실\n",
    "        self.val_losses = []       # 검증 손실\n",
    "        self.lr = learning_rate    # 학습률\n",
    "        self.l1 = l1               # L1 손실 하이퍼파라미터\n",
    "        self.l2 = l2               # L2 손실 하이퍼파라미터\n",
    "\n",
    "    def forpass(self, x):\n",
    "        z1 = np.dot(x, self.w1) + self.b1        # 첫 번째 층의 선형 식을 계산합니다\n",
    "        self.a1 = self.sigmoid(z1)               # 활성화 함수를 적용합니다\n",
    "        z2 = np.dot(self.a1, self.w2) + self.b2  # 두 번째 층의 선형 식을 계산합니다.\n",
    "        return z2\n",
    "\n",
    "    def backprop(self, x, err):\n",
    "        m = len(x)       # 샘플 개수\n",
    "        # 출력층의 가중치와 절편에 대한 그래디언트를 계산합니다.\n",
    "        w2_grad = np.dot(self.a1.T, err) / m\n",
    "        b2_grad = np.sum(err) / m\n",
    "        # 시그모이드 함수까지 그래디언트를 계산합니다.\n",
    "        err_to_hidden = np.dot(err, self.w2.T) * self.a1 * (1 - self.a1)\n",
    "        # 은닉층의 가중치와 절편에 대한 그래디언트를 계산합니다.\n",
    "        w1_grad = np.dot(x.T, err_to_hidden) / m\n",
    "        b1_grad = np.sum(err_to_hidden, axis=0) / m\n",
    "        return w1_grad, b1_grad, w2_grad, b2_grad\n",
    "    \n",
    "    def sigmoid(self, z):\n",
    "        z = np.clip(z, -100, None)            # 안전한 np.exp() 계산을 위해\n",
    "        a = 1 / (1 + np.exp(-z))              # 시그모이드 계산\n",
    "        return a\n",
    "    \n",
    "    def softmax(self, z):\n",
    "        # 소프트맥스 함수\n",
    "        z = np.clip(z, -100, None)            # 안전한 np.exp() 계산을 위해\n",
    "        exp_z = np.exp(z)\n",
    "        return exp_z / np.sum(exp_z, axis=1).reshape(-1, 1)\n",
    " \n",
    "    def init_weights(self, n_features, n_classes):\n",
    "        self.w1 = np.random.normal(0, 1, \n",
    "                                   (n_features, self.units))  # (특성 개수, 은닉층의 크기)\n",
    "        self.b1 = np.zeros(self.units)                        # 은닉층의 크기\n",
    "        self.w2 = np.random.normal(0, 1, \n",
    "                                   (self.units, n_classes))   # (은닉층의 크기, 클래스 개수)\n",
    "        self.b2 = np.zeros(n_classes)\n",
    "        \n",
    "    def fit(self, x, y, epochs=100, x_val=None, y_val=None):\n",
    "        np.random.seed(42)\n",
    "        self.init_weights(x.shape[1], y.shape[1])    # 은닉층과 출력층의 가중치를 초기화합니다.\n",
    "        # epochs만큼 반복합니다.\n",
    "        for i in range(epochs):\n",
    "            loss = 0\n",
    "            print('.', end='')\n",
    "            # 제너레이터 함수에서 반환한 미니배치를 순환합니다.\n",
    "            for x_batch, y_batch in self.gen_batch(x, y):\n",
    "                a = self.training(x_batch, y_batch)\n",
    "                # 안전한 로그 계산을 위해 클리핑합니다.\n",
    "                a = np.clip(a, 1e-10, 1-1e-10)\n",
    "                # 로그 손실과 규제 손실을 더하여 리스트에 추가합니다.\n",
    "                loss += np.sum(-y_batch*np.log(a))\n",
    "            self.losses.append((loss + self.reg_loss()) / len(x))\n",
    "            # 검증 세트에 대한 손실을 계산합니다.\n",
    "            self.update_val_loss(x_val, y_val)\n",
    "\n",
    "    # 미니배치 제너레이터 함수\n",
    "    def gen_batch(self, x, y):\n",
    "        length = len(x)\n",
    "        bins = length // self.batch_size # 미니배치 횟수\n",
    "        if length % self.batch_size:\n",
    "            bins += 1                    # 나누어 떨어지지 않을 때\n",
    "        indexes = np.random.permutation(np.arange(len(x))) # 인덱스를 섞습니다.\n",
    "        x = x[indexes]\n",
    "        y = y[indexes]\n",
    "        for i in range(bins):\n",
    "            start = self.batch_size * i\n",
    "            end = self.batch_size * (i + 1)\n",
    "            yield x[start:end], y[start:end]   # batch_size만큼 슬라이싱하여 반환합니다.\n",
    "            \n",
    "    def training(self, x, y):\n",
    "        m = len(x)                # 샘플 개수를 저장합니다.\n",
    "        z = self.forpass(x)       # 정방향 계산을 수행합니다.\n",
    "        a = self.softmax(z)       # 활성화 함수를 적용합니다.\n",
    "        err = (a - y)            # 오차를 계산합니다.\n",
    "        # 오차를 역전파하여 그래디언트를 계산합니다.\n",
    "        w1_grad, b1_grad, w2_grad, b2_grad = self.backprop(x, err)\n",
    "        # 그래디언트에서 페널티 항의 미분 값을 뺍니다\n",
    "        w1_grad += (self.l1 * np.sign(self.w1) + self.l2 * self.w1) / m\n",
    "        w2_grad += (self.l1 * np.sign(self.w2) + self.l2 * self.w2) / m\n",
    "        # 은닉층의 가중치와 절편을 업데이트합니다.\n",
    "        self.w1 -= self.lr * w1_grad\n",
    "        self.b1 -= self.lr * b1_grad\n",
    "        # 출력층의 가중치와 절편을 업데이트합니다.\n",
    "        self.w2 -= self.lr * w2_grad\n",
    "        self.b2 -= self.lr * b2_grad\n",
    "        return a\n",
    "   \n",
    "    def predict(self, x):\n",
    "        z = self.forpass(x)          # 정방향 계산을 수행합니다.\n",
    "        return np.argmax(z, axis=1)  # 가장 큰 값의 인덱스를 반환합니다.\n",
    "    \n",
    "    def score(self, x, y):\n",
    "        # 예측과 타깃 열 벡터를 비교하여 True의 비율을 반환합니다.\n",
    "        return np.mean(self.predict(x) == np.argmax(y, axis=1))\n",
    "\n",
    "    def reg_loss(self):\n",
    "        # 은닉층과 출력층의 가중치에 규제를 적용합니다.\n",
    "        return self.l1 * (np.sum(np.abs(self.w1)) + np.sum(np.abs(self.w2))) + \\\n",
    "               self.l2 / 2 * (np.sum(self.w1**2) + np.sum(self.w2**2))\n",
    "\n",
    "    def update_val_loss(self, x_val, y_val):\n",
    "        z = self.forpass(x_val)            # 정방향 계산을 수행합니다.\n",
    "        a = self.softmax(z)                # 활성화 함수를 적용합니다.\n",
    "        a = np.clip(a, 1e-10, 1-1e-10)     # 출력 값을 클리핑합니다.\n",
    "        # 크로스 엔트로피 손실과 규제 손실을 더하여 리스트에 추가합니다.\n",
    "        val_loss = np.sum(-y_val*np.log(a))\n",
    "        self.val_losses.append((val_loss + self.reg_loss()) / len(y_val))\n"
   ]
  },
  {
   "cell_type": "code",
   "execution_count": 102,
   "metadata": {},
   "outputs": [],
   "source": [
    "import tensorflow as tf\n",
    "import matplotlib.pyplot as plt\n",
    "\n",
    "(x_train_all, y_train_all), (x_test, y_test) = tf.keras.datasets.fashion_mnist.load_data()"
   ]
  },
  {
   "cell_type": "code",
   "execution_count": 103,
   "metadata": {},
   "outputs": [
    {
     "name": "stdout",
     "output_type": "stream",
     "text": [
      "(60000, 28, 28) (60000,)\n",
      "(10000, 28, 28) (10000,)\n"
     ]
    }
   ],
   "source": [
    "print(x_train_all.shape, y_train_all.shape)\n",
    "print(x_test.shape, y_test.shape)"
   ]
  },
  {
   "cell_type": "code",
   "execution_count": 104,
   "metadata": {},
   "outputs": [
    {
     "name": "stdout",
     "output_type": "stream",
     "text": [
      "(60000, 28, 28)\n",
      "(28, 28)\n"
     ]
    }
   ],
   "source": [
    "print(x_train_all.shape)\n",
    "print(x_train_all[0].shape)"
   ]
  },
  {
   "cell_type": "code",
   "execution_count": 107,
   "metadata": {},
   "outputs": [
    {
     "data": {
      "image/png": "[encoded data removed]",
      "text/plain": [
       "<Figure size 432x288 with 1 Axes>"
      ]
     },
     "metadata": {
      "needs_background": "light"
     },
     "output_type": "display_data"
    }
   ],
   "source": [
    "plt.imshow(x_train_all[0], cmap='gray')\n",
    "plt.show()"
   ]
  },
  {
   "cell_type": "code",
   "execution_count": 108,
   "metadata": {},
   "outputs": [
    {
     "name": "stdout",
     "output_type": "stream",
     "text": [
      "[9 0 0 3 0 2 7 2 5 5 0 9 5 5 7 9 1 0 6 4 3 1 4 8 4 3 0 2 4 4 5 3 6 6 0 8 5\n",
      " 2 1 6 6 7 9 5 9 2 7 3 0 3 3 3 7 2 2 6 6 8 3 3 5 0 5 5 0 2 0 0 4 1 3 1 6 3\n",
      " 1 4 4 6 1 9 1 3 5 7 9 7 1 7 9 9 9 3 2 9 3 6 4 1 1 8]\n"
     ]
    }
   ],
   "source": [
    "print(y_train_all[:100])"
   ]
  },
  {
   "cell_type": "code",
   "execution_count": 113,
   "metadata": {},
   "outputs": [
    {
     "name": "stdout",
     "output_type": "stream",
     "text": [
      "코트\n"
     ]
    },
    {
     "data": {
      "image/png": "[encoded data removed]",
      "text/plain": [
       "<Figure size 432x288 with 1 Axes>"
      ]
     },
     "metadata": {
      "needs_background": "light"
     },
     "output_type": "display_data"
    }
   ],
   "source": [
    "class_names = ['티셔츠/윗도리', '바지', '스웨터', '드레스', '코트', \n",
    "               '샌들', '셔츠', '스니커즈', '가방', '앵클부츠']\n",
    "index = 19\n",
    "print(class_names[y_train_all[index]])\n",
    "# plt.title(class_names[y_train_all[index]])\n",
    "plt.imshow(x_train_all[index], cmap='gray')\n",
    "plt.show()"
   ]
  },
  {
   "cell_type": "markdown",
   "metadata": {},
   "source": [
    "#### np.bincount 예제"
   ]
  },
  {
   "cell_type": "code",
   "execution_count": 116,
   "metadata": {},
   "outputs": [
    {
     "name": "stdout",
     "output_type": "stream",
     "text": [
      "10\n",
      "10\n",
      "[6 4]\n"
     ]
    }
   ],
   "source": [
    "a = np.array([0,1,1,0,0,0,0,1,1,0])\n",
    "print(len(a))\n",
    "print(a.shape[0])\n",
    "print(np.bincount(a))"
   ]
  },
  {
   "cell_type": "code",
   "execution_count": 118,
   "metadata": {},
   "outputs": [
    {
     "name": "stdout",
     "output_type": "stream",
     "text": [
      "14\n",
      "14\n",
      "[2 1 1 4 3 1 2]\n"
     ]
    }
   ],
   "source": [
    "a = np.array([0,4,4,1,2,3,3,3,3,4,5,0,6,6])\n",
    "print(len(a))\n",
    "print(a.shape[0])\n",
    "print(np.bincount(a))"
   ]
  },
  {
   "cell_type": "code",
   "execution_count": 119,
   "metadata": {},
   "outputs": [
    {
     "name": "stdout",
     "output_type": "stream",
     "text": [
      "60000\n",
      "[6000 6000 6000 6000 6000 6000 6000 6000 6000 6000]\n"
     ]
    }
   ],
   "source": [
    "print(len(y_train_all))\n",
    "print(np.bincount(y_train_all))"
   ]
  },
  {
   "cell_type": "code",
   "execution_count": 120,
   "metadata": {},
   "outputs": [
    {
     "name": "stdout",
     "output_type": "stream",
     "text": [
      "10000\n",
      "[1000 1000 1000 1000 1000 1000 1000 1000 1000 1000]\n"
     ]
    }
   ],
   "source": [
    "print(len(y_test))\n",
    "print(np.bincount(y_test))"
   ]
  },
  {
   "cell_type": "code",
   "execution_count": 121,
   "metadata": {},
   "outputs": [],
   "source": [
    "from sklearn.model_selection import train_test_split\n",
    "x_train, x_val, y_train, y_val = train_test_split(x_train_all, y_train_all, stratify=y_train_all, test_size=0.2, random_state=42)"
   ]
  },
  {
   "cell_type": "code",
   "execution_count": 122,
   "metadata": {},
   "outputs": [
    {
     "name": "stdout",
     "output_type": "stream",
     "text": [
      "48000\n"
     ]
    },
    {
     "data": {
      "text/plain": [
       "array([4800, 4800, 4800, 4800, 4800, 4800, 4800, 4800, 4800, 4800],\n",
       "      dtype=int64)"
      ]
     },
     "execution_count": 122,
     "metadata": {},
     "output_type": "execute_result"
    }
   ],
   "source": [
    "print(len(y_train))\n",
    "np.bincount(y_train)"
   ]
  },
  {
   "cell_type": "code",
   "execution_count": 123,
   "metadata": {},
   "outputs": [
    {
     "name": "stdout",
     "output_type": "stream",
     "text": [
      "12000\n"
     ]
    },
    {
     "data": {
      "text/plain": [
       "array([1200, 1200, 1200, 1200, 1200, 1200, 1200, 1200, 1200, 1200],\n",
       "      dtype=int64)"
      ]
     },
     "execution_count": 123,
     "metadata": {},
     "output_type": "execute_result"
    }
   ],
   "source": [
    "print(len(y_val))\n",
    "np.bincount(y_val)"
   ]
  },
  {
   "cell_type": "code",
   "execution_count": 124,
   "metadata": {},
   "outputs": [
    {
     "name": "stdout",
     "output_type": "stream",
     "text": [
      "(48000, 28, 28)\n",
      "(28, 28)\n",
      "[[  0   0   0   0   1   1   0   0   0  25  55   0   0   0   0   0   0  43\n",
      "   24   0   0   0   1   0   0   0   0   0]\n",
      " [  0   0   0   1   1   1   0  25 147 189 181  96  51  49  55  37  76 217\n",
      "  172 125  20   0   2   1   0   0   0   0]\n",
      " [  0   0   0   1   3   0  82 206 202 190 178 188 239 152  99 199 201 162\n",
      "  176 192 185  71   0   2   0   0   0   0]\n",
      " [  0   0   0   1   0   0 202 196 181 188 183 169 179 160 107 198 166 167\n",
      "  178 170 183 166   0   0   1   0   0   0]\n",
      " [  0   0   0   1   0  48 216 184 185 185 190 175 164 188 198 188 157 183\n",
      "  176 171 167 175  26   0   2   0   0   0]\n",
      " [  0   0   0   0   0  90 224 183 185 184 183 190 164 169 193 158 170 174\n",
      "  176 175 165 180  62   0   0   0   0   0]\n",
      " [  0   0   0   0   0 123 228 184 180 183 178 183 172 172 172 161 179 170\n",
      "  174 175 165 181 106   0   0   0   0   0]\n",
      " [  0   0   0   0   0 156 229 188 175 178 175 175 190 157 157 180 169 169\n",
      "  172 171 161 179 143   0   0   0   0   0]\n",
      " [  0   0   0   0   0 181 228 190 174 174 176 175 197 167 167 183 166 169\n",
      "  171 170 162 175 172   0   0   0   0   0]\n",
      " [  0   0   0   0   6 175 221 192 170 174 176 175 193 176 172 175 167 169\n",
      "  169 167 160 169 196   0   0   0   0   0]\n",
      " [  0   0   0   0  23 184 216 206 164 175 176 175 192 178 175 174 167 166\n",
      "  169 169 165 169 175   6   0   0   0   0]\n",
      " [  0   0   0   0  53 189 208 219 161 176 176 175 190 181 178 172 169 165\n",
      "  170 169 166 167 183  26   0   0   0   0]\n",
      " [  0   0   0   0  84 194 207 216 157 176 175 176 193 183 180 172 167 167\n",
      "  166 170 165 167 185  61   0   0   0   0]\n",
      " [  0   0   0   0 114 193 211 207 157 175 175 176 196 183 181 172 166 166\n",
      "  165 170 164 169 187  88   0   0   0   0]\n",
      " [  0   0   0   0 155 192 219 194 161 172 178 176 197 185 181 169 166 165\n",
      "  165 171 164 171 184 108   0   0   0   0]\n",
      " [  0   0   0   0 181 192 225 185 162 172 179 176 199 185 183 169 166 164\n",
      "  164 172 161 170 184 135   0   0   0   0]\n",
      " [  0   0   0   0 210 189 233 180 161 171 179 179 201 185 190 166 166 164\n",
      "  164 176 158 171 183 155   0   0   0   0]\n",
      " [  0   0   0   0 229 184 234 176 164 169 180 183 198 185 193 166 167 164\n",
      "  165 179 157 176 179 174   0   0   0   0]\n",
      " [  0   0   0   2 237 183 237 171 166 167 178 188 196 187 196 164 166 165\n",
      "  166 179 157 178 176 185   2   0   0   0]\n",
      " [  0   0   0  24 246 184 255 172 166 169 180 192 196 189 201 161 164 165\n",
      "  165 181 161 181 176 189  17   0   0   0]\n",
      " [  0   0   0  52 247 187 238 166 170 170 180 198 193 189 207 160 165 165\n",
      "  164 180 162 187 175 192  52   0   0   0]\n",
      " [  0   0   0  82 215 192 239 158 169 174 179 207 189 187 213 160 167 166\n",
      "  165 181 169 190 170 192  73   0   0   0]\n",
      " [  0   0   0 102 212 201 212 166 169 171 179 217 189 187 217 157 170 167\n",
      "  166 178 171 196 169 171  84   0   0   0]\n",
      " [  0   0   0 166 211 213 193 164 170 170 180 226 181 187 228 157 167 167\n",
      "  158 188 196 128 170 179 128   0   0   0]\n",
      " [  0   0   0  35  92 129 199 184 171 179 187 246 170 189 240 156 170 174\n",
      "  166 190 230 139 102 139  89   0   0   0]\n",
      " [  0   0   0   0   0   0 142 213 166 151 178 235 190 162 244 179 183 160\n",
      "  142 164 208 125   0   0   0   0   0   0]\n",
      " [  0   0   0   0   1   2   0  96 181 179 178 178 185 160 208 171 167 167\n",
      "  184 174 105   0   1   2   1   0   0   0]\n",
      " [  0   0   0   0   0   0   2   0   1  52  83  98 112 134 146 105  89  73\n",
      "   49   0   0   0   0   0   0   0   0   0]]\n"
     ]
    }
   ],
   "source": [
    "print(x_train.shape)\n",
    "print(x_train[0].shape)  # (48000,28,28)\n",
    "print(x_train[0])"
   ]
  },
  {
   "cell_type": "markdown",
   "metadata": {},
   "source": [
    "###  표준화(standardization)"
   ]
  },
  {
   "cell_type": "code",
   "execution_count": 125,
   "metadata": {},
   "outputs": [],
   "source": [
    "x_train = x_train / 255\n",
    "x_val = x_val / 255"
   ]
  },
  {
   "cell_type": "code",
   "execution_count": 126,
   "metadata": {},
   "outputs": [
    {
     "name": "stdout",
     "output_type": "stream",
     "text": [
      "1.0\n",
      "0.0\n",
      "0.2862528489520806\n",
      "0.3531738779381928\n"
     ]
    }
   ],
   "source": [
    "print(np.max(x_train))\n",
    "print(np.min(x_train))\n",
    "print(np.mean(x_train))\n",
    "print(np.std(x_train))"
   ]
  },
  {
   "cell_type": "code",
   "execution_count": 127,
   "metadata": {},
   "outputs": [
    {
     "name": "stdout",
     "output_type": "stream",
     "text": [
      "[[0.         0.         0.         0.         0.00392157 0.00392157\n",
      "  0.         0.         0.         0.09803922 0.21568627 0.\n",
      "  0.         0.         0.         0.         0.         0.16862745\n",
      "  0.09411765 0.         0.         0.         0.00392157 0.\n",
      "  0.         0.         0.         0.        ]\n",
      " [0.         0.         0.         0.00392157 0.00392157 0.00392157\n",
      "  0.         0.09803922 0.57647059 0.74117647 0.70980392 0.37647059\n",
      "  0.2        0.19215686 0.21568627 0.14509804 0.29803922 0.85098039\n",
      "  0.6745098  0.49019608 0.07843137 0.         0.00784314 0.00392157\n",
      "  0.         0.         0.         0.        ]\n",
      " [0.         0.         0.         0.00392157 0.01176471 0.\n",
      "  0.32156863 0.80784314 0.79215686 0.74509804 0.69803922 0.7372549\n",
      "  0.9372549  0.59607843 0.38823529 0.78039216 0.78823529 0.63529412\n",
      "  0.69019608 0.75294118 0.7254902  0.27843137 0.         0.00784314\n",
      "  0.         0.         0.         0.        ]\n",
      " [0.         0.         0.         0.00392157 0.         0.\n",
      "  0.79215686 0.76862745 0.70980392 0.7372549  0.71764706 0.6627451\n",
      "  0.70196078 0.62745098 0.41960784 0.77647059 0.65098039 0.65490196\n",
      "  0.69803922 0.66666667 0.71764706 0.65098039 0.         0.\n",
      "  0.00392157 0.         0.         0.        ]\n",
      " [0.         0.         0.         0.00392157 0.         0.18823529\n",
      "  0.84705882 0.72156863 0.7254902  0.7254902  0.74509804 0.68627451\n",
      "  0.64313725 0.7372549  0.77647059 0.7372549  0.61568627 0.71764706\n",
      "  0.69019608 0.67058824 0.65490196 0.68627451 0.10196078 0.\n",
      "  0.00784314 0.         0.         0.        ]\n",
      " [0.         0.         0.         0.         0.         0.35294118\n",
      "  0.87843137 0.71764706 0.7254902  0.72156863 0.71764706 0.74509804\n",
      "  0.64313725 0.6627451  0.75686275 0.61960784 0.66666667 0.68235294\n",
      "  0.69019608 0.68627451 0.64705882 0.70588235 0.24313725 0.\n",
      "  0.         0.         0.         0.        ]\n",
      " [0.         0.         0.         0.         0.         0.48235294\n",
      "  0.89411765 0.72156863 0.70588235 0.71764706 0.69803922 0.71764706\n",
      "  0.6745098  0.6745098  0.6745098  0.63137255 0.70196078 0.66666667\n",
      "  0.68235294 0.68627451 0.64705882 0.70980392 0.41568627 0.\n",
      "  0.         0.         0.         0.        ]\n",
      " [0.         0.         0.         0.         0.         0.61176471\n",
      "  0.89803922 0.7372549  0.68627451 0.69803922 0.68627451 0.68627451\n",
      "  0.74509804 0.61568627 0.61568627 0.70588235 0.6627451  0.6627451\n",
      "  0.6745098  0.67058824 0.63137255 0.70196078 0.56078431 0.\n",
      "  0.         0.         0.         0.        ]\n",
      " [0.         0.         0.         0.         0.         0.70980392\n",
      "  0.89411765 0.74509804 0.68235294 0.68235294 0.69019608 0.68627451\n",
      "  0.77254902 0.65490196 0.65490196 0.71764706 0.65098039 0.6627451\n",
      "  0.67058824 0.66666667 0.63529412 0.68627451 0.6745098  0.\n",
      "  0.         0.         0.         0.        ]\n",
      " [0.         0.         0.         0.         0.02352941 0.68627451\n",
      "  0.86666667 0.75294118 0.66666667 0.68235294 0.69019608 0.68627451\n",
      "  0.75686275 0.69019608 0.6745098  0.68627451 0.65490196 0.6627451\n",
      "  0.6627451  0.65490196 0.62745098 0.6627451  0.76862745 0.\n",
      "  0.         0.         0.         0.        ]\n",
      " [0.         0.         0.         0.         0.09019608 0.72156863\n",
      "  0.84705882 0.80784314 0.64313725 0.68627451 0.69019608 0.68627451\n",
      "  0.75294118 0.69803922 0.68627451 0.68235294 0.65490196 0.65098039\n",
      "  0.6627451  0.6627451  0.64705882 0.6627451  0.68627451 0.02352941\n",
      "  0.         0.         0.         0.        ]\n",
      " [0.         0.         0.         0.         0.20784314 0.74117647\n",
      "  0.81568627 0.85882353 0.63137255 0.69019608 0.69019608 0.68627451\n",
      "  0.74509804 0.70980392 0.69803922 0.6745098  0.6627451  0.64705882\n",
      "  0.66666667 0.6627451  0.65098039 0.65490196 0.71764706 0.10196078\n",
      "  0.         0.         0.         0.        ]\n",
      " [0.         0.         0.         0.         0.32941176 0.76078431\n",
      "  0.81176471 0.84705882 0.61568627 0.69019608 0.68627451 0.69019608\n",
      "  0.75686275 0.71764706 0.70588235 0.6745098  0.65490196 0.65490196\n",
      "  0.65098039 0.66666667 0.64705882 0.65490196 0.7254902  0.23921569\n",
      "  0.         0.         0.         0.        ]\n",
      " [0.         0.         0.         0.         0.44705882 0.75686275\n",
      "  0.82745098 0.81176471 0.61568627 0.68627451 0.68627451 0.69019608\n",
      "  0.76862745 0.71764706 0.70980392 0.6745098  0.65098039 0.65098039\n",
      "  0.64705882 0.66666667 0.64313725 0.6627451  0.73333333 0.34509804\n",
      "  0.         0.         0.         0.        ]\n",
      " [0.         0.         0.         0.         0.60784314 0.75294118\n",
      "  0.85882353 0.76078431 0.63137255 0.6745098  0.69803922 0.69019608\n",
      "  0.77254902 0.7254902  0.70980392 0.6627451  0.65098039 0.64705882\n",
      "  0.64705882 0.67058824 0.64313725 0.67058824 0.72156863 0.42352941\n",
      "  0.         0.         0.         0.        ]\n",
      " [0.         0.         0.         0.         0.70980392 0.75294118\n",
      "  0.88235294 0.7254902  0.63529412 0.6745098  0.70196078 0.69019608\n",
      "  0.78039216 0.7254902  0.71764706 0.6627451  0.65098039 0.64313725\n",
      "  0.64313725 0.6745098  0.63137255 0.66666667 0.72156863 0.52941176\n",
      "  0.         0.         0.         0.        ]\n",
      " [0.         0.         0.         0.         0.82352941 0.74117647\n",
      "  0.91372549 0.70588235 0.63137255 0.67058824 0.70196078 0.70196078\n",
      "  0.78823529 0.7254902  0.74509804 0.65098039 0.65098039 0.64313725\n",
      "  0.64313725 0.69019608 0.61960784 0.67058824 0.71764706 0.60784314\n",
      "  0.         0.         0.         0.        ]\n",
      " [0.         0.         0.         0.         0.89803922 0.72156863\n",
      "  0.91764706 0.69019608 0.64313725 0.6627451  0.70588235 0.71764706\n",
      "  0.77647059 0.7254902  0.75686275 0.65098039 0.65490196 0.64313725\n",
      "  0.64705882 0.70196078 0.61568627 0.69019608 0.70196078 0.68235294\n",
      "  0.         0.         0.         0.        ]\n",
      " [0.         0.         0.         0.00784314 0.92941176 0.71764706\n",
      "  0.92941176 0.67058824 0.65098039 0.65490196 0.69803922 0.7372549\n",
      "  0.76862745 0.73333333 0.76862745 0.64313725 0.65098039 0.64705882\n",
      "  0.65098039 0.70196078 0.61568627 0.69803922 0.69019608 0.7254902\n",
      "  0.00784314 0.         0.         0.        ]\n",
      " [0.         0.         0.         0.09411765 0.96470588 0.72156863\n",
      "  1.         0.6745098  0.65098039 0.6627451  0.70588235 0.75294118\n",
      "  0.76862745 0.74117647 0.78823529 0.63137255 0.64313725 0.64705882\n",
      "  0.64705882 0.70980392 0.63137255 0.70980392 0.69019608 0.74117647\n",
      "  0.06666667 0.         0.         0.        ]\n",
      " [0.         0.         0.         0.20392157 0.96862745 0.73333333\n",
      "  0.93333333 0.65098039 0.66666667 0.66666667 0.70588235 0.77647059\n",
      "  0.75686275 0.74117647 0.81176471 0.62745098 0.64705882 0.64705882\n",
      "  0.64313725 0.70588235 0.63529412 0.73333333 0.68627451 0.75294118\n",
      "  0.20392157 0.         0.         0.        ]\n",
      " [0.         0.         0.         0.32156863 0.84313725 0.75294118\n",
      "  0.9372549  0.61960784 0.6627451  0.68235294 0.70196078 0.81176471\n",
      "  0.74117647 0.73333333 0.83529412 0.62745098 0.65490196 0.65098039\n",
      "  0.64705882 0.70980392 0.6627451  0.74509804 0.66666667 0.75294118\n",
      "  0.28627451 0.         0.         0.        ]\n",
      " [0.         0.         0.         0.4        0.83137255 0.78823529\n",
      "  0.83137255 0.65098039 0.6627451  0.67058824 0.70196078 0.85098039\n",
      "  0.74117647 0.73333333 0.85098039 0.61568627 0.66666667 0.65490196\n",
      "  0.65098039 0.69803922 0.67058824 0.76862745 0.6627451  0.67058824\n",
      "  0.32941176 0.         0.         0.        ]\n",
      " [0.         0.         0.         0.65098039 0.82745098 0.83529412\n",
      "  0.75686275 0.64313725 0.66666667 0.66666667 0.70588235 0.88627451\n",
      "  0.70980392 0.73333333 0.89411765 0.61568627 0.65490196 0.65490196\n",
      "  0.61960784 0.7372549  0.76862745 0.50196078 0.66666667 0.70196078\n",
      "  0.50196078 0.         0.         0.        ]\n",
      " [0.         0.         0.         0.1372549  0.36078431 0.50588235\n",
      "  0.78039216 0.72156863 0.67058824 0.70196078 0.73333333 0.96470588\n",
      "  0.66666667 0.74117647 0.94117647 0.61176471 0.66666667 0.68235294\n",
      "  0.65098039 0.74509804 0.90196078 0.54509804 0.4        0.54509804\n",
      "  0.34901961 0.         0.         0.        ]\n",
      " [0.         0.         0.         0.         0.         0.\n",
      "  0.55686275 0.83529412 0.65098039 0.59215686 0.69803922 0.92156863\n",
      "  0.74509804 0.63529412 0.95686275 0.70196078 0.71764706 0.62745098\n",
      "  0.55686275 0.64313725 0.81568627 0.49019608 0.         0.\n",
      "  0.         0.         0.         0.        ]\n",
      " [0.         0.         0.         0.         0.00392157 0.00784314\n",
      "  0.         0.37647059 0.70980392 0.70196078 0.69803922 0.69803922\n",
      "  0.7254902  0.62745098 0.81568627 0.67058824 0.65490196 0.65490196\n",
      "  0.72156863 0.68235294 0.41176471 0.         0.00392157 0.00784314\n",
      "  0.00392157 0.         0.         0.        ]\n",
      " [0.         0.         0.         0.         0.         0.\n",
      "  0.00784314 0.         0.00392157 0.20392157 0.3254902  0.38431373\n",
      "  0.43921569 0.5254902  0.57254902 0.41176471 0.34901961 0.28627451\n",
      "  0.19215686 0.         0.         0.         0.         0.\n",
      "  0.         0.         0.         0.        ]]\n"
     ]
    }
   ],
   "source": [
    "print(x_train[0])"
   ]
  },
  {
   "cell_type": "code",
   "execution_count": 128,
   "metadata": {
    "scrolled": true
   },
   "outputs": [
    {
     "name": "stdout",
     "output_type": "stream",
     "text": [
      "(48000, 28, 28)\n"
     ]
    }
   ],
   "source": [
    "print(x_train.shape)"
   ]
  },
  {
   "cell_type": "code",
   "execution_count": 129,
   "metadata": {},
   "outputs": [
    {
     "name": "stdout",
     "output_type": "stream",
     "text": [
      "(48000, 784) (12000, 784)\n"
     ]
    }
   ],
   "source": [
    "x_train = x_train.reshape(-1, 784)\n",
    "x_val = x_val.reshape(-1, 784)\n",
    "print(x_train.shape, x_val.shape)"
   ]
  },
  {
   "cell_type": "code",
   "execution_count": 130,
   "metadata": {},
   "outputs": [
    {
     "data": {
      "text/plain": [
       "6"
      ]
     },
     "execution_count": 130,
     "metadata": {},
     "output_type": "execute_result"
    }
   ],
   "source": [
    "y_train[0]"
   ]
  },
  {
   "cell_type": "code",
   "execution_count": 131,
   "metadata": {},
   "outputs": [
    {
     "data": {
      "image/png": "[encoded data removed]",
      "text/plain": [
       "<Figure size 432x288 with 1 Axes>"
      ]
     },
     "metadata": {
      "needs_background": "light"
     },
     "output_type": "display_data"
    }
   ],
   "source": [
    "plt.imshow(x_train[0].reshape(28,28), cmap='gray')\n",
    "plt.show()"
   ]
  },
  {
   "cell_type": "code",
   "execution_count": 132,
   "metadata": {},
   "outputs": [
    {
     "data": {
      "text/plain": [
       "array([[1., 0., 0., 0.],\n",
       "       [0., 1., 0., 0.],\n",
       "       [0., 0., 0., 1.]], dtype=float32)"
      ]
     },
     "execution_count": 132,
     "metadata": {},
     "output_type": "execute_result"
    }
   ],
   "source": [
    "tf.keras.utils.to_categorical([0, 1, 3]) # 원 핫 인코딩"
   ]
  },
  {
   "cell_type": "code",
   "execution_count": 133,
   "metadata": {},
   "outputs": [
    {
     "name": "stdout",
     "output_type": "stream",
     "text": [
      "(48000, 10) (12000, 10)\n"
     ]
    }
   ],
   "source": [
    "y_train_encoded = tf.keras.utils.to_categorical(y_train)\n",
    "y_val_encoded = tf.keras.utils.to_categorical(y_val)\n",
    "print(y_train_encoded.shape, y_val_encoded.shape)"
   ]
  },
  {
   "cell_type": "code",
   "execution_count": 134,
   "metadata": {},
   "outputs": [
    {
     "name": "stdout",
     "output_type": "stream",
     "text": [
      "6 [0. 0. 0. 0. 0. 0. 1. 0. 0. 0.]\n"
     ]
    }
   ],
   "source": [
    "print(y_train[0], y_train_encoded[0])"
   ]
  },
  {
   "cell_type": "code",
   "execution_count": 135,
   "metadata": {},
   "outputs": [
    {
     "name": "stdout",
     "output_type": "stream",
     "text": [
      "........................................"
     ]
    },
    {
     "data": {
      "image/png": "[encoded data removed]",
      "text/plain": [
       "<Figure size 432x288 with 1 Axes>"
      ]
     },
     "metadata": {
      "needs_background": "light"
     },
     "output_type": "display_data"
    }
   ],
   "source": [
    "fc = MultiClassNetwork(units=100, batch_size=256) # x_train_batch.shape = (256,784) w1.shape=(784,100)\n",
    "                                                  # b1.shape = (100,)\n",
    "                                                  # a1.shape = (256,100) , w2.shape = (100,10)\n",
    "                                                  # b2.shape = (10,) , a2.shape(256,10)\n",
    "fc.fit(x_train, y_train_encoded, \n",
    "       x_val=x_val, y_val=y_val_encoded, epochs=40)\n",
    "plt.plot(fc.losses)\n",
    "plt.plot(fc.val_losses)\n",
    "plt.ylabel('loss')\n",
    "plt.xlabel('iteration')\n",
    "plt.legend(['train_loss', 'val_loss'])\n",
    "plt.show()"
   ]
  },
  {
   "cell_type": "markdown",
   "metadata": {},
   "source": [
    "### 값 예측하기"
   ]
  },
  {
   "cell_type": "code",
   "execution_count": 140,
   "metadata": {
    "scrolled": true
   },
   "outputs": [
    {
     "name": "stdout",
     "output_type": "stream",
     "text": [
      "(1, 784)\n",
      "예측값: 0\n",
      "티셔츠/윗도리\n",
      "실제값: 6\n",
      "셔츠\n"
     ]
    },
    {
     "data": {
      "image/png": "[encoded data removed]",
      "text/plain": [
       "<Figure size 432x288 with 1 Axes>"
      ]
     },
     "metadata": {
      "needs_background": "light"
     },
     "output_type": "display_data"
    }
   ],
   "source": [
    "index = 4\n",
    "x = x_test[index:index+1].reshape(1,784)\n",
    "print(x.shape)\n",
    "x = x/255.\n",
    "x\n",
    "y_pred = fc.predict(x)\n",
    "print(\"예측값:\", y_pred[0])\n",
    "print(class_names[y_pred[0]])\n",
    "print(\"실제값:\", y_test[index])\n",
    "print(class_names[y_test[index]])\n",
    "plt.imshow(x_test[index], cmap='gray')\n",
    "plt.show()"
   ]
  },
  {
   "cell_type": "markdown",
   "metadata": {},
   "source": [
    "### 모델 평가하기"
   ]
  },
  {
   "cell_type": "code",
   "execution_count": 141,
   "metadata": {},
   "outputs": [
    {
     "name": "stdout",
     "output_type": "stream",
     "text": [
      "0.7997\n"
     ]
    }
   ],
   "source": [
    "x_scaled = x_test/255.\n",
    "y_test_encoded = tf.keras.utils.to_categorical(y_test)\n",
    "x = x_scaled.reshape(-1,784)\n",
    "score = fc.score(x, y_test_encoded)\n",
    "print(score)"
   ]
  },
  {
   "cell_type": "markdown",
   "metadata": {},
   "source": [
    "### 다중 분류 케라스로 구현하기"
   ]
  },
  {
   "cell_type": "code",
   "execution_count": 142,
   "metadata": {},
   "outputs": [
    {
     "name": "stdout",
     "output_type": "stream",
     "text": [
      "Epoch 1/40\n",
      "188/188 [==============================] - 1s 2ms/step - loss: 2.1170 - accuracy: 0.4012 - val_loss: 1.9213 - val_accuracy: 0.5592\n",
      "Epoch 2/40\n",
      "188/188 [==============================] - 0s 2ms/step - loss: 1.7709 - accuracy: 0.6144 - val_loss: 1.6362 - val_accuracy: 0.6357\n",
      "Epoch 3/40\n",
      "188/188 [==============================] - 0s 2ms/step - loss: 1.5274 - accuracy: 0.6623 - val_loss: 1.4309 - val_accuracy: 0.6787\n",
      "Epoch 4/40\n",
      "188/188 [==============================] - 0s 2ms/step - loss: 1.3523 - accuracy: 0.6906 - val_loss: 1.2817 - val_accuracy: 0.7062\n",
      "Epoch 5/40\n",
      "188/188 [==============================] - 0s 2ms/step - loss: 1.2236 - accuracy: 0.7088 - val_loss: 1.1702 - val_accuracy: 0.7140\n",
      "Epoch 6/40\n",
      "188/188 [==============================] - 0s 2ms/step - loss: 1.1263 - accuracy: 0.7181 - val_loss: 1.0847 - val_accuracy: 0.7212\n",
      "Epoch 7/40\n",
      "188/188 [==============================] - 0s 2ms/step - loss: 1.0508 - accuracy: 0.7242 - val_loss: 1.0167 - val_accuracy: 0.7333\n",
      "Epoch 8/40\n",
      "188/188 [==============================] - 0s 2ms/step - loss: 0.9908 - accuracy: 0.7323 - val_loss: 0.9621 - val_accuracy: 0.7378\n",
      "Epoch 9/40\n",
      "188/188 [==============================] - 0s 2ms/step - loss: 0.9421 - accuracy: 0.7366 - val_loss: 0.9175 - val_accuracy: 0.7393\n",
      "Epoch 10/40\n",
      "188/188 [==============================] - 0s 2ms/step - loss: 0.9020 - accuracy: 0.7398 - val_loss: 0.8802 - val_accuracy: 0.7467\n",
      "Epoch 11/40\n",
      "188/188 [==============================] - 0s 2ms/step - loss: 0.8684 - accuracy: 0.7436 - val_loss: 0.8488 - val_accuracy: 0.7497\n",
      "Epoch 12/40\n",
      "188/188 [==============================] - 0s 2ms/step - loss: 0.8399 - accuracy: 0.7470 - val_loss: 0.8218 - val_accuracy: 0.7515\n",
      "Epoch 13/40\n",
      "188/188 [==============================] - 0s 2ms/step - loss: 0.8153 - accuracy: 0.7499 - val_loss: 0.7984 - val_accuracy: 0.7534\n",
      "Epoch 14/40\n",
      "188/188 [==============================] - 0s 2ms/step - loss: 0.7940 - accuracy: 0.7525 - val_loss: 0.7779 - val_accuracy: 0.7569\n",
      "Epoch 15/40\n",
      "188/188 [==============================] - 0s 2ms/step - loss: 0.7753 - accuracy: 0.7559 - val_loss: 0.7598 - val_accuracy: 0.7595\n",
      "Epoch 16/40\n",
      "188/188 [==============================] - 0s 2ms/step - loss: 0.7587 - accuracy: 0.7577 - val_loss: 0.7438 - val_accuracy: 0.7643\n",
      "Epoch 17/40\n",
      "188/188 [==============================] - 0s 2ms/step - loss: 0.7438 - accuracy: 0.7597 - val_loss: 0.7292 - val_accuracy: 0.7668\n",
      "Epoch 18/40\n",
      "188/188 [==============================] - 0s 2ms/step - loss: 0.7304 - accuracy: 0.7619 - val_loss: 0.7161 - val_accuracy: 0.7685\n",
      "Epoch 19/40\n",
      "188/188 [==============================] - 0s 2ms/step - loss: 0.7182 - accuracy: 0.7645 - val_loss: 0.7041 - val_accuracy: 0.7701\n",
      "Epoch 20/40\n",
      "188/188 [==============================] - 0s 2ms/step - loss: 0.7070 - accuracy: 0.7666 - val_loss: 0.6932 - val_accuracy: 0.7736\n",
      "Epoch 21/40\n",
      "188/188 [==============================] - 0s 2ms/step - loss: 0.6968 - accuracy: 0.7687 - val_loss: 0.6831 - val_accuracy: 0.7750\n",
      "Epoch 22/40\n",
      "188/188 [==============================] - 0s 2ms/step - loss: 0.6873 - accuracy: 0.7708 - val_loss: 0.6738 - val_accuracy: 0.7782\n",
      "Epoch 23/40\n",
      "188/188 [==============================] - 0s 2ms/step - loss: 0.6785 - accuracy: 0.7726 - val_loss: 0.6651 - val_accuracy: 0.7799\n",
      "Epoch 24/40\n",
      "188/188 [==============================] - 0s 2ms/step - loss: 0.6703 - accuracy: 0.7752 - val_loss: 0.6569 - val_accuracy: 0.7803\n",
      "Epoch 25/40\n",
      "188/188 [==============================] - 0s 2ms/step - loss: 0.6627 - accuracy: 0.7763 - val_loss: 0.6494 - val_accuracy: 0.7826\n",
      "Epoch 26/40\n",
      "188/188 [==============================] - 0s 2ms/step - loss: 0.6555 - accuracy: 0.7784 - val_loss: 0.6422 - val_accuracy: 0.7847\n",
      "Epoch 27/40\n",
      "188/188 [==============================] - 0s 2ms/step - loss: 0.6486 - accuracy: 0.7804 - val_loss: 0.6353 - val_accuracy: 0.7861\n",
      "Epoch 28/40\n",
      "188/188 [==============================] - 0s 2ms/step - loss: 0.6422 - accuracy: 0.7823 - val_loss: 0.6290 - val_accuracy: 0.7872\n",
      "Epoch 29/40\n",
      "188/188 [==============================] - 0s 2ms/step - loss: 0.6361 - accuracy: 0.7842 - val_loss: 0.6231 - val_accuracy: 0.7902\n",
      "Epoch 30/40\n",
      "188/188 [==============================] - 0s 2ms/step - loss: 0.6303 - accuracy: 0.7856 - val_loss: 0.6172 - val_accuracy: 0.7913\n",
      "Epoch 31/40\n",
      "188/188 [==============================] - 0s 2ms/step - loss: 0.6248 - accuracy: 0.7865 - val_loss: 0.6117 - val_accuracy: 0.7938\n",
      "Epoch 32/40\n",
      "188/188 [==============================] - 0s 2ms/step - loss: 0.6196 - accuracy: 0.7881 - val_loss: 0.6064 - val_accuracy: 0.7950\n",
      "Epoch 33/40\n",
      "188/188 [==============================] - 0s 2ms/step - loss: 0.6145 - accuracy: 0.7899 - val_loss: 0.6014 - val_accuracy: 0.7962\n",
      "Epoch 34/40\n",
      "188/188 [==============================] - 0s 2ms/step - loss: 0.6096 - accuracy: 0.7918 - val_loss: 0.5969 - val_accuracy: 0.7960\n",
      "Epoch 35/40\n",
      "188/188 [==============================] - 0s 2ms/step - loss: 0.6051 - accuracy: 0.7930 - val_loss: 0.5921 - val_accuracy: 0.7988\n",
      "Epoch 36/40\n",
      "188/188 [==============================] - 0s 2ms/step - loss: 0.6006 - accuracy: 0.7944 - val_loss: 0.5875 - val_accuracy: 0.7997\n",
      "Epoch 37/40\n",
      "188/188 [==============================] - 0s 2ms/step - loss: 0.5964 - accuracy: 0.7959 - val_loss: 0.5836 - val_accuracy: 0.8018\n",
      "Epoch 38/40\n",
      "188/188 [==============================] - 0s 2ms/step - loss: 0.5923 - accuracy: 0.7974 - val_loss: 0.5794 - val_accuracy: 0.8028\n",
      "Epoch 39/40\n",
      "188/188 [==============================] - 0s 2ms/step - loss: 0.5884 - accuracy: 0.7989 - val_loss: 0.5754 - val_accuracy: 0.8037\n",
      "Epoch 40/40\n",
      "188/188 [==============================] - 0s 2ms/step - loss: 0.5846 - accuracy: 0.8001 - val_loss: 0.5717 - val_accuracy: 0.8042\n"
     ]
    },
    {
     "data": {
      "image/png": "[encoded data removed]",
      "text/plain": [
       "<Figure size 432x288 with 1 Axes>"
      ]
     },
     "metadata": {
      "needs_background": "light"
     },
     "output_type": "display_data"
    }
   ],
   "source": [
    "from tensorflow.keras import Sequential\n",
    "from tensorflow.keras.layers import Dense\n",
    "model = Sequential()                                             # x.shape = (256,784)\n",
    "model.add(Dense(100, activation='sigmoid', input_shape=(784,)))  # w1.shape = (784,100), b1.shape=(100,)\n",
    "model.add(Dense(10, activation='softmax'))           # a1.shape= (256,100) w2.shape=(100,10), b2.shape=(10,)\n",
    "model.compile(optimizer='sgd', loss='categorical_crossentropy',\n",
    "              metrics=['accuracy'])\n",
    "history = model.fit(x_train, y_train_encoded, epochs=40, batch_size=256,\n",
    "                    validation_data=(x_val, y_val_encoded))\n",
    "plt.plot(history.history['loss'])\n",
    "plt.plot(history.history['val_loss'])\n",
    "plt.ylabel('loss')\n",
    "plt.xlabel('epoch')\n",
    "plt.legend(['train_loss', 'val_loss'])\n",
    "plt.show()"
   ]
  },
  {
   "cell_type": "code",
   "execution_count": 143,
   "metadata": {},
   "outputs": [
    {
     "name": "stdout",
     "output_type": "stream",
     "text": [
      "Model: \"sequential_2\"\n",
      "_________________________________________________________________\n",
      " Layer (type)                Output Shape              Param #   \n",
      "=================================================================\n",
      " dense_4 (Dense)             (None, 100)               78500     \n",
      "                                                                 \n",
      " dense_5 (Dense)             (None, 10)                1010      \n",
      "                                                                 \n",
      "=================================================================\n",
      "Total params: 79,510\n",
      "Trainable params: 79,510\n",
      "Non-trainable params: 0\n",
      "_________________________________________________________________\n"
     ]
    }
   ],
   "source": [
    "model.summary()"
   ]
  },
  {
   "cell_type": "code",
   "execution_count": 144,
   "metadata": {},
   "outputs": [
    {
     "data": {
      "text/plain": [
       "[<tf.Variable 'dense_5/kernel:0' shape=(100, 10) dtype=float32, numpy=\n",
       " array([[-1.31198868e-01, -1.12536795e-01,  3.89462821e-02,\n",
       "          8.18916932e-02, -9.32290256e-02,  2.42202699e-01,\n",
       "         -3.00937831e-01,  3.13360691e-01, -4.27788883e-01,\n",
       "          1.55307688e-02],\n",
       "        [-2.01155320e-01, -5.24129570e-01,  2.36493498e-01,\n",
       "         -4.13243175e-01, -1.61483362e-01, -3.15309167e-02,\n",
       "         -2.38574427e-02,  9.70264599e-02,  1.03839420e-01,\n",
       "          5.37649058e-02],\n",
       "        [ 2.19976649e-01, -4.76381481e-01,  1.04926504e-01,\n",
       "         -3.82122844e-01,  2.80558523e-02, -3.36909205e-01,\n",
       "          8.28986019e-02,  2.76315771e-02,  2.81112731e-01,\n",
       "          6.06369413e-02],\n",
       "        [ 1.73181698e-01,  2.82168716e-01,  4.75385934e-01,\n",
       "         -4.45959270e-01, -2.42181063e-01,  2.37250671e-01,\n",
       "         -4.28770781e-02, -4.68355864e-01, -3.98988515e-01,\n",
       "         -4.92069833e-02],\n",
       "        [-3.75548333e-01, -3.98243785e-01,  3.43026191e-01,\n",
       "          2.30863802e-02, -3.45894545e-02, -2.99541317e-02,\n",
       "          2.82941878e-01, -2.96089023e-01,  8.52903128e-02,\n",
       "          3.15057397e-01],\n",
       "        [ 1.74258664e-01,  7.19357431e-02, -2.04123091e-02,\n",
       "         -4.21605289e-01,  3.18996787e-01, -2.26041764e-01,\n",
       "          3.60776544e-01,  9.19449702e-02, -2.79164195e-01,\n",
       "         -7.46593103e-02],\n",
       "        [ 1.79637656e-01,  3.03500652e-01,  2.03879416e-01,\n",
       "          6.23232350e-02,  7.81472921e-02,  2.45986700e-01,\n",
       "         -3.30487579e-01, -1.38685510e-01,  3.38727891e-01,\n",
       "         -2.03016862e-01],\n",
       "        [ 1.78633109e-01, -1.54972196e-01, -1.92948565e-01,\n",
       "          2.93766350e-01, -1.00063242e-01,  1.30715817e-01,\n",
       "         -1.59898661e-02, -4.04793739e-01,  3.43445456e-03,\n",
       "          2.97242224e-01],\n",
       "        [ 5.23412367e-03,  1.83978632e-01, -4.79436070e-02,\n",
       "         -1.14904366e-01,  1.38335526e-01, -4.64630038e-01,\n",
       "          4.41500992e-02, -3.82947534e-01, -3.80615517e-02,\n",
       "          2.16277242e-01],\n",
       "        [ 1.10359244e-01,  4.04682398e-01, -3.42549264e-01,\n",
       "          1.09332047e-01, -1.59510106e-01,  2.33617663e-01,\n",
       "          1.18320733e-01, -1.21291347e-01,  1.37463644e-01,\n",
       "         -3.40872630e-02],\n",
       "        [ 2.79364794e-01, -3.77904288e-02,  7.18971640e-02,\n",
       "          4.20086265e-01, -2.60132626e-02,  1.50167346e-01,\n",
       "          1.34914517e-01, -3.44594181e-01, -1.57487035e-01,\n",
       "         -2.88421124e-01],\n",
       "        [-2.64762700e-01, -2.83500880e-01,  5.51992655e-02,\n",
       "         -2.88564473e-01, -4.25413281e-01,  4.26747978e-01,\n",
       "         -2.94610053e-01,  1.96751356e-01,  3.16006541e-01,\n",
       "          4.52036560e-01],\n",
       "        [ 2.57301897e-01, -1.34080769e-02,  2.59403408e-01,\n",
       "          7.73891923e-04,  3.25869381e-01, -1.24337815e-01,\n",
       "          2.36720413e-01, -4.09343511e-01, -1.87436361e-02,\n",
       "         -1.72558993e-01],\n",
       "        [-2.31686413e-01,  1.05583889e-03, -4.88437563e-01,\n",
       "         -4.26357448e-01,  1.06376670e-01,  4.45547163e-01,\n",
       "         -1.38253847e-03,  1.63431540e-01,  4.88041401e-01,\n",
       "          4.18206573e-01],\n",
       "        [-1.60985932e-01,  3.12064856e-01, -2.82792039e-02,\n",
       "          1.10211708e-01,  6.66552410e-02,  1.87910542e-01,\n",
       "          7.31846094e-02, -1.93999615e-02, -1.28527725e-04,\n",
       "         -3.69649202e-01],\n",
       "        [ 3.12849194e-01, -3.73309344e-01,  4.22553748e-01,\n",
       "          1.75857410e-01,  2.40619108e-01, -2.40405023e-01,\n",
       "          1.42686024e-01, -6.32706702e-01,  5.14518976e-01,\n",
       "         -5.22670746e-01],\n",
       "        [ 2.12776169e-01, -2.56179184e-01, -1.15397558e-01,\n",
       "         -2.60845691e-01, -7.60574639e-02,  2.86482126e-01,\n",
       "          4.05284435e-01, -3.84049952e-01,  1.19309686e-01,\n",
       "         -3.64558220e-01],\n",
       "        [ 3.75977039e-01, -8.29494968e-02,  2.12949753e-01,\n",
       "          4.48790193e-01,  1.71572924e-01, -2.32090950e-01,\n",
       "          5.52035756e-02, -2.92711765e-01, -3.53731841e-01,\n",
       "         -3.67879182e-01],\n",
       "        [ 1.27845615e-01, -1.78188868e-02, -1.07556909e-01,\n",
       "          5.09228744e-02,  8.90917927e-02,  1.39021158e-01,\n",
       "         -1.28094584e-01,  1.85697928e-01, -1.40175149e-01,\n",
       "         -2.01902930e-02],\n",
       "        [ 3.39659512e-01,  6.66317940e-02,  3.06617558e-01,\n",
       "         -4.90243524e-01, -1.43830227e-02, -2.68557787e-01,\n",
       "         -3.41760442e-02,  1.75808847e-01, -2.50203848e-01,\n",
       "          1.67054608e-01],\n",
       "        [-1.65427044e-01, -4.21508372e-01, -2.11749569e-01,\n",
       "         -2.03807220e-01,  1.71931610e-01,  3.28061551e-01,\n",
       "          4.28288728e-01, -2.69807547e-01,  2.88681358e-01,\n",
       "         -4.47249115e-01],\n",
       "        [-2.44043887e-01, -3.40149939e-01, -1.61530808e-01,\n",
       "         -3.54307294e-01, -1.36210576e-01,  2.50997812e-01,\n",
       "         -1.93016067e-01,  1.58090308e-01, -2.01403663e-01,\n",
       "          2.57933944e-01],\n",
       "        [ 1.87617227e-01,  6.46976233e-01, -3.70520532e-01,\n",
       "         -3.86887640e-01, -6.92832619e-02,  2.10549295e-01,\n",
       "         -2.86008678e-02,  1.95338503e-01, -3.63685310e-01,\n",
       "         -3.56815904e-01],\n",
       "        [-4.40429360e-01, -4.65619057e-01, -3.99907708e-01,\n",
       "         -7.40588978e-02,  5.15927315e-01,  2.25692064e-01,\n",
       "         -9.44053680e-02,  1.89109128e-02,  2.86393315e-01,\n",
       "          2.52504468e-01],\n",
       "        [-6.06532693e-02, -2.03758642e-01,  1.51049748e-01,\n",
       "         -1.08612448e-01, -4.09741014e-01,  2.77064562e-01,\n",
       "         -1.69721805e-02,  2.63365746e-01,  4.37949806e-01,\n",
       "          3.52669656e-02],\n",
       "        [ 1.85098216e-01,  2.32562914e-01, -4.12412763e-01,\n",
       "          4.13282007e-01, -3.19560438e-01, -2.57523000e-01,\n",
       "          2.57312119e-01, -3.68050158e-01,  1.68155715e-01,\n",
       "          3.86279047e-01],\n",
       "        [ 1.48743927e-01, -3.17786455e-01, -2.40565881e-01,\n",
       "          8.57411399e-02, -9.64357704e-02, -1.94807593e-02,\n",
       "         -1.84745371e-01,  3.99669617e-01, -1.91677466e-01,\n",
       "          2.55856603e-01],\n",
       "        [-1.39628842e-01,  1.19984582e-01,  3.69565815e-01,\n",
       "         -3.14020604e-01, -2.02026591e-02, -1.92461371e-01,\n",
       "         -2.70320386e-01, -1.38985947e-01,  4.83430356e-01,\n",
       "         -4.15385991e-01],\n",
       "        [ 2.75082558e-01, -1.34118661e-01, -2.77841210e-01,\n",
       "          4.20399338e-01, -3.28250200e-01, -1.64583728e-01,\n",
       "         -1.21415209e-03, -1.70739871e-02, -1.17576793e-01,\n",
       "         -1.86126947e-01],\n",
       "        [-1.48690660e-02,  3.17402445e-02, -4.98113096e-01,\n",
       "          3.58172596e-01, -2.15067029e-01, -1.16177583e-02,\n",
       "          6.56236932e-02,  1.54775903e-01,  3.87176454e-01,\n",
       "          2.80691177e-01],\n",
       "        [-4.53721821e-01, -3.69392395e-01,  6.73091132e-03,\n",
       "         -2.74164855e-01,  3.37234676e-01, -2.18409821e-01,\n",
       "         -1.94087401e-01,  9.80716646e-02, -1.62717015e-01,\n",
       "          8.85928571e-02],\n",
       "        [-4.50066149e-01,  3.61868404e-02,  2.75396168e-01,\n",
       "          3.44500802e-02,  2.33530506e-01, -2.89598018e-01,\n",
       "          1.65167660e-01, -7.99494088e-02,  1.28084019e-01,\n",
       "          2.66508281e-01],\n",
       "        [-1.04263797e-01, -5.06199837e-01, -2.78828442e-01,\n",
       "          5.59895560e-02,  2.19137147e-01, -1.82673961e-01,\n",
       "          1.00913838e-01, -5.00218524e-03,  3.60631675e-01,\n",
       "          1.90359086e-01],\n",
       "        [ 3.02203119e-01,  1.96881965e-01, -4.90809046e-02,\n",
       "          3.15008581e-01, -4.91203129e-01, -3.35697472e-01,\n",
       "         -5.45467308e-04,  4.68390763e-01, -1.41441166e-01,\n",
       "          1.89479679e-01],\n",
       "        [-1.90815791e-01,  3.38112235e-01,  1.25292182e-01,\n",
       "          3.46189231e-01, -4.02408719e-01,  4.25855905e-01,\n",
       "          1.24159656e-01, -5.96940666e-02, -5.38801514e-02,\n",
       "         -6.53375238e-02],\n",
       "        [ 1.29852012e-01,  1.48249745e-01,  1.83735162e-01,\n",
       "          6.70601502e-02,  1.54957786e-01, -3.71185988e-01,\n",
       "          1.90316036e-01,  2.03878060e-02,  2.96128869e-01,\n",
       "         -3.70766640e-01],\n",
       "        [-4.17431384e-01,  3.61880809e-01,  4.57416534e-01,\n",
       "         -8.94766003e-02,  3.19074154e-01, -2.29829013e-01,\n",
       "          3.11327785e-01, -3.86360198e-01, -2.24560648e-02,\n",
       "         -4.17469800e-01],\n",
       "        [ 6.84131403e-03, -2.52030015e-01, -3.42878520e-01,\n",
       "         -1.55443743e-01, -3.11844647e-01, -7.94033781e-02,\n",
       "         -3.28038573e-01,  2.09942937e-01,  4.05347258e-01,\n",
       "          3.61075193e-01],\n",
       "        [-2.42764782e-02,  2.72862464e-01,  3.94156724e-01,\n",
       "          3.23768467e-01, -1.17050156e-01,  3.75110209e-02,\n",
       "         -2.04647481e-01,  1.73282743e-01, -6.25361805e-04,\n",
       "         -1.35867521e-01],\n",
       "        [ 3.61208946e-01, -2.51873016e-01,  8.58211219e-02,\n",
       "         -1.43265158e-01, -4.69730645e-02,  3.78020644e-01,\n",
       "          4.32687879e-01, -6.11000173e-02, -3.28368753e-01,\n",
       "         -1.99182838e-01],\n",
       "        [-4.31842595e-01,  3.46673205e-02,  2.85815120e-01,\n",
       "         -3.67924780e-01,  3.97908121e-01,  1.16180226e-01,\n",
       "          1.27089381e-01,  3.83628979e-02, -1.43512949e-01,\n",
       "          4.70692962e-02],\n",
       "        [ 3.07777643e-01,  3.49904001e-01, -9.39789861e-02,\n",
       "          2.51008030e-02, -1.39657751e-01,  2.21757680e-01,\n",
       "          3.53187174e-01, -1.34569883e-01, -3.24347824e-01,\n",
       "         -2.41501004e-01],\n",
       "        [-2.90172994e-01,  1.58617646e-01,  3.63800451e-02,\n",
       "          1.46382704e-01,  3.55466396e-01,  3.28700155e-01,\n",
       "         -1.37113944e-01,  3.22101533e-01, -4.44842130e-01,\n",
       "         -3.13009888e-01],\n",
       "        [ 6.71156496e-02, -1.62739784e-01,  3.26673500e-02,\n",
       "          1.37098312e-01, -3.00844312e-01,  3.14419061e-01,\n",
       "         -1.86150655e-01,  4.43236470e-01,  3.10072333e-01,\n",
       "          1.50135010e-02],\n",
       "        [-2.56091245e-02,  3.38335156e-01, -6.37517795e-02,\n",
       "         -2.18271315e-01, -1.08052827e-01,  9.52443779e-02,\n",
       "          2.21098870e-01, -3.03255796e-01, -7.51262717e-03,\n",
       "         -4.65634346e-01],\n",
       "        [ 3.71856272e-01, -3.69356759e-02,  1.20194770e-01,\n",
       "         -1.58826262e-01,  1.52588829e-01,  1.41682655e-01,\n",
       "          6.70604035e-02, -4.51570034e-01,  4.53582495e-01,\n",
       "         -1.33712739e-01],\n",
       "        [-3.11835766e-01, -4.27611768e-02, -1.71111509e-01,\n",
       "          4.97008786e-02, -1.53022781e-01,  1.17330037e-01,\n",
       "         -2.22472385e-01,  3.06298845e-02, -2.21447214e-01,\n",
       "          2.37974867e-01],\n",
       "        [ 3.64964679e-02,  3.83093894e-01,  1.46059513e-01,\n",
       "          3.82886767e-01, -2.29530603e-01, -1.44399241e-01,\n",
       "         -7.13602304e-02, -2.92740196e-01, -3.84582549e-01,\n",
       "         -2.82730430e-01],\n",
       "        [-1.45614445e-01, -2.01613203e-01, -2.79083222e-01,\n",
       "         -1.81138888e-01, -1.76983505e-01,  6.01816297e-01,\n",
       "         -3.24939966e-01,  2.67106682e-01, -1.95557475e-01,\n",
       "          4.77475286e-01],\n",
       "        [ 4.17754471e-01,  4.32442397e-01,  1.66634545e-01,\n",
       "         -1.05919182e-01,  3.73670489e-01, -3.19079340e-01,\n",
       "          3.84879857e-01, -3.73962708e-02, -3.35617781e-01,\n",
       "         -2.88282603e-01],\n",
       "        [-2.39724219e-01, -3.76226485e-01,  4.04597759e-01,\n",
       "          3.63786250e-01, -1.48095757e-01, -2.11524576e-01,\n",
       "          6.27937987e-02,  1.07633747e-01,  1.94334254e-01,\n",
       "         -1.78943485e-01],\n",
       "        [-2.07102254e-01,  3.69030297e-01,  2.36267388e-01,\n",
       "         -7.79208058e-05,  3.29805881e-01,  1.03831217e-01,\n",
       "         -1.62289873e-01,  6.83039427e-02, -9.45547596e-02,\n",
       "         -1.96543708e-01],\n",
       "        [ 1.16458945e-01, -2.73634703e-03,  1.62963733e-01,\n",
       "          1.12883940e-01, -1.55955004e-02, -4.10338521e-01,\n",
       "          1.52558926e-02,  9.21501070e-02,  9.36636925e-02,\n",
       "         -9.61800888e-02],\n",
       "        [ 8.67306665e-02, -5.00390291e-01, -2.10369423e-01,\n",
       "          3.47911902e-02, -1.38214394e-01,  2.94493318e-01,\n",
       "         -2.45651633e-01,  3.86779547e-01,  3.65989469e-02,\n",
       "          1.63252935e-01],\n",
       "        [ 2.11773992e-01, -2.30754644e-01, -5.17476127e-02,\n",
       "         -2.85243541e-01, -4.15828735e-01,  5.23760915e-01,\n",
       "         -5.18669300e-02,  7.62845203e-02, -2.71854132e-01,\n",
       "          3.14112455e-01],\n",
       "        [-2.00835600e-01, -3.93394053e-01,  3.56467366e-02,\n",
       "         -7.32930973e-02,  1.73280120e-01,  3.86586875e-01,\n",
       "          2.37538174e-01,  2.86242604e-01, -2.34325185e-01,\n",
       "          1.73698917e-01],\n",
       "        [-2.54269671e-02,  5.40478081e-02,  5.24622202e-01,\n",
       "         -3.87320399e-01,  1.73318852e-02, -1.31590441e-02,\n",
       "          4.01316173e-02, -4.03180867e-01,  5.73977865e-02,\n",
       "         -4.03023034e-01],\n",
       "        [-2.17647702e-01,  3.87864590e-01, -3.14947724e-01,\n",
       "          2.70036399e-01, -3.82481925e-02, -2.46520206e-01,\n",
       "         -3.33247781e-01,  5.02103865e-01, -4.13106650e-01,\n",
       "          9.88231003e-02],\n",
       "        [ 2.81419694e-01,  4.43005711e-02,  4.08490270e-01,\n",
       "          3.12319010e-01,  1.36365876e-01, -2.71806628e-01,\n",
       "          1.75431490e-01, -3.50036323e-01, -5.26126146e-01,\n",
       "         -3.64866048e-01],\n",
       "        [ 2.70422220e-01,  2.16001809e-01, -2.33678952e-01,\n",
       "         -1.34684399e-01,  3.81718785e-01, -1.72222689e-01,\n",
       "         -1.05320886e-01, -1.70026124e-01, -2.04238623e-01,\n",
       "         -4.87327516e-01],\n",
       "        [ 5.14236279e-02, -3.40295732e-02, -1.55893296e-01,\n",
       "          1.21907875e-01, -3.24280232e-01,  5.12203097e-01,\n",
       "          6.77773878e-02,  3.27241719e-01, -1.54351830e-01,\n",
       "         -3.15000921e-01],\n",
       "        [-5.69922090e-01, -2.88403094e-01,  1.30079269e-01,\n",
       "          2.63867438e-01,  4.73993987e-01,  3.90016995e-02,\n",
       "         -3.03495079e-01,  2.69748211e-01,  1.42808408e-01,\n",
       "          1.62417859e-01],\n",
       "        [-2.99834609e-01,  2.00993985e-01,  1.88699841e-01,\n",
       "         -3.09228033e-01,  1.90717161e-01, -3.19080532e-01,\n",
       "         -2.38644809e-01, -5.83859384e-02,  2.79609412e-02,\n",
       "          2.70932555e-01],\n",
       "        [-3.40749621e-01, -3.25087123e-02, -1.01112098e-01,\n",
       "          1.12142771e-01,  5.80008104e-02,  4.04522829e-02,\n",
       "          4.98728380e-02,  1.33764684e-01, -3.85078102e-01,\n",
       "         -1.96253911e-01],\n",
       "        [ 4.43428010e-01, -5.16436160e-01, -2.79454231e-01,\n",
       "         -2.12119818e-01, -5.29958963e-01,  4.54252772e-03,\n",
       "          1.55345112e-01,  8.82225186e-02,  3.46217453e-01,\n",
       "         -3.23551744e-01],\n",
       "        [-2.78398335e-01,  2.78635800e-01,  1.53994456e-01,\n",
       "         -2.20666230e-01, -1.97804585e-01,  2.87479430e-01,\n",
       "         -1.70474023e-01,  5.19188821e-01,  2.42853314e-01,\n",
       "         -2.88986415e-01],\n",
       "        [ 1.11119794e-02,  5.69625020e-01, -2.63852000e-01,\n",
       "         -1.85389906e-01, -2.24124193e-01,  7.83984959e-02,\n",
       "         -2.31160134e-01,  2.50427812e-01, -2.45960489e-01,\n",
       "         -5.57097197e-02],\n",
       "        [-2.16546550e-01, -3.60809982e-01, -8.10324773e-02,\n",
       "         -1.76692754e-01, -2.22280230e-02,  5.82646966e-01,\n",
       "         -1.98393926e-01, -1.52937904e-01,  6.08176470e-01,\n",
       "         -2.16127232e-01],\n",
       "        [ 1.45936325e-01,  1.69619396e-01,  1.91065684e-01,\n",
       "          3.13334703e-01, -3.43639195e-01, -1.86902672e-01,\n",
       "          3.56625736e-01,  8.73004347e-02, -3.70790972e-03,\n",
       "         -1.43174291e-01],\n",
       "        [ 4.38115239e-01, -4.69498277e-01, -3.03109944e-01,\n",
       "          4.02406126e-01, -3.51691842e-01, -1.82713345e-02,\n",
       "         -6.28109649e-02,  1.71957654e-03,  4.35763597e-01,\n",
       "         -4.73109707e-02],\n",
       "        [-8.46110806e-02, -2.33685061e-01,  1.77109435e-01,\n",
       "          4.94377792e-01,  1.81900024e-01, -1.29171386e-01,\n",
       "          5.04666328e-01, -4.32404786e-01, -3.12277496e-01,\n",
       "         -3.05863321e-01],\n",
       "        [ 2.53309071e-01,  8.90104324e-02,  2.63223082e-01,\n",
       "         -1.02850460e-01, -2.80743480e-01,  1.01599969e-01,\n",
       "         -1.96490675e-01,  2.60313123e-01, -2.62160540e-01,\n",
       "          2.92075813e-01],\n",
       "        [ 4.83307727e-02,  3.98941904e-01, -9.46437046e-02,\n",
       "          2.62749791e-01, -2.53310114e-01,  2.73697972e-02,\n",
       "         -2.80109823e-01,  3.38733313e-03, -1.81801319e-01,\n",
       "         -2.34590158e-01],\n",
       "        [-4.41339612e-02, -2.97104359e-01,  3.51848274e-01,\n",
       "         -3.05220276e-01, -7.75291100e-02, -2.96454698e-01,\n",
       "          3.43214542e-01, -4.67174411e-01, -6.35255128e-02,\n",
       "          3.04233611e-01],\n",
       "        [ 3.33356321e-01,  3.34003985e-01, -2.64968839e-03,\n",
       "          4.90480959e-01,  1.77357450e-01, -4.81609881e-01,\n",
       "          1.36512354e-01, -5.21516502e-01, -2.60286123e-01,\n",
       "         -2.49020293e-01],\n",
       "        [ 1.16614707e-01, -4.29513097e-01, -6.21413141e-02,\n",
       "          1.37486666e-01,  3.44039023e-01, -1.51876062e-01,\n",
       "         -8.34225491e-02, -1.29962087e-01,  2.38106623e-01,\n",
       "         -4.90733087e-02],\n",
       "        [ 3.08464587e-01, -2.69137174e-01,  2.16470435e-01,\n",
       "         -2.96885312e-01,  4.73796716e-03,  1.40992269e-01,\n",
       "          2.87336797e-01,  1.58121049e-01,  3.51893902e-01,\n",
       "         -1.76500455e-01],\n",
       "        [ 3.25240403e-01,  7.57996961e-02, -1.41636029e-01,\n",
       "         -1.00455076e-01, -3.08137298e-01, -1.48259982e-01,\n",
       "         -1.51729524e-01, -2.17158020e-01, -1.61776319e-01,\n",
       "          1.73599944e-01],\n",
       "        [-5.10416389e-01, -3.59995365e-01, -2.96969384e-01,\n",
       "          1.43692046e-01,  4.49680835e-01,  9.40753240e-03,\n",
       "         -3.25054638e-02,  3.92530769e-01,  3.09857398e-01,\n",
       "         -2.88432628e-01],\n",
       "        [-4.01816905e-01,  1.71238333e-01,  3.56079489e-02,\n",
       "         -7.20649362e-02, -8.84873942e-02,  2.30173081e-01,\n",
       "          6.92115799e-02,  3.30024123e-01, -4.10317779e-01,\n",
       "          3.78211647e-01],\n",
       "        [ 1.73048094e-01,  2.18230873e-01, -1.81403056e-01,\n",
       "         -3.04815590e-01, -3.32014740e-01,  3.64896618e-02,\n",
       "         -1.07679762e-01,  4.85993296e-01, -3.91139090e-02,\n",
       "         -4.01623398e-02],\n",
       "        [ 2.57467330e-01, -5.08645773e-02,  1.52275205e-01,\n",
       "          2.74518371e-01,  2.75132865e-01, -2.38917977e-01,\n",
       "          2.45385058e-02, -1.89208128e-02,  1.57525092e-01,\n",
       "         -3.83250475e-01],\n",
       "        [-6.25666976e-02,  1.19166024e-01,  9.38928574e-02,\n",
       "         -1.19773060e-01,  3.70401859e-01,  1.12508543e-01,\n",
       "          2.81764299e-01, -5.57366192e-01,  9.54655707e-02,\n",
       "          6.41444921e-02],\n",
       "        [-4.12085801e-01,  1.89517692e-01, -1.76209316e-01,\n",
       "          5.07673100e-02,  4.77658771e-02,  6.40093014e-02,\n",
       "         -3.99313450e-01,  3.46961349e-01, -3.52586269e-01,\n",
       "          5.99573134e-03],\n",
       "        [-4.02633816e-01,  4.37516958e-01, -1.76392451e-01,\n",
       "         -5.51769044e-03,  1.39727967e-03,  4.44209248e-01,\n",
       "          7.43735507e-02, -2.05569580e-01,  7.36824274e-02,\n",
       "         -2.37931728e-01],\n",
       "        [-1.22929111e-01, -1.38073461e-02, -2.95325052e-02,\n",
       "          8.79713371e-02,  4.41009700e-01, -2.02969462e-01,\n",
       "         -9.90165845e-02, -9.59849264e-03, -4.72891152e-01,\n",
       "          3.03182095e-01],\n",
       "        [ 2.63886094e-01,  2.70766795e-01, -4.13605690e-01,\n",
       "          3.49137098e-01, -3.62911999e-01,  1.27635494e-01,\n",
       "         -3.42951268e-01, -3.52319889e-02, -7.90750608e-02,\n",
       "          3.08451980e-01],\n",
       "        [ 1.92228898e-01,  3.54828835e-01, -2.47447237e-01,\n",
       "          4.32283610e-01,  2.03378856e-01, -3.43512408e-02,\n",
       "          2.53422260e-01, -8.94288197e-02, -4.31022316e-01,\n",
       "         -3.86159152e-01],\n",
       "        [ 2.36846372e-01, -2.31662527e-01, -4.37749736e-03,\n",
       "         -4.63299267e-02, -2.54521698e-01,  5.57060093e-02,\n",
       "         -2.93978062e-02, -2.09107116e-01,  1.84742838e-01,\n",
       "          3.18048149e-01],\n",
       "        [-1.61598295e-01,  2.27142990e-01, -2.70982653e-01,\n",
       "          5.23195975e-02,  2.45180726e-01,  4.15880978e-01,\n",
       "          2.17659384e-01, -1.84732407e-01,  4.16644290e-02,\n",
       "         -7.24157989e-02],\n",
       "        [-3.81323010e-01, -2.39038989e-01, -8.15752223e-02,\n",
       "          1.41708910e-01, -3.50834876e-01,  9.01882797e-02,\n",
       "          2.44597316e-01,  2.99374253e-01,  4.29890692e-01,\n",
       "          1.08274706e-01],\n",
       "        [ 2.50711083e-01, -1.94959715e-01, -3.07823390e-01,\n",
       "          1.59457132e-01,  1.67581961e-01,  2.64127627e-02,\n",
       "          3.22477758e-01, -2.07590833e-02,  4.14237291e-01,\n",
       "         -4.19952631e-01],\n",
       "        [ 3.54485661e-02,  3.48472834e-01,  2.25201454e-02,\n",
       "          2.55554885e-01, -6.54787272e-02, -4.72506016e-01,\n",
       "         -1.46330833e-01,  1.62089705e-01, -4.55912590e-01,\n",
       "          2.29441300e-01],\n",
       "        [ 2.90598292e-02,  3.90497416e-01, -3.43970865e-01,\n",
       "         -1.61274105e-01,  9.99439694e-03,  6.03373110e-01,\n",
       "         -3.20744246e-01,  1.22376814e-01, -3.01528238e-02,\n",
       "         -2.22140387e-01],\n",
       "        [-1.99134007e-01,  1.65361688e-01,  1.02178112e-01,\n",
       "          4.15726572e-01, -2.94982374e-01,  2.53616989e-01,\n",
       "         -2.97931135e-01,  3.34002703e-01, -4.71543185e-02,\n",
       "         -4.04410273e-01],\n",
       "        [-6.90820664e-02, -1.65222660e-01, -1.25122577e-01,\n",
       "         -1.20520264e-01, -4.02023822e-01,  3.99012923e-01,\n",
       "         -6.83553815e-02, -3.61537069e-01, -2.44712859e-01,\n",
       "          1.84916154e-01],\n",
       "        [ 2.45097011e-01, -2.41703734e-01, -1.08809374e-01,\n",
       "         -1.48372203e-01, -4.83802795e-01,  2.89978862e-01,\n",
       "          2.18012556e-01,  3.71076018e-01, -1.59640044e-01,\n",
       "          7.30796605e-02],\n",
       "        [ 2.61827976e-01, -2.21342325e-01,  3.29821944e-01,\n",
       "          2.32899133e-02, -8.89769644e-02,  4.87314820e-01,\n",
       "          9.58780944e-02, -2.42447689e-01, -4.90406714e-02,\n",
       "         -1.85495511e-01],\n",
       "        [-2.29760692e-01,  4.37108606e-01, -3.96833777e-01,\n",
       "         -4.82971162e-01,  1.47570461e-01,  5.30734956e-01,\n",
       "         -3.47787328e-02, -1.33103386e-01, -2.65167773e-01,\n",
       "          3.37318182e-01],\n",
       "        [ 4.77211207e-01, -1.42737508e-01,  9.96206850e-02,\n",
       "         -3.80352229e-01, -2.40809545e-01, -1.66352242e-01,\n",
       "         -2.16456175e-01,  6.13792129e-02, -1.72730550e-01,\n",
       "          4.36825544e-01]], dtype=float32)>,\n",
       " <tf.Variable 'dense_5/bias:0' shape=(10,) dtype=float32, numpy=\n",
       " array([ 0.01259766, -0.05669224, -0.0224962 ,  0.00293482, -0.00303981,\n",
       "         0.1014244 ,  0.04502282, -0.04512712,  0.00261275, -0.03723718],\n",
       "       dtype=float32)>]"
      ]
     },
     "execution_count": 144,
     "metadata": {},
     "output_type": "execute_result"
    }
   ],
   "source": [
    "# dir(model)\n",
    "model.layers\n",
    "# dir(model.layers[0])\n",
    "model.layers[0].weights\n",
    "model.layers[1].weights"
   ]
  },
  {
   "cell_type": "code",
   "execution_count": 145,
   "metadata": {},
   "outputs": [
    {
     "data": {
      "image/png": "[encoded data removed]",
      "text/plain": [
       "<Figure size 432x288 with 1 Axes>"
      ]
     },
     "metadata": {
      "needs_background": "light"
     },
     "output_type": "display_data"
    }
   ],
   "source": [
    "plt.plot(history.history['accuracy'])\n",
    "plt.plot(history.history['val_accuracy'])\n",
    "plt.ylabel('accuracy')\n",
    "plt.xlabel('epoch')\n",
    "plt.legend(['train_accuracy', 'val_accuracy'])\n",
    "plt.show()"
   ]
  },
  {
   "cell_type": "code",
   "execution_count": 146,
   "metadata": {
    "scrolled": false
   },
   "outputs": [
    {
     "name": "stdout",
     "output_type": "stream",
     "text": [
      "0.8041666746139526\n"
     ]
    }
   ],
   "source": [
    "loss, accuracy = model.evaluate(x_val, y_val_encoded, verbose=0)\n",
    "print(accuracy)"
   ]
  },
  {
   "cell_type": "code",
   "execution_count": null,
   "metadata": {},
   "outputs": [],
   "source": []
  }
 ],
 "metadata": {
  "kernelspec": {
   "display_name": "Python 3 (ipykernel)",
   "language": "python",
   "name": "python3"
  },
  "language_info": {
   "codemirror_mode": {
    "name": "ipython",
    "version": 3
   },
   "file_extension": ".py",
   "mimetype": "text/x-python",
   "name": "python",
   "nbconvert_exporter": "python",
   "pygments_lexer": "ipython3",
   "version": "3.9.7"
  }
 },
 "nbformat": 4,
 "nbformat_minor": 4
}
