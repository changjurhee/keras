{
 "cells": [
  {
   "cell_type": "markdown",
   "metadata": {
    "id": "DSPCom-KmApV"
   },
   "source": [
    "# 프로젝트 샘플 파일"
   ]
  },
  {
   "cell_type": "markdown",
   "metadata": {
    "id": "m7KBpffWzlxH"
   },
   "source": [
    "### 텐서플로 임포트하기"
   ]
  },
  {
   "cell_type": "code",
   "execution_count": 1,
   "metadata": {
    "execution": {
     "iopub.execute_input": "2020-09-23T06:56:39.022990Z",
     "iopub.status.busy": "2020-09-23T06:56:39.022356Z",
     "iopub.status.idle": "2020-09-23T06:57:06.685299Z",
     "shell.execute_reply": "2020-09-23T06:57:06.684568Z"
    },
    "id": "iAve6DCL4JH4"
   },
   "outputs": [],
   "source": [
    "import tensorflow as tf\n",
    "from tensorflow.keras import datasets, layers, models"
   ]
  },
  {
   "cell_type": "markdown",
   "metadata": {
    "id": "jRFxccghyMVo"
   },
   "source": [
    "### MNIST 데이터셋 다운로드하고 준비하기"
   ]
  },
  {
   "cell_type": "code",
   "execution_count": 2,
   "metadata": {
    "execution": {
     "iopub.execute_input": "2020-09-23T06:57:06.690956Z",
     "iopub.status.busy": "2020-09-23T06:57:06.690276Z",
     "iopub.status.idle": "2020-09-23T06:57:07.160450Z",
     "shell.execute_reply": "2020-09-23T06:57:07.161087Z"
    },
    "id": "JWoEqyMuXFF4"
   },
   "outputs": [],
   "source": [
    "(train_images, train_labels), (test_images, test_labels) = datasets.mnist.load_data()\n",
    "\n",
    "train_images = train_images.reshape((60000, 28, 28, 1))\n",
    "test_images = test_images.reshape((10000, 28, 28, 1))\n",
    "\n",
    "# 픽셀 값을 0~1 사이로 정규화합니다.\n",
    "train_images, test_images = train_images / 255.0, test_images / 255.0"
   ]
  },
  {
   "cell_type": "markdown",
   "metadata": {
    "id": "Oewp-wYg31t9"
   },
   "source": [
    "### 합성곱 층 만들기\n",
    "\n",
    "아래 model.summary() 의 출력을 참조하여 모델을 구현한다.   \n",
    "단, 모델은  함수형 API를 이용하여 구현한다."
   ]
  },
  {
   "cell_type": "code",
   "execution_count": 4,
   "metadata": {
    "execution": {
     "iopub.execute_input": "2020-09-23T06:57:07.170183Z",
     "iopub.status.busy": "2020-09-23T06:57:07.169467Z",
     "iopub.status.idle": "2020-09-23T06:57:08.142814Z",
     "shell.execute_reply": "2020-09-23T06:57:08.142205Z"
    },
    "id": "L9YmGQBQPrdn"
   },
   "outputs": [],
   "source": []
  },
  {
   "cell_type": "code",
   "execution_count": 5,
   "metadata": {
    "execution": {
     "iopub.execute_input": "2020-09-23T06:57:08.192358Z",
     "iopub.status.busy": "2020-09-23T06:57:08.191142Z",
     "iopub.status.idle": "2020-09-23T06:57:08.197184Z",
     "shell.execute_reply": "2020-09-23T06:57:08.196695Z"
    },
    "id": "8Yu_m-TZUWGX"
   },
   "outputs": [
    {
     "name": "stdout",
     "output_type": "stream",
     "text": [
      "Model: \"sequential_1\"\n",
      "_________________________________________________________________\n",
      " Layer (type)                Output Shape              Param #   \n",
      "=================================================================\n",
      " conv2d_3 (Conv2D)           (None, 26, 26, 32)        320       \n",
      "                                                                 \n",
      " max_pooling2d_2 (MaxPooling  (None, 13, 13, 32)       0         \n",
      " 2D)                                                             \n",
      "                                                                 \n",
      " conv2d_4 (Conv2D)           (None, 11, 11, 64)        18496     \n",
      "                                                                 \n",
      " max_pooling2d_3 (MaxPooling  (None, 5, 5, 64)         0         \n",
      " 2D)                                                             \n",
      "                                                                 \n",
      " conv2d_5 (Conv2D)           (None, 3, 3, 64)          36928     \n",
      "                                                                 \n",
      " flatten (Flatten)           (None, 576)               0         \n",
      "                                                                 \n",
      " dense (Dense)               (None, 64)                36928     \n",
      "                                                                 \n",
      " dense_1 (Dense)             (None, 10)                650       \n",
      "                                                                 \n",
      "=================================================================\n",
      "Total params: 93,322\n",
      "Trainable params: 93,322\n",
      "Non-trainable params: 0\n",
      "_________________________________________________________________\n"
     ]
    }
   ],
   "source": [
    "model.summary()"
   ]
  },
  {
   "cell_type": "markdown",
   "metadata": {
    "id": "P3odqfHP4M67"
   },
   "source": [
    "### 모델 컴파일과 훈련하기 \n",
    "\n",
    "아래 셀에 model.compile 및 model.fit을 구현한다."
   ]
  },
  {
   "cell_type": "code",
   "execution_count": null,
   "metadata": {
    "execution": {
     "iopub.execute_input": "2020-09-23T06:57:08.205872Z",
     "iopub.status.busy": "2020-09-23T06:57:08.203270Z",
     "iopub.status.idle": "2020-09-23T06:59:03.961533Z",
     "shell.execute_reply": "2020-09-23T06:59:03.962085Z"
    },
    "id": "MdDzI75PUXrG",
    "scrolled": false
   },
   "outputs": [],
   "source": []
  },
  {
   "cell_type": "markdown",
   "metadata": {},
   "source": [
    "### 정확도 그래프 그리기 \n",
    "\n",
    "아래 셀에 train과 val의 정확도 그래프를 그린다."
   ]
  },
  {
   "cell_type": "code",
   "execution_count": null,
   "metadata": {},
   "outputs": [],
   "source": []
  },
  {
   "cell_type": "markdown",
   "metadata": {
    "id": "jKgyC5K_4O0d"
   },
   "source": [
    "### 모델 평가 - 아래 셀에 모델 평가 코드를 구현한다."
   ]
  },
  {
   "cell_type": "code",
   "execution_count": null,
   "metadata": {
    "execution": {
     "iopub.execute_input": "2020-09-23T06:59:03.969095Z",
     "iopub.status.busy": "2020-09-23T06:59:03.967495Z",
     "iopub.status.idle": "2020-09-23T06:59:05.515116Z",
     "shell.execute_reply": "2020-09-23T06:59:05.515662Z"
    },
    "id": "gtyDF0MKUcM7"
   },
   "outputs": [],
   "source": []
  },
  {
   "cell_type": "code",
   "execution_count": 8,
   "metadata": {
    "execution": {
     "iopub.execute_input": "2020-09-23T06:59:05.519960Z",
     "iopub.status.busy": "2020-09-23T06:59:05.519273Z",
     "iopub.status.idle": "2020-09-23T06:59:05.521475Z",
     "shell.execute_reply": "2020-09-23T06:59:05.522012Z"
    },
    "id": "0LvwaKhtUdOo"
   },
   "outputs": [
    {
     "name": "stdout",
     "output_type": "stream",
     "text": [
      "0.9894000291824341\n"
     ]
    }
   ],
   "source": [
    "print(test_acc)"
   ]
  }
 ],
 "metadata": {
  "accelerator": "GPU",
  "colab": {
   "collapsed_sections": [],
   "name": "cnn.ipynb",
   "toc_visible": true
  },
  "kernelspec": {
   "display_name": "Python 3 (ipykernel)",
   "language": "python",
   "name": "python3"
  },
  "language_info": {
   "codemirror_mode": {
    "name": "ipython",
    "version": 3
   },
   "file_extension": ".py",
   "mimetype": "text/x-python",
   "name": "python",
   "nbconvert_exporter": "python",
   "pygments_lexer": "ipython3",
   "version": "3.9.7"
  }
 },
 "nbformat": 4,
 "nbformat_minor": 1
}
